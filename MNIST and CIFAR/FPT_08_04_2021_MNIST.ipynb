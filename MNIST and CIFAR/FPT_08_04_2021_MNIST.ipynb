{
  "nbformat": 4,
  "nbformat_minor": 0,
  "metadata": {
    "colab": {
      "name": "FPT_08_04_2021_part_3.3.ipynb",
      "provenance": [],
      "collapsed_sections": [],
      "toc_visible": true
    },
    "kernelspec": {
      "display_name": "Python 3",
      "name": "python3"
    },
    "accelerator": "GPU"
  },
  "cells": [
    {
      "cell_type": "code",
      "metadata": {
        "id": "9g1sex7ClvsT"
      },
      "source": [
        ""
      ],
      "execution_count": 2,
      "outputs": []
    },
    {
      "cell_type": "markdown",
      "metadata": {
        "id": "LeRRwsCaW8rN"
      },
      "source": [
        "# Dataset"
      ]
    },
    {
      "cell_type": "code",
      "metadata": {
        "id": "-uon0ae4W3vt"
      },
      "source": [
        "class Dataset:\n",
        "\n",
        "    def __init__(self, device='cpu'):\n",
        "        self.device = device\n",
        "        self._ind = 0\n",
        "\n",
        "    def get_batch(self, batch_size, train=True):\n",
        "        x, y = self.get_batch_np(batch_size, train=train)\n",
        "        x = torch.from_numpy(x).to(device=self.device, dtype=torch.float32)\n",
        "        y = torch.from_numpy(y).to(device=self.device, dtype=torch.long)\n",
        "        self._ind += 1\n",
        "        return x, y\n",
        "\n",
        "    def get_batch_np(self, batch_size, train):\n",
        "        raise NotImplementedError\n",
        "\n",
        "    def start_epoch(self):\n",
        "        self._ind = 0"
      ],
      "execution_count": 3,
      "outputs": []
    },
    {
      "cell_type": "code",
      "metadata": {
        "id": "nkGLbZCeXbcF"
      },
      "source": [
        "#pip install einops"
      ],
      "execution_count": 7,
      "outputs": []
    },
    {
      "cell_type": "code",
      "metadata": {
        "id": "Zs1v6dJ-XHos"
      },
      "source": [
        "from einops import rearrange\n",
        "from torch.utils.data import DataLoader\n",
        "import torchvision\n",
        "import torchvision.transforms as transforms\n"
      ],
      "execution_count": 49,
      "outputs": []
    },
    {
      "cell_type": "code",
      "metadata": {
        "id": "aZ0NRF4bXGCJ"
      },
      "source": [
        "class MNISTDataset(Dataset):\n",
        "\n",
        "    def __init__(self, batch_size, patch_size=None, *args, **kwargs):\n",
        "        super().__init__(*args, **kwargs)\n",
        "\n",
        "        self.batch_size = batch_size  # we fix it so we can use dataloader\n",
        "        self.patch_size = patch_size  # grid of (patch_size x patch_size)\n",
        "\n",
        "        transform = transforms.Compose([\n",
        "            transforms.ToTensor(),\n",
        "            transforms.Normalize(mean=0., std=1.),\n",
        "        ])\n",
        "\n",
        "        self.d_train = DataLoader(\n",
        "            torchvision.datasets.MNIST('data/mnist', download=True, train=True, transform=transform),\n",
        "            batch_size=batch_size, drop_last=True, shuffle=True,\n",
        "        )\n",
        "        self.d_test = DataLoader(\n",
        "            torchvision.datasets.MNIST('data/mnist', download=True, train=False, transform=transform),\n",
        "            batch_size=batch_size, drop_last=True, shuffle=True,\n",
        "        )\n",
        "\n",
        "        self.train_enum = enumerate(self.d_train)\n",
        "        self.test_enum = enumerate(self.d_test)\n",
        "\n",
        "    def get_batch(self, batch_size=None, train=True):\n",
        "        if train:\n",
        "            _, (x, y) = next(self.train_enum, (None, (None, None)))\n",
        "            if x is None:\n",
        "                self.train_enum = enumerate(self.d_train)\n",
        "                _, (x, y) = next(self.train_enum)\n",
        "        else:\n",
        "            _, (x, y) = next(self.test_enum, (None, (None, None)))\n",
        "            if x is None:\n",
        "                self.test_enum = enumerate(self.d_test)\n",
        "                _, (x, y) = next(self.test_enum)\n",
        "\n",
        "        if self.patch_size is not None:\n",
        "            x = rearrange(x, 'b c (h p1) (w p2) -> b (h w) (p1 p2 c)', p1=self.patch_size, p2=self.patch_size)\n",
        "\n",
        "        x = x.to(device=self.device)\n",
        "        y = y.to(device=self.device)\n",
        "\n",
        "        self._ind += 1\n",
        "\n",
        "        return x, y"
      ],
      "execution_count": 9,
      "outputs": []
    },
    {
      "cell_type": "code",
      "metadata": {
        "id": "MwFDZtmImusC"
      },
      "source": [
        ""
      ],
      "execution_count": null,
      "outputs": []
    },
    {
      "cell_type": "code",
      "metadata": {
        "id": "2DS5PltymuuW"
      },
      "source": [
        ""
      ],
      "execution_count": null,
      "outputs": []
    },
    {
      "cell_type": "markdown",
      "metadata": {
        "id": "j0i7wzbPVPYn"
      },
      "source": [
        "# I - FPT - Universal Computation"
      ]
    },
    {
      "cell_type": "code",
      "metadata": {
        "id": "3gI2FMdYVLyW"
      },
      "source": [
        "import torch\n",
        "import torch.nn as nn"
      ],
      "execution_count": 10,
      "outputs": []
    },
    {
      "cell_type": "code",
      "metadata": {
        "id": "fQ9h6ZthU-Uv"
      },
      "source": [
        "class FPT(nn.Module):\n",
        "\n",
        "    def __init__(\n",
        "            self,\n",
        "            input_dim,\n",
        "            output_dim,\n",
        "            model_name='gpt2',\n",
        "            pretrained=False,\n",
        "            return_last_only=True,\n",
        "            use_embeddings_for_in=False,\n",
        "            in_layer_sizes=None,\n",
        "            out_layer_sizes=None,\n",
        "            freeze_trans=True,\n",
        "            freeze_in=False,\n",
        "            freeze_pos=False,\n",
        "            freeze_ln=False,\n",
        "            freeze_attn=True,\n",
        "            freeze_ff=True,\n",
        "            freeze_out=False,\n",
        "            dropout=0.1,\n",
        "            orth_gain=1.41,\n",
        "    ):\n",
        "        super().__init__()\n",
        "\n",
        "        self.input_dim = input_dim\n",
        "        self.output_dim = output_dim\n",
        "        self.model_name = model_name\n",
        "        self.return_last_only = return_last_only\n",
        "        self.use_embeddings_for_in = use_embeddings_for_in\n",
        "\n",
        "        self.in_layer_sizes = [] if in_layer_sizes is None else in_layer_sizes\n",
        "        self.out_layer_sizes = [] if out_layer_sizes is None else out_layer_sizes\n",
        "        self.dropout = dropout\n",
        "\n",
        "        if 'gpt' in model_name:\n",
        "            assert model_name in ['gpt2', 'gpt2-medium', 'gpt2-large', 'gpt2-xl']\n",
        "\n",
        "            from transformers import GPT2Model\n",
        "\n",
        "            pretrained_transformer = GPT2Model.from_pretrained(model_name)\n",
        "            if pretrained:\n",
        "                self.transformer = pretrained_transformer\n",
        "            else:\n",
        "                self.transformer = GPT2Model(pretrained_transformer.config)\n",
        "\n",
        "            if model_name == 'gpt2':\n",
        "                embedding_size = 768\n",
        "            elif model_name == 'gpt2-medium':\n",
        "                embedding_size = 1024\n",
        "            elif model_name == 'gpt2-large':\n",
        "                embedding_size = 1280\n",
        "            elif model_name == 'gpt2-xl':\n",
        "                embedding_size = 1600\n",
        "\n",
        "        else:\n",
        "            raise NotImplementedError('model_name not implemented')\n",
        "\n",
        "        if use_embeddings_for_in:\n",
        "            self.in_net = nn.Embedding(input_dim, embedding_size)\n",
        "        else:\n",
        "            in_layers = []\n",
        "            last_output_size = input_dim\n",
        "            for size in self.in_layer_sizes:\n",
        "                layer = nn.Linear(last_output_size, size)\n",
        "                if orth_gain is not None:\n",
        "                    torch.nn.init.orthogonal_(layer.weight, gain=orth_gain)\n",
        "                layer.bias.data.zero_()\n",
        "\n",
        "                in_layers.append(layer)\n",
        "                in_layers.append(nn.ReLU())\n",
        "                in_layers.append(nn.Dropout(dropout))\n",
        "                last_output_size = size\n",
        "\n",
        "            final_linear = nn.Linear(last_output_size, embedding_size)\n",
        "            if orth_gain is not None:\n",
        "                torch.nn.init.orthogonal_(final_linear.weight, gain=orth_gain)\n",
        "            final_linear.bias.data.zero_()\n",
        "\n",
        "            in_layers.append(final_linear)\n",
        "            in_layers.append(nn.Dropout(dropout))\n",
        "\n",
        "            self.in_net = nn.Sequential(*in_layers)\n",
        "\n",
        "        out_layers = []\n",
        "        last_output_size = embedding_size\n",
        "        for size in self.out_layer_sizes:\n",
        "            out_layers.append(nn.Linear(last_output_size, size))\n",
        "            out_layers.append(nn.ReLU())\n",
        "            out_layers.append(nn.Dropout(dropout))\n",
        "            last_output_size = size\n",
        "        out_layers.append(nn.Linear(last_output_size, output_dim))\n",
        "        self.out_net = nn.Sequential(*out_layers)\n",
        "\n",
        "        if freeze_trans:\n",
        "            for name, p in self.transformer.named_parameters():\n",
        "                name = name.lower()\n",
        "                if 'ln' in name:\n",
        "                    p.requires_grad = not freeze_ln\n",
        "                elif 'wpe' in name:\n",
        "                    p.requires_grad = not freeze_pos\n",
        "                elif 'mlp' in name:\n",
        "                    p.requires_grad = not freeze_ff\n",
        "                elif 'attn' in name:\n",
        "                    p.requires_grad = not freeze_attn\n",
        "                else:\n",
        "                    p.requires_grad = False\n",
        "        if freeze_in:\n",
        "            for p in self.in_net.parameters():\n",
        "                p.requires_grad = False\n",
        "        if freeze_out:\n",
        "            for p in self.out_net.parameters():\n",
        "                p.requires_grad = False\n",
        "\n",
        "    def forward(self, x, output_attentions=False):\n",
        "\n",
        "        orig_dim = x.shape[-1]\n",
        "        if orig_dim != self.input_dim and not self.use_embeddings_for_in:\n",
        "            if orig_dim % self.input_dim != 0:\n",
        "                raise ValueError('dimension of x must be divisible by patch size')\n",
        "            ratio = orig_dim // self.input_dim\n",
        "            x = x.reshape(x.shape[0], x.shape[1] * ratio, self.input_dim)\n",
        "        else:\n",
        "            ratio = 1\n",
        "\n",
        "        x = self.in_net(x)\n",
        "\n",
        "        transformer_outputs = self.transformer(\n",
        "            inputs_embeds=x,\n",
        "            return_dict=True,\n",
        "            output_attentions=output_attentions,\n",
        "        )\n",
        "        x = transformer_outputs.last_hidden_state\n",
        "\n",
        "        if self.return_last_only:\n",
        "            x = x[:,-ratio:]\n",
        "\n",
        "        x = self.out_net(x)\n",
        "        if self.return_last_only and ratio > 1:\n",
        "            x = x.reshape(x.shape[0], x.shape[1] // ratio, ratio * self.output_dim)\n",
        "\n",
        "        if output_attentions:\n",
        "            return x, transformer_outputs.attentions\n",
        "        else:\n",
        "            return x"
      ],
      "execution_count": 11,
      "outputs": []
    },
    {
      "cell_type": "code",
      "metadata": {
        "id": "FVKWS5Ik2HGk"
      },
      "source": [
        ""
      ],
      "execution_count": 7,
      "outputs": []
    },
    {
      "cell_type": "code",
      "metadata": {
        "id": "DEaQH2mD2HJA"
      },
      "source": [
        ""
      ],
      "execution_count": 7,
      "outputs": []
    },
    {
      "cell_type": "markdown",
      "metadata": {
        "id": "E9DcYTR5WHxG"
      },
      "source": [
        "# II - Trainer - Universal Computation"
      ]
    },
    {
      "cell_type": "code",
      "metadata": {
        "id": "kk919nf9VD4X"
      },
      "source": [
        "import torch\n",
        "from tqdm import tqdm\n",
        "\n",
        "import time"
      ],
      "execution_count": 12,
      "outputs": []
    },
    {
      "cell_type": "code",
      "metadata": {
        "id": "nAOzz418VD6i"
      },
      "source": [
        "class Trainer:\n",
        "\n",
        "    def __init__(\n",
        "            self,\n",
        "            model,\n",
        "            dataset,\n",
        "            loss_fn,\n",
        "            accuracy_fn=None,\n",
        "            steps_per_epoch=100,\n",
        "            test_steps_per_epoch=20,\n",
        "            learning_rate=1e-3,\n",
        "            batch_size=2,\n",
        "            eval_batch_size=8,\n",
        "            grad_accumulate=1,\n",
        "    ):\n",
        "        self.model = model\n",
        "        self.dataset = dataset\n",
        "        self.loss_fn = loss_fn\n",
        "        self.acc_fn = accuracy_fn\n",
        "        self.steps_per_epoch = steps_per_epoch\n",
        "        self.test_steps_per_epoch = test_steps_per_epoch\n",
        "        self.batch_size = batch_size\n",
        "        self.eval_batch_size = eval_batch_size\n",
        "        self.grad_accumulate = grad_accumulate\n",
        "\n",
        "        self.optim = torch.optim.Adam(model.parameters(), lr=learning_rate)\n",
        "\n",
        "        self.diagnostics = {'Gradient Steps': 0}\n",
        "\n",
        "    def get_loss(self, x, y, return_acc=False):\n",
        "        out = self.model(x)\n",
        "        loss = self.loss_fn(out, y, x=x)\n",
        "        if return_acc:\n",
        "            if self.acc_fn is None:\n",
        "                raise NotImplementedError('accuracy function not specified')\n",
        "            accs = self.acc_fn(\n",
        "                out.detach().cpu().numpy(),\n",
        "                y.detach().cpu().numpy(),\n",
        "                x=x.detach().cpu().numpy(),\n",
        "            )\n",
        "            return loss, accs\n",
        "        return loss\n",
        "\n",
        "    def train_epoch(self, test_steps=None):\n",
        "        self.dataset.start_epoch()\n",
        "\n",
        "        train_losses, tr_accuracy = [], 0.\n",
        "        self.model.train()\n",
        "        start_train_time = time.time()\n",
        "        for _ in tqdm(range(self.steps_per_epoch)):\n",
        "            step_loss = 0\n",
        "            for _ in range(self.grad_accumulate):\n",
        "                x, y = self.dataset.get_batch(self.batch_size, train=True)\n",
        "                loss, acc = self.get_loss(x, y, return_acc=True)\n",
        "                loss = loss / self.grad_accumulate\n",
        "                loss.backward()\n",
        "                step_loss += loss.detach().cpu().item()\n",
        "                tr_accuracy += acc\n",
        "\n",
        "            torch.nn.utils.clip_grad_norm_(self.model.parameters(), 1.)\n",
        "            self.optim.step()\n",
        "            self.optim.zero_grad()\n",
        "\n",
        "            self.diagnostics['Gradient Steps'] += 1\n",
        "\n",
        "            train_losses.append(step_loss)\n",
        "        end_train_time = time.time()\n",
        "\n",
        "        test_steps = self.test_steps_per_epoch if test_steps is None else test_steps\n",
        "\n",
        "        test_loss, accuracy = 0., 0.\n",
        "        self.model.eval()\n",
        "        start_test_time = time.time()\n",
        "        with torch.no_grad():\n",
        "            for _ in range(test_steps):\n",
        "                x, y = self.dataset.get_batch(self.eval_batch_size, train=False)\n",
        "                loss, acc = self.get_loss(x, y, return_acc=True)\n",
        "                test_loss += loss.detach().cpu().item() / test_steps\n",
        "                accuracy += acc / test_steps\n",
        "        end_test_time = time.time()\n",
        "\n",
        "        self.diagnostics['Average Train Loss'] = sum(train_losses) / self.steps_per_epoch\n",
        "        self.diagnostics['Start Train Loss'] = train_losses[0]\n",
        "        self.diagnostics['Final Train Loss'] = train_losses[-1]\n",
        "        self.diagnostics['Test Loss'] = test_loss\n",
        "        self.diagnostics['Test Accuracy'] = accuracy\n",
        "        self.diagnostics['Train Accuracy'] = tr_accuracy / (self.steps_per_epoch * self.grad_accumulate)\n",
        "        self.diagnostics['Time Training'] = end_train_time - start_train_time\n",
        "        self.diagnostics['Time Testing'] = end_test_time - start_test_time"
      ],
      "execution_count": 13,
      "outputs": []
    },
    {
      "cell_type": "markdown",
      "metadata": {
        "id": "cCxhM8_XY4Af"
      },
      "source": [
        "# III - Experiment. run_experiment "
      ]
    },
    {
      "cell_type": "code",
      "metadata": {
        "id": "uc32bMbwZI_S"
      },
      "source": [
        "#!pip install wandb\n"
      ],
      "execution_count": 16,
      "outputs": []
    },
    {
      "cell_type": "code",
      "metadata": {
        "id": "sAoi0s6GZDt8"
      },
      "source": [
        "import numpy as np\n",
        "import torch\n",
        "import wandb\n",
        "\n",
        "import argparse\n",
        "from datetime import datetime\n",
        "import random\n",
        "import sys\n",
        "\n"
      ],
      "execution_count": 50,
      "outputs": []
    },
    {
      "cell_type": "code",
      "metadata": {
        "id": "7703A-0JY3SL"
      },
      "source": [
        "def experiment(\n",
        "        exp_name,\n",
        "        exp_args,\n",
        "        **kwargs\n",
        "):\n",
        "\n",
        "    \"\"\"\n",
        "    Preliminary checks\n",
        "    \"\"\"\n",
        "\n",
        "    # Must be able to accumulate gradient if batch size is large\n",
        "    assert 'batch_size' in kwargs\n",
        "    assert kwargs['batch_size'] <= exp_args['gpu_batch_size'] or \\\n",
        "           kwargs['batch_size'] % exp_args['gpu_batch_size'] == 0\n",
        "\n",
        "    \"\"\"\n",
        "    Create dataset, model, and trainer\n",
        "    \"\"\"\n",
        "\n",
        "    task = kwargs['task']\n",
        "    batch_size = kwargs['batch_size']\n",
        "    patch_size = kwargs['patch_size']\n",
        "    device = exp_args['device']\n",
        "\n",
        "    return_last_only = True\n",
        "\n",
        "    if task == 'bit-memory':\n",
        "        from universal_computation.datasets.bit_memory import BitMemoryDataset\n",
        "        dataset = BitMemoryDataset(n=kwargs['n'], num_patterns=kwargs['num_patterns'], device=device)\n",
        "        input_dim = kwargs['n'] if patch_size is None else patch_size\n",
        "        output_dim = 2*kwargs['n'] if patch_size is None else 2 * patch_size\n",
        "        use_embeddings = False\n",
        "        experiment_type = 'classification'\n",
        "\n",
        "    elif task == 'bit-xor':\n",
        "        from universal_computation.datasets.bit_xor import BitXORDataset\n",
        "        dataset = BitXORDataset(n=kwargs['n'], num_patterns=kwargs['num_patterns'], device=device)\n",
        "        input_dim = kwargs['n'] if patch_size is None else patch_size\n",
        "        output_dim = 2 * kwargs['n'] if patch_size is None else 2 * patch_size\n",
        "        use_embeddings = False\n",
        "        experiment_type = 'classification'\n",
        "\n",
        "    elif task == 'mnist':\n",
        "        #from universal_computation.datasets.mnist import MNISTDataset\n",
        "        dataset = MNISTDataset(batch_size=batch_size, patch_size=patch_size, device=device)\n",
        "        input_dim, output_dim = patch_size ** 2, 10\n",
        "        use_embeddings = False\n",
        "        experiment_type = 'classification'\n",
        "\n",
        "    elif task == 'cifar10':\n",
        "        from universal_computation.datasets.cifar10 import CIFAR10Dataset\n",
        "        dataset = CIFAR10Dataset(batch_size=batch_size, patch_size=patch_size, device=device)\n",
        "        input_dim, output_dim = 3 * patch_size**2, 10\n",
        "        use_embeddings = False\n",
        "        experiment_type = 'classification'\n",
        "\n",
        "    elif task == 'cifar10-gray':\n",
        "        from universal_computation.datasets.cifar10_gray import CIFAR10GrayDataset\n",
        "        dataset = CIFAR10GrayDataset(batch_size=batch_size, patch_size=patch_size, device=device)\n",
        "        input_dim, output_dim = patch_size**2, 10\n",
        "        use_embeddings = False\n",
        "        experiment_type = 'classification'\n",
        "\n",
        "    elif task == 'listops':\n",
        "        from universal_computation.datasets.listops import ListopsDataset\n",
        "        dataset = ListopsDataset(batch_size=batch_size, device=device)\n",
        "        input_dim, output_dim = 15, 10\n",
        "        use_embeddings = True\n",
        "        experiment_type = 'classification'\n",
        "    else:\n",
        "        raise NotImplementedError('dataset not implemented')\n",
        "\n",
        "    if 'bit' in task:\n",
        "\n",
        "        ce_loss = torch.nn.CrossEntropyLoss()\n",
        "\n",
        "        def loss_fn(out, y, x=None):\n",
        "            out = torch.reshape(out, (-1, kwargs['n'], 2))\n",
        "            ids = torch.zeros(y.shape).to(device=y.device).long()\n",
        "            if task == 'bit-memory':\n",
        "                ids[y < 0], ids[y > 0] = 0, 1\n",
        "            else:\n",
        "                ids[y < 0.5], ids[y > 0.5] = 0, 1\n",
        "            out, ids = torch.reshape(out, (-1, 2)), torch.reshape(ids, (-1,))\n",
        "            return ce_loss(out, ids)\n",
        "\n",
        "        def accuracy_fn(preds, true, x=None):\n",
        "            if task == 'bit-memory':\n",
        "                preds = preds.reshape(-1, kwargs['n'], 2).argmax(-1) * 2 - 1\n",
        "            else:\n",
        "                preds = preds.reshape(-1, kwargs['n'], 2).argmax(-1)\n",
        "            if task == 'bit-memory':\n",
        "                return (np.sign(preds) == np.sign(true)).mean()\n",
        "            else:\n",
        "                return ((preds > 0.5) == (true > 0.5)).mean()\n",
        "\n",
        "    elif experiment_type == 'classification':\n",
        "\n",
        "        ce_loss = torch.nn.CrossEntropyLoss()\n",
        "\n",
        "        def loss_fn(out, y, x=None):\n",
        "            out = out[:, 0]\n",
        "            return ce_loss(out, y)\n",
        "\n",
        "        def accuracy_fn(preds, true, x=None):\n",
        "            preds = preds[:, 0].argmax(-1)\n",
        "            return (preds == true).mean()\n",
        "\n",
        "    else:\n",
        "        raise NotImplementedError('experiment_type not recognized')\n",
        "\n",
        "    model = FPT(\n",
        "        input_dim=input_dim,\n",
        "        output_dim=output_dim,\n",
        "        model_name=kwargs.get('model_name', 'gpt2'),\n",
        "        pretrained=kwargs.get('pretrained', True),\n",
        "        return_last_only=return_last_only,\n",
        "        use_embeddings_for_in=use_embeddings,\n",
        "        in_layer_sizes=kwargs.get('in_layer_sizes', None),\n",
        "        out_layer_sizes=kwargs.get('out_layer_sizes', None),\n",
        "        freeze_trans=kwargs.get('freeze_trans', True),\n",
        "        freeze_in=kwargs.get('freeze_in', False),\n",
        "        freeze_pos=kwargs.get('freeze_pos', False),\n",
        "        freeze_ln=kwargs.get('freeze_ln', False),\n",
        "        freeze_attn=kwargs.get('freeze_attn', True),\n",
        "        freeze_ff=kwargs.get('freeze_ff', True),\n",
        "        freeze_out=kwargs.get('freeze_out', False),\n",
        "        dropout=kwargs['dropout'],\n",
        "        orth_gain=kwargs['orth_gain'],\n",
        "    )\n",
        "    model.to(device)\n",
        "\n",
        "    gpu_batch_size = exp_args['gpu_batch_size']\n",
        "    trainer = Trainer(\n",
        "        model,\n",
        "        dataset,\n",
        "        loss_fn=loss_fn,\n",
        "        accuracy_fn=accuracy_fn,\n",
        "        steps_per_epoch=exp_args['steps_per_iter'],\n",
        "        test_steps_per_epoch=exp_args['test_steps_per_iter'],\n",
        "        learning_rate=kwargs['learning_rate'],\n",
        "        batch_size=gpu_batch_size if batch_size > gpu_batch_size else batch_size,\n",
        "        eval_batch_size=batch_size,\n",
        "        grad_accumulate=batch_size // gpu_batch_size if batch_size > gpu_batch_size else 1,\n",
        "    )\n",
        "\n",
        "    \"\"\"\n",
        "    Set up logging\n",
        "    \"\"\"\n",
        "\n",
        "    log_to_wandb = exp_args['log_to_wandb']\n",
        "    save_models = exp_args['save_models']\n",
        "    wandb_project = exp_args['wandb_project']\n",
        "\n",
        "    short_name = str(random.randint(int(1e5), int(1e6) - 1))\n",
        "    run_name = f'{exp_name}-{task}-{short_name}'\n",
        "\n",
        "    if log_to_wandb:\n",
        "        config = dict(\n",
        "            short_name=short_name,\n",
        "            run_name=run_name,\n",
        "            **exp_args,\n",
        "            **kwargs,\n",
        "        )\n",
        "        wandb.init(\n",
        "            name=f'{exp_name}-{short_name}',\n",
        "            group=f'{exp_name}-{task}',\n",
        "            project=wandb_project,\n",
        "            config=config,\n",
        "        )\n",
        "        wandb.watch(model)\n",
        "\n",
        "    for t in range(exp_args['num_iters']):\n",
        "        trainer.train_epoch()\n",
        "\n",
        "        print('=' * 57)\n",
        "        print(f'| Iteration {\" \" * 15} | {t+1:25} |')\n",
        "        for k, v in trainer.diagnostics.items():\n",
        "            print(f'| {k:25} | {v:25} |')\n",
        "\n",
        "        if log_to_wandb:\n",
        "            wandb.log(trainer.diagnostics)\n",
        "\n",
        "        if save_models and ((t+1) % exp_args['save_models_every'] == 0 or\n",
        "                            (t+1) == exp_args['num_iters']):\n",
        "            with open(f'models/{run_name}.pt', 'wb') as f:\n",
        "                state_dict = dict(model=model.state_dict(), optim=trainer.optim.state_dict())\n",
        "                torch.save(state_dict, f)\n",
        "            print(f'Saved model at {t+1} iters: {run_name}')\n"
      ],
      "execution_count": 18,
      "outputs": []
    },
    {
      "cell_type": "code",
      "metadata": {
        "id": "jLayCpB9Y3Wj"
      },
      "source": [
        "def run_experiment(\n",
        "        exp_name,\n",
        "        experiment_params,\n",
        "):\n",
        "    parser = argparse.ArgumentParser()\n",
        "\n",
        "    parser.add_argument('--num_iters', '-it', type=int, default=110,\n",
        "                        help='Number of iterations for trainer')\n",
        "    parser.add_argument('--steps_per_iter', type=int, default=100,\n",
        "                        help='Number of gradient steps per iteration')\n",
        "    parser.add_argument('--test_steps_per_iter', type=int, default=25,\n",
        "                        help='Number of test gradient steps per iteration')\n",
        "\n",
        "    parser.add_argument('--log_to_wandb', '-w', type=bool, default=False,\n",
        "                        help='Whether or not to log to Weights and Biases')\n",
        "    parser.add_argument('--note', '-n', type=str, default='',\n",
        "                        help='An optional note to be logged to W&B')\n",
        "    parser.add_argument('--wandb_project', type=str, default='my_project',\n",
        "                        help='Project name for W&B')\n",
        "    parser.add_argument('--include_date', type=bool, default=True,\n",
        "                        help='Whether to include date in run name')\n",
        "\n",
        "    parser.add_argument('--save_models', '-s', type=bool, default=False,\n",
        "                        help='Whether or not to save the model files locally')\n",
        "    parser.add_argument('--save_models_every', '-int', type=int, default=25,\n",
        "                        help='How often to save models locally')\n",
        "\n",
        "    parser.add_argument('--device', '-d', type=str, default='cuda',\n",
        "                        help='Which device for Pytorch to use')\n",
        "    parser.add_argument('--gpu_batch_size', '-gbs', type=int, default=16,\n",
        "                        help='Max batch size to put on GPU (used for gradient accumulation)')\n",
        "\n",
        "    #exp_args = parser.parse_args(sys.argv[1:])\n",
        "    exp_args, unknown = parser.parse_known_args(sys.argv[1:])\n",
        "\n",
        "    if exp_args.include_date:\n",
        "        timestamp = datetime.now().strftime('%m-%d')\n",
        "        exp_name = f'{timestamp}-{exp_name}'\n",
        "\n",
        "    experiment_params['exp_name'] = exp_name\n",
        "    experiment_params['exp_args'] = vars(exp_args)\n",
        "\n",
        "    experiment(xp_name=exp_name, **experiment_params)"
      ],
      "execution_count": 42,
      "outputs": []
    },
    {
      "cell_type": "code",
      "metadata": {
        "id": "zbaB_xFtdVTJ"
      },
      "source": [
        ""
      ],
      "execution_count": 19,
      "outputs": []
    },
    {
      "cell_type": "code",
      "metadata": {
        "id": "xCv6a8_QdVVy"
      },
      "source": [
        ""
      ],
      "execution_count": 19,
      "outputs": []
    },
    {
      "cell_type": "code",
      "metadata": {
        "id": "Gz6C1Jx1dVYA"
      },
      "source": [
        ""
      ],
      "execution_count": 19,
      "outputs": []
    },
    {
      "cell_type": "code",
      "metadata": {
        "id": "gR6ae4CAF10I"
      },
      "source": [
        ""
      ],
      "execution_count": 19,
      "outputs": []
    },
    {
      "cell_type": "markdown",
      "metadata": {
        "id": "yUjYrHgfaKXx"
      },
      "source": [
        "# Run."
      ]
    },
    {
      "cell_type": "code",
      "metadata": {
        "id": "_rVbSJekPkPW"
      },
      "source": [
        "experiment_params0 = dict(\n",
        "        task='mnist',\n",
        "        n=1000,                # ignored if not a bit task\n",
        "        num_patterns=5,        # ignored if not a bit task\n",
        "        patch_size=28,\n",
        "\n",
        "        model_name='gpt2',\n",
        "        pretrained=True,\n",
        "\n",
        "        freeze_trans=True,     # if False, we don't check arguments other than in and out\n",
        "        freeze_in=False,\n",
        "        freeze_pos=False,\n",
        "        freeze_ln=False,\n",
        "        freeze_attn=True,\n",
        "        freeze_ff=True,\n",
        "        freeze_out=False,\n",
        "\n",
        "        in_layer_sizes=None,   # not in paper, but can specify layer sizes for an MLP,\n",
        "        out_layer_sizes=None,  # ex. [32, 32] creates a 2-layer MLP with dimension 32\n",
        "\n",
        "        learning_rate=1e-3,\n",
        "        batch_size=2,\n",
        "        dropout=0.1,\n",
        "        orth_gain=1.41,\n",
        "    )"
      ],
      "execution_count": 43,
      "outputs": []
    },
    {
      "cell_type": "code",
      "metadata": {
        "id": "EY5wGCPQU4Vg"
      },
      "source": [
        "experiment_name0 = f'fpt' \n"
      ],
      "execution_count": 51,
      "outputs": []
    },
    {
      "cell_type": "code",
      "metadata": {
        "id": "sBsouzzncxyP",
        "colab": {
          "base_uri": "https://localhost:8080/"
        },
        "outputId": "a0a596f8-5c51-4ef7-8f1e-81108fa60b56"
      },
      "source": [
        "run_experiment(experiment_name0, experiment_params0)"
      ],
      "execution_count": 48,
      "outputs": [
        {
          "output_type": "stream",
          "text": [
            "Some weights of GPT2Model were not initialized from the model checkpoint at gpt2 and are newly initialized: ['h.0.attn.masked_bias', 'h.1.attn.masked_bias', 'h.2.attn.masked_bias', 'h.3.attn.masked_bias', 'h.4.attn.masked_bias', 'h.5.attn.masked_bias', 'h.6.attn.masked_bias', 'h.7.attn.masked_bias', 'h.8.attn.masked_bias', 'h.9.attn.masked_bias', 'h.10.attn.masked_bias', 'h.11.attn.masked_bias']\n",
            "You should probably TRAIN this model on a down-stream task to be able to use it for predictions and inference.\n",
            "100%|██████████| 100/100 [00:04<00:00, 22.10it/s]\n",
            "  3%|▎         | 3/100 [00:00<00:04, 23.85it/s]"
          ],
          "name": "stderr"
        },
        {
          "output_type": "stream",
          "text": [
            "=========================================================\n",
            "| Iteration                 |                         1 |\n",
            "| Gradient Steps            |                       100 |\n",
            "| Average Train Loss        |         2.158504074215889 |\n",
            "| Start Train Loss          |         4.139187812805176 |\n",
            "| Final Train Loss          |        3.1829519271850586 |\n",
            "| Test Loss                 |        1.7273107033967972 |\n",
            "| Test Accuracy             |       0.42000000000000004 |\n",
            "| Train Accuracy            |                      0.26 |\n",
            "| Time Training             |        4.5273354053497314 |\n",
            "| Time Testing              |        0.3831477165222168 |\n"
          ],
          "name": "stdout"
        },
        {
          "output_type": "stream",
          "text": [
            "100%|██████████| 100/100 [00:04<00:00, 22.98it/s]\n",
            "  3%|▎         | 3/100 [00:00<00:04, 23.17it/s]"
          ],
          "name": "stderr"
        },
        {
          "output_type": "stream",
          "text": [
            "=========================================================\n",
            "| Iteration                 |                         2 |\n",
            "| Gradient Steps            |                       200 |\n",
            "| Average Train Loss        |         1.363590446971357 |\n",
            "| Start Train Loss          |         1.414872407913208 |\n",
            "| Final Train Loss          |       0.36102357506752014 |\n",
            "| Test Loss                 |        0.6793074418231846 |\n",
            "| Test Accuracy             |        0.7600000000000002 |\n",
            "| Train Accuracy            |                      0.53 |\n",
            "| Time Training             |         4.359798431396484 |\n",
            "| Time Testing              |        0.4001164436340332 |\n"
          ],
          "name": "stdout"
        },
        {
          "output_type": "stream",
          "text": [
            "100%|██████████| 100/100 [00:04<00:00, 23.01it/s]\n",
            "  3%|▎         | 3/100 [00:00<00:04, 21.10it/s]"
          ],
          "name": "stderr"
        },
        {
          "output_type": "stream",
          "text": [
            "=========================================================\n",
            "| Iteration                 |                         3 |\n",
            "| Gradient Steps            |                       300 |\n",
            "| Average Train Loss        |        0.9721134663466364 |\n",
            "| Start Train Loss          |       0.25919705629348755 |\n",
            "| Final Train Loss          |        0.5049428939819336 |\n",
            "| Test Loss                 |        0.6107720010040795 |\n",
            "| Test Accuracy             |        0.8200000000000002 |\n",
            "| Train Accuracy            |                       0.7 |\n",
            "| Time Training             |         4.350553750991821 |\n",
            "| Time Testing              |        0.4009521007537842 |\n"
          ],
          "name": "stdout"
        },
        {
          "output_type": "stream",
          "text": [
            "100%|██████████| 100/100 [00:04<00:00, 22.94it/s]\n",
            "  3%|▎         | 3/100 [00:00<00:04, 23.32it/s]"
          ],
          "name": "stderr"
        },
        {
          "output_type": "stream",
          "text": [
            "=========================================================\n",
            "| Iteration                 |                         4 |\n",
            "| Gradient Steps            |                       400 |\n",
            "| Average Train Loss        |        0.8827099716383964 |\n",
            "| Start Train Loss          |        1.4607793092727661 |\n",
            "| Final Train Loss          |        1.7514389753341675 |\n",
            "| Test Loss                 |        0.6092490207836819 |\n",
            "| Test Accuracy             |        0.8400000000000002 |\n",
            "| Train Accuracy            |                      0.79 |\n",
            "| Time Training             |         4.363433599472046 |\n",
            "| Time Testing              |       0.39037442207336426 |\n"
          ],
          "name": "stdout"
        },
        {
          "output_type": "stream",
          "text": [
            "100%|██████████| 100/100 [00:04<00:00, 22.78it/s]\n",
            "  3%|▎         | 3/100 [00:00<00:04, 23.41it/s]"
          ],
          "name": "stderr"
        },
        {
          "output_type": "stream",
          "text": [
            "=========================================================\n",
            "| Iteration                 |                         5 |\n",
            "| Gradient Steps            |                       500 |\n",
            "| Average Train Loss        |         1.071262854236229 |\n",
            "| Start Train Loss          |       0.28652510046958923 |\n",
            "| Final Train Loss          |        0.6767140030860901 |\n",
            "| Test Loss                 |        0.7539098479470705 |\n",
            "| Test Accuracy             |        0.8600000000000002 |\n",
            "| Train Accuracy            |                      0.71 |\n",
            "| Time Training             |         4.399672985076904 |\n",
            "| Time Testing              |        0.3832705020904541 |\n"
          ],
          "name": "stdout"
        },
        {
          "output_type": "stream",
          "text": [
            "100%|██████████| 100/100 [00:04<00:00, 22.76it/s]\n",
            "  3%|▎         | 3/100 [00:00<00:04, 21.99it/s]"
          ],
          "name": "stderr"
        },
        {
          "output_type": "stream",
          "text": [
            "=========================================================\n",
            "| Iteration                 |                         6 |\n",
            "| Gradient Steps            |                       600 |\n",
            "| Average Train Loss        |        1.0676154598925496 |\n",
            "| Start Train Loss          |         4.203566074371338 |\n",
            "| Final Train Loss          |        0.2196483463048935 |\n",
            "| Test Loss                 |       0.32467489176779046 |\n",
            "| Test Accuracy             |        0.8800000000000002 |\n",
            "| Train Accuracy            |                     0.735 |\n",
            "| Time Training             |         4.399600028991699 |\n",
            "| Time Testing              |        0.3976895809173584 |\n"
          ],
          "name": "stdout"
        },
        {
          "output_type": "stream",
          "text": [
            "100%|██████████| 100/100 [00:04<00:00, 22.86it/s]\n",
            "  3%|▎         | 3/100 [00:00<00:04, 22.98it/s]"
          ],
          "name": "stderr"
        },
        {
          "output_type": "stream",
          "text": [
            "=========================================================\n",
            "| Iteration                 |                         7 |\n",
            "| Gradient Steps            |                       700 |\n",
            "| Average Train Loss        |        1.1187392731975705 |\n",
            "| Start Train Loss          |     0.0026920337695628405 |\n",
            "| Final Train Loss          |      0.010535411536693573 |\n",
            "| Test Loss                 |        0.3870452529808972 |\n",
            "| Test Accuracy             |        0.9200000000000003 |\n",
            "| Train Accuracy            |                     0.745 |\n",
            "| Time Training             |        4.3823230266571045 |\n",
            "| Time Testing              |        0.3918476104736328 |\n"
          ],
          "name": "stdout"
        },
        {
          "output_type": "stream",
          "text": [
            "100%|██████████| 100/100 [00:04<00:00, 22.14it/s]\n",
            "  3%|▎         | 3/100 [00:00<00:04, 20.45it/s]"
          ],
          "name": "stderr"
        },
        {
          "output_type": "stream",
          "text": [
            "=========================================================\n",
            "| Iteration                 |                         8 |\n",
            "| Gradient Steps            |                       800 |\n",
            "| Average Train Loss        |        0.9406709603534545 |\n",
            "| Start Train Loss          |         0.032346211373806 |\n",
            "| Final Train Loss          |        0.4652498662471771 |\n",
            "| Test Loss                 |        0.2732291138312847 |\n",
            "| Test Accuracy             |        0.9200000000000003 |\n",
            "| Train Accuracy            |                      0.79 |\n",
            "| Time Training             |         4.521879434585571 |\n",
            "| Time Testing              |       0.41423606872558594 |\n"
          ],
          "name": "stdout"
        },
        {
          "output_type": "stream",
          "text": [
            "100%|██████████| 100/100 [00:04<00:00, 21.38it/s]\n",
            "  3%|▎         | 3/100 [00:00<00:04, 22.14it/s]"
          ],
          "name": "stderr"
        },
        {
          "output_type": "stream",
          "text": [
            "=========================================================\n",
            "| Iteration                 |                         9 |\n",
            "| Gradient Steps            |                       900 |\n",
            "| Average Train Loss        |        0.8123349309853984 |\n",
            "| Start Train Loss          |     0.0002803017559926957 |\n",
            "| Final Train Loss          |       0.08029462397098541 |\n",
            "| Test Loss                 |        0.8659170554187585 |\n",
            "| Test Accuracy             |        0.8600000000000002 |\n",
            "| Train Accuracy            |                     0.795 |\n",
            "| Time Training             |         4.681873559951782 |\n",
            "| Time Testing              |        0.4236714839935303 |\n"
          ],
          "name": "stdout"
        },
        {
          "output_type": "stream",
          "text": [
            "100%|██████████| 100/100 [00:04<00:00, 21.39it/s]\n",
            "  3%|▎         | 3/100 [00:00<00:04, 21.93it/s]"
          ],
          "name": "stderr"
        },
        {
          "output_type": "stream",
          "text": [
            "=========================================================\n",
            "| Iteration                 |                        10 |\n",
            "| Gradient Steps            |                      1000 |\n",
            "| Average Train Loss        |        0.9067690661291362 |\n",
            "| Start Train Loss          |       0.24736858904361725 |\n",
            "| Final Train Loss          |          4.28438138961792 |\n",
            "| Test Loss                 |        1.2236698045148657 |\n",
            "| Test Accuracy             |        0.7200000000000002 |\n",
            "| Train Accuracy            |                     0.785 |\n",
            "| Time Training             |         4.681503772735596 |\n",
            "| Time Testing              |        0.4145805835723877 |\n"
          ],
          "name": "stdout"
        },
        {
          "output_type": "stream",
          "text": [
            "100%|██████████| 100/100 [00:04<00:00, 21.62it/s]\n",
            "  3%|▎         | 3/100 [00:00<00:04, 22.58it/s]"
          ],
          "name": "stderr"
        },
        {
          "output_type": "stream",
          "text": [
            "=========================================================\n",
            "| Iteration                 |                        11 |\n",
            "| Gradient Steps            |                      1100 |\n",
            "| Average Train Loss        |           0.7802486041058 |\n",
            "| Start Train Loss          |       0.06808295100927353 |\n",
            "| Final Train Loss          |      0.006573087070137262 |\n",
            "| Test Loss                 |       0.35032464948028513 |\n",
            "| Test Accuracy             |        0.9200000000000003 |\n",
            "| Train Accuracy            |                      0.86 |\n",
            "| Time Training             |        4.6335930824279785 |\n",
            "| Time Testing              |        0.4041025638580322 |\n"
          ],
          "name": "stdout"
        },
        {
          "output_type": "stream",
          "text": [
            "100%|██████████| 100/100 [00:04<00:00, 21.49it/s]\n",
            "  3%|▎         | 3/100 [00:00<00:04, 22.68it/s]"
          ],
          "name": "stderr"
        },
        {
          "output_type": "stream",
          "text": [
            "=========================================================\n",
            "| Iteration                 |                        12 |\n",
            "| Gradient Steps            |                      1200 |\n",
            "| Average Train Loss        |        0.8047147800933254 |\n",
            "| Start Train Loss          |        2.8301150798797607 |\n",
            "| Final Train Loss          |     0.0061555770225822926 |\n",
            "| Test Loss                 |        0.6326809718105139 |\n",
            "| Test Accuracy             |        0.9000000000000002 |\n",
            "| Train Accuracy            |                     0.845 |\n",
            "| Time Training             |        4.6589131355285645 |\n",
            "| Time Testing              |        0.4027886390686035 |\n"
          ],
          "name": "stdout"
        },
        {
          "output_type": "stream",
          "text": [
            "100%|██████████| 100/100 [00:04<00:00, 23.11it/s]\n",
            "  3%|▎         | 3/100 [00:00<00:04, 23.23it/s]"
          ],
          "name": "stderr"
        },
        {
          "output_type": "stream",
          "text": [
            "=========================================================\n",
            "| Iteration                 |                        13 |\n",
            "| Gradient Steps            |                      1300 |\n",
            "| Average Train Loss        |         0.590535694574071 |\n",
            "| Start Train Loss          |       0.00868721678853035 |\n",
            "| Final Train Loss          |        0.0208662711083889 |\n",
            "| Test Loss                 |        1.0278758606930334 |\n",
            "| Test Accuracy             |        0.8400000000000003 |\n",
            "| Train Accuracy            |                     0.845 |\n",
            "| Time Training             |         4.335686206817627 |\n",
            "| Time Testing              |        0.4048893451690674 |\n"
          ],
          "name": "stdout"
        },
        {
          "output_type": "stream",
          "text": [
            "100%|██████████| 100/100 [00:04<00:00, 23.06it/s]\n",
            "  3%|▎         | 3/100 [00:00<00:04, 21.39it/s]"
          ],
          "name": "stderr"
        },
        {
          "output_type": "stream",
          "text": [
            "=========================================================\n",
            "| Iteration                 |                        14 |\n",
            "| Gradient Steps            |                      1400 |\n",
            "| Average Train Loss        |        0.8928900271381472 |\n",
            "| Start Train Loss          |       0.17791853845119476 |\n",
            "| Final Train Loss          |     0.0005462787230499089 |\n",
            "| Test Loss                 |        1.0424740792660852 |\n",
            "| Test Accuracy             |        0.8200000000000002 |\n",
            "| Train Accuracy            |                      0.83 |\n",
            "| Time Training             |         4.346104383468628 |\n",
            "| Time Testing              |        0.3958628177642822 |\n"
          ],
          "name": "stdout"
        },
        {
          "output_type": "stream",
          "text": [
            "100%|██████████| 100/100 [00:04<00:00, 23.29it/s]\n",
            "  3%|▎         | 3/100 [00:00<00:04, 24.00it/s]"
          ],
          "name": "stderr"
        },
        {
          "output_type": "stream",
          "text": [
            "=========================================================\n",
            "| Iteration                 |                        15 |\n",
            "| Gradient Steps            |                      1500 |\n",
            "| Average Train Loss        |        0.7746805836025931 |\n",
            "| Start Train Loss          |        0.7240534424781799 |\n",
            "| Final Train Loss          |      0.000551339762751013 |\n",
            "| Test Loss                 |        1.5459948122182319 |\n",
            "| Test Accuracy             |        0.8400000000000002 |\n",
            "| Train Accuracy            |                     0.845 |\n",
            "| Time Training             |        4.2977211475372314 |\n",
            "| Time Testing              |        0.3880150318145752 |\n"
          ],
          "name": "stdout"
        },
        {
          "output_type": "stream",
          "text": [
            "100%|██████████| 100/100 [00:04<00:00, 22.95it/s]\n",
            "  3%|▎         | 3/100 [00:00<00:04, 23.65it/s]"
          ],
          "name": "stderr"
        },
        {
          "output_type": "stream",
          "text": [
            "=========================================================\n",
            "| Iteration                 |                        16 |\n",
            "| Gradient Steps            |                      1600 |\n",
            "| Average Train Loss        |        1.0012748881028664 |\n",
            "| Start Train Loss          |         9.375897407531738 |\n",
            "| Final Train Loss          |        1.3595391511917114 |\n",
            "| Test Loss                 |         0.594485704928611 |\n",
            "| Test Accuracy             |        0.8600000000000003 |\n",
            "| Train Accuracy            |                      0.82 |\n",
            "| Time Training             |         4.363073110580444 |\n",
            "| Time Testing              |        0.3899993896484375 |\n"
          ],
          "name": "stdout"
        },
        {
          "output_type": "stream",
          "text": [
            "100%|██████████| 100/100 [00:04<00:00, 23.30it/s]\n",
            "  3%|▎         | 3/100 [00:00<00:04, 22.56it/s]"
          ],
          "name": "stderr"
        },
        {
          "output_type": "stream",
          "text": [
            "=========================================================\n",
            "| Iteration                 |                        17 |\n",
            "| Gradient Steps            |                      1700 |\n",
            "| Average Train Loss        |        0.6003553303521673 |\n",
            "| Start Train Loss          |     0.0010434520663693547 |\n",
            "| Final Train Loss          |       0.17555555701255798 |\n",
            "| Test Loss                 |       0.30790144984280343 |\n",
            "| Test Accuracy             |        0.9200000000000003 |\n",
            "| Train Accuracy            |                     0.865 |\n",
            "| Time Training             |         4.298399925231934 |\n",
            "| Time Testing              |        0.3861212730407715 |\n"
          ],
          "name": "stdout"
        },
        {
          "output_type": "stream",
          "text": [
            "100%|██████████| 100/100 [00:04<00:00, 23.29it/s]\n",
            "  3%|▎         | 3/100 [00:00<00:04, 23.26it/s]"
          ],
          "name": "stderr"
        },
        {
          "output_type": "stream",
          "text": [
            "=========================================================\n",
            "| Iteration                 |                        18 |\n",
            "| Gradient Steps            |                      1800 |\n",
            "| Average Train Loss        |        0.5816986539564248 |\n",
            "| Start Train Loss          |     0.0013656096998602152 |\n",
            "| Final Train Loss          |     6.675681106571574e-06 |\n",
            "| Test Loss                 |        0.6783920769474936 |\n",
            "| Test Accuracy             |        0.8600000000000002 |\n",
            "| Train Accuracy            |                      0.84 |\n",
            "| Time Training             |         4.302639007568359 |\n",
            "| Time Testing              |       0.38394927978515625 |\n"
          ],
          "name": "stdout"
        },
        {
          "output_type": "stream",
          "text": [
            "100%|██████████| 100/100 [00:04<00:00, 23.07it/s]\n",
            "  3%|▎         | 3/100 [00:00<00:04, 23.71it/s]"
          ],
          "name": "stderr"
        },
        {
          "output_type": "stream",
          "text": [
            "=========================================================\n",
            "| Iteration                 |                        19 |\n",
            "| Gradient Steps            |                      1900 |\n",
            "| Average Train Loss        |        0.6477606842673816 |\n",
            "| Start Train Loss          |     0.0011618341086432338 |\n",
            "| Final Train Loss          |       0.01834496296942234 |\n",
            "| Test Loss                 |        0.3695951115779997 |\n",
            "| Test Accuracy             |        0.9200000000000003 |\n",
            "| Train Accuracy            |                     0.855 |\n",
            "| Time Training             |        4.3433942794799805 |\n",
            "| Time Testing              |       0.39621901512145996 |\n"
          ],
          "name": "stdout"
        },
        {
          "output_type": "stream",
          "text": [
            "100%|██████████| 100/100 [00:04<00:00, 23.67it/s]\n",
            "  3%|▎         | 3/100 [00:00<00:04, 22.91it/s]"
          ],
          "name": "stderr"
        },
        {
          "output_type": "stream",
          "text": [
            "=========================================================\n",
            "| Iteration                 |                        20 |\n",
            "| Gradient Steps            |                      2000 |\n",
            "| Average Train Loss        |        0.6369330317947183 |\n",
            "| Start Train Loss          |        0.2279832512140274 |\n",
            "| Final Train Loss          |      8.94061759026954e-06 |\n",
            "| Test Loss                 |       0.10218304886762752 |\n",
            "| Test Accuracy             |        0.9600000000000003 |\n",
            "| Train Accuracy            |                      0.89 |\n",
            "| Time Training             |         4.230026721954346 |\n",
            "| Time Testing              |       0.39623093605041504 |\n"
          ],
          "name": "stdout"
        },
        {
          "output_type": "stream",
          "text": [
            "100%|██████████| 100/100 [00:04<00:00, 23.06it/s]\n",
            "  3%|▎         | 3/100 [00:00<00:04, 21.43it/s]"
          ],
          "name": "stderr"
        },
        {
          "output_type": "stream",
          "text": [
            "=========================================================\n",
            "| Iteration                 |                        21 |\n",
            "| Gradient Steps            |                      2100 |\n",
            "| Average Train Loss        |        0.8854583932954262 |\n",
            "| Start Train Loss          |       0.13057468831539154 |\n",
            "| Final Train Loss          |     0.0029514131601899862 |\n",
            "| Test Loss                 |        0.5800037728392909 |\n",
            "| Test Accuracy             |        0.9000000000000002 |\n",
            "| Train Accuracy            |                     0.885 |\n",
            "| Time Training             |         4.339056491851807 |\n",
            "| Time Testing              |       0.39252305030822754 |\n"
          ],
          "name": "stdout"
        },
        {
          "output_type": "stream",
          "text": [
            "100%|██████████| 100/100 [00:04<00:00, 23.21it/s]\n",
            "  3%|▎         | 3/100 [00:00<00:04, 20.78it/s]"
          ],
          "name": "stderr"
        },
        {
          "output_type": "stream",
          "text": [
            "=========================================================\n",
            "| Iteration                 |                        22 |\n",
            "| Gradient Steps            |                      2200 |\n",
            "| Average Train Loss        |         0.694309530253907 |\n",
            "| Start Train Loss          |      0.014295464381575584 |\n",
            "| Final Train Loss          |     0.0015178528847172856 |\n",
            "| Test Loss                 |        0.4962310853313102 |\n",
            "| Test Accuracy             |        0.9400000000000004 |\n",
            "| Train Accuracy            |                      0.84 |\n",
            "| Time Training             |         4.312457084655762 |\n",
            "| Time Testing              |        0.3977537155151367 |\n"
          ],
          "name": "stdout"
        },
        {
          "output_type": "stream",
          "text": [
            "100%|██████████| 100/100 [00:04<00:00, 22.85it/s]\n",
            "  3%|▎         | 3/100 [00:00<00:04, 23.87it/s]"
          ],
          "name": "stderr"
        },
        {
          "output_type": "stream",
          "text": [
            "=========================================================\n",
            "| Iteration                 |                        23 |\n",
            "| Gradient Steps            |                      2300 |\n",
            "| Average Train Loss        |        0.5872951851950432 |\n",
            "| Start Train Loss          |       0.04068422690033913 |\n",
            "| Final Train Loss          |       0.11969772726297379 |\n",
            "| Test Loss                 |        0.8889497394663887 |\n",
            "| Test Accuracy             |        0.8600000000000002 |\n",
            "| Train Accuracy            |                     0.875 |\n",
            "| Time Training             |        4.3825578689575195 |\n",
            "| Time Testing              |       0.40209174156188965 |\n"
          ],
          "name": "stdout"
        },
        {
          "output_type": "stream",
          "text": [
            "100%|██████████| 100/100 [00:04<00:00, 23.10it/s]\n",
            "  3%|▎         | 3/100 [00:00<00:04, 22.54it/s]"
          ],
          "name": "stderr"
        },
        {
          "output_type": "stream",
          "text": [
            "=========================================================\n",
            "| Iteration                 |                        24 |\n",
            "| Gradient Steps            |                      2400 |\n",
            "| Average Train Loss        |        0.5215551094688021 |\n",
            "| Start Train Loss          |       0.21309322118759155 |\n",
            "| Final Train Loss          |    0.00012241366493981332 |\n",
            "| Test Loss                 |       0.30183873949082546 |\n",
            "| Test Accuracy             |        0.9200000000000003 |\n",
            "| Train Accuracy            |                     0.875 |\n",
            "| Time Training             |         4.335228681564331 |\n",
            "| Time Testing              |        0.3951530456542969 |\n"
          ],
          "name": "stdout"
        },
        {
          "output_type": "stream",
          "text": [
            "100%|██████████| 100/100 [00:04<00:00, 22.96it/s]\n",
            "  3%|▎         | 3/100 [00:00<00:04, 22.17it/s]"
          ],
          "name": "stderr"
        },
        {
          "output_type": "stream",
          "text": [
            "=========================================================\n",
            "| Iteration                 |                        25 |\n",
            "| Gradient Steps            |                      2500 |\n",
            "| Average Train Loss        |        0.5402963693231407 |\n",
            "| Start Train Loss          |       0.01484229788184166 |\n",
            "| Final Train Loss          |       0.04048703610897064 |\n",
            "| Test Loss                 |       0.23210511992116606 |\n",
            "| Test Accuracy             |        0.9400000000000003 |\n",
            "| Train Accuracy            |                     0.875 |\n",
            "| Time Training             |         4.361574411392212 |\n",
            "| Time Testing              |        0.4030740261077881 |\n"
          ],
          "name": "stdout"
        },
        {
          "output_type": "stream",
          "text": [
            "100%|██████████| 100/100 [00:04<00:00, 22.68it/s]\n",
            "  3%|▎         | 3/100 [00:00<00:04, 21.20it/s]"
          ],
          "name": "stderr"
        },
        {
          "output_type": "stream",
          "text": [
            "=========================================================\n",
            "| Iteration                 |                        26 |\n",
            "| Gradient Steps            |                      2600 |\n",
            "| Average Train Loss        |        0.5298458643674764 |\n",
            "| Start Train Loss          |     0.0015900086145848036 |\n",
            "| Final Train Loss          |      0.061447080224752426 |\n",
            "| Test Loss                 |        0.9812029187343797 |\n",
            "| Test Accuracy             |        0.8600000000000002 |\n",
            "| Train Accuracy            |                       0.9 |\n",
            "| Time Training             |         4.414049386978149 |\n",
            "| Time Testing              |       0.41872453689575195 |\n"
          ],
          "name": "stdout"
        },
        {
          "output_type": "stream",
          "text": [
            "100%|██████████| 100/100 [00:04<00:00, 21.64it/s]\n",
            "  3%|▎         | 3/100 [00:00<00:04, 20.94it/s]"
          ],
          "name": "stderr"
        },
        {
          "output_type": "stream",
          "text": [
            "=========================================================\n",
            "| Iteration                 |                        27 |\n",
            "| Gradient Steps            |                      2700 |\n",
            "| Average Train Loss        |        0.6914035155616215 |\n",
            "| Start Train Loss          |         5.290715217590332 |\n",
            "| Final Train Loss          |       0.03966367244720459 |\n",
            "| Test Loss                 |        0.6234546757232504 |\n",
            "| Test Accuracy             |        0.8600000000000002 |\n",
            "| Train Accuracy            |                      0.85 |\n",
            "| Time Training             |         4.629016399383545 |\n",
            "| Time Testing              |        0.4159224033355713 |\n"
          ],
          "name": "stdout"
        },
        {
          "output_type": "stream",
          "text": [
            "100%|██████████| 100/100 [00:04<00:00, 21.51it/s]\n",
            "  3%|▎         | 3/100 [00:00<00:04, 20.51it/s]"
          ],
          "name": "stderr"
        },
        {
          "output_type": "stream",
          "text": [
            "=========================================================\n",
            "| Iteration                 |                        28 |\n",
            "| Gradient Steps            |                      2800 |\n",
            "| Average Train Loss        |        0.5593797428190196 |\n",
            "| Start Train Loss          |     0.0012758771190419793 |\n",
            "| Final Train Loss          |      0.006139675620943308 |\n",
            "| Test Loss                 |        0.7809731260087891 |\n",
            "| Test Accuracy             |        0.8600000000000002 |\n",
            "| Train Accuracy            |                     0.865 |\n",
            "| Time Training             |         4.656286001205444 |\n",
            "| Time Testing              |        0.4069514274597168 |\n"
          ],
          "name": "stdout"
        },
        {
          "output_type": "stream",
          "text": [
            "100%|██████████| 100/100 [00:04<00:00, 21.24it/s]\n",
            "  2%|▏         | 2/100 [00:00<00:05, 18.02it/s]"
          ],
          "name": "stderr"
        },
        {
          "output_type": "stream",
          "text": [
            "=========================================================\n",
            "| Iteration                 |                        29 |\n",
            "| Gradient Steps            |                      2900 |\n",
            "| Average Train Loss        |        0.7475114318334767 |\n",
            "| Start Train Loss          |          2.07116961479187 |\n",
            "| Final Train Loss          |     2.157661583623849e-05 |\n",
            "| Test Loss                 |        0.7331364634278816 |\n",
            "| Test Accuracy             |        0.8600000000000002 |\n",
            "| Train Accuracy            |                      0.86 |\n",
            "| Time Training             |         4.716244220733643 |\n",
            "| Time Testing              |        0.4247410297393799 |\n"
          ],
          "name": "stdout"
        },
        {
          "output_type": "stream",
          "text": [
            "100%|██████████| 100/100 [00:04<00:00, 21.26it/s]\n",
            "  2%|▏         | 2/100 [00:00<00:05, 19.55it/s]"
          ],
          "name": "stderr"
        },
        {
          "output_type": "stream",
          "text": [
            "=========================================================\n",
            "| Iteration                 |                        30 |\n",
            "| Gradient Steps            |                      3000 |\n",
            "| Average Train Loss        |        0.7360029203944669 |\n",
            "| Start Train Loss          |     0.0014771526912227273 |\n",
            "| Final Train Loss          |     0.0023372448049485683 |\n",
            "| Test Loss                 |        0.6533265881472833 |\n",
            "| Test Accuracy             |        0.9000000000000002 |\n",
            "| Train Accuracy            |                      0.84 |\n",
            "| Time Training             |         4.713497638702393 |\n",
            "| Time Testing              |        0.4161076545715332 |\n"
          ],
          "name": "stdout"
        },
        {
          "output_type": "stream",
          "text": [
            "100%|██████████| 100/100 [00:04<00:00, 21.83it/s]\n",
            "  2%|▏         | 2/100 [00:00<00:04, 19.87it/s]"
          ],
          "name": "stderr"
        },
        {
          "output_type": "stream",
          "text": [
            "=========================================================\n",
            "| Iteration                 |                        31 |\n",
            "| Gradient Steps            |                      3100 |\n",
            "| Average Train Loss        |        0.5635420378498156 |\n",
            "| Start Train Loss          |    1.8059896319755353e-05 |\n",
            "| Final Train Loss          |    0.00012784187856595963 |\n",
            "| Test Loss                 |        0.6398134033887913 |\n",
            "| Test Accuracy             |        0.8600000000000002 |\n",
            "| Train Accuracy            |                      0.88 |\n",
            "| Time Training             |         4.586308717727661 |\n",
            "| Time Testing              |       0.40503692626953125 |\n"
          ],
          "name": "stdout"
        },
        {
          "output_type": "stream",
          "text": [
            "100%|██████████| 100/100 [00:04<00:00, 22.79it/s]\n",
            "  3%|▎         | 3/100 [00:00<00:04, 23.37it/s]"
          ],
          "name": "stderr"
        },
        {
          "output_type": "stream",
          "text": [
            "=========================================================\n",
            "| Iteration                 |                        32 |\n",
            "| Gradient Steps            |                      3200 |\n",
            "| Average Train Loss        |        0.4487583846983405 |\n",
            "| Start Train Loss          |      0.010103611275553703 |\n",
            "| Final Train Loss          |        0.1594768464565277 |\n",
            "| Test Loss                 |          0.72558002258515 |\n",
            "| Test Accuracy             |        0.8800000000000002 |\n",
            "| Train Accuracy            |                      0.89 |\n",
            "| Time Training             |         4.391302824020386 |\n",
            "| Time Testing              |        0.4030587673187256 |\n"
          ],
          "name": "stdout"
        },
        {
          "output_type": "stream",
          "text": [
            "100%|██████████| 100/100 [00:04<00:00, 22.58it/s]\n",
            "  3%|▎         | 3/100 [00:00<00:04, 23.53it/s]"
          ],
          "name": "stderr"
        },
        {
          "output_type": "stream",
          "text": [
            "=========================================================\n",
            "| Iteration                 |                        33 |\n",
            "| Gradient Steps            |                      3300 |\n",
            "| Average Train Loss        |        0.6246867608606053 |\n",
            "| Start Train Loss          |    1.2040002729918342e-05 |\n",
            "| Final Train Loss          |      0.002140655880793929 |\n",
            "| Test Loss                 |        0.5388165070993637 |\n",
            "| Test Accuracy             |        0.8800000000000002 |\n",
            "| Train Accuracy            |                     0.865 |\n",
            "| Time Training             |         4.440267562866211 |\n",
            "| Time Testing              |       0.40177273750305176 |\n"
          ],
          "name": "stdout"
        },
        {
          "output_type": "stream",
          "text": [
            "100%|██████████| 100/100 [00:04<00:00, 22.20it/s]\n",
            "  3%|▎         | 3/100 [00:00<00:03, 24.44it/s]"
          ],
          "name": "stderr"
        },
        {
          "output_type": "stream",
          "text": [
            "=========================================================\n",
            "| Iteration                 |                        34 |\n",
            "| Gradient Steps            |                      3400 |\n",
            "| Average Train Loss        |        0.6445240555620795 |\n",
            "| Start Train Loss          |        3.6368067264556885 |\n",
            "| Final Train Loss          |       0.26837554574012756 |\n",
            "| Test Loss                 |        0.1451800411183376 |\n",
            "| Test Accuracy             |        0.9200000000000003 |\n",
            "| Train Accuracy            |                      0.87 |\n",
            "| Time Training             |         4.513893365859985 |\n",
            "| Time Testing              |       0.39949941635131836 |\n"
          ],
          "name": "stdout"
        },
        {
          "output_type": "stream",
          "text": [
            "100%|██████████| 100/100 [00:04<00:00, 23.04it/s]\n",
            "  3%|▎         | 3/100 [00:00<00:04, 22.48it/s]"
          ],
          "name": "stderr"
        },
        {
          "output_type": "stream",
          "text": [
            "=========================================================\n",
            "| Iteration                 |                        35 |\n",
            "| Gradient Steps            |                      3500 |\n",
            "| Average Train Loss        |        0.3968741650044981 |\n",
            "| Start Train Loss          |       0.02664702758193016 |\n",
            "| Final Train Loss          |      0.002504505682736635 |\n",
            "| Test Loss                 |       0.34965085011808605 |\n",
            "| Test Accuracy             |        0.9400000000000003 |\n",
            "| Train Accuracy            |                     0.885 |\n",
            "| Time Training             |         4.348989725112915 |\n",
            "| Time Testing              |       0.39789605140686035 |\n"
          ],
          "name": "stdout"
        },
        {
          "output_type": "stream",
          "text": [
            "100%|██████████| 100/100 [00:04<00:00, 22.22it/s]\n",
            "  3%|▎         | 3/100 [00:00<00:04, 24.00it/s]"
          ],
          "name": "stderr"
        },
        {
          "output_type": "stream",
          "text": [
            "=========================================================\n",
            "| Iteration                 |                        36 |\n",
            "| Gradient Steps            |                      3600 |\n",
            "| Average Train Loss        |        0.6500038141227245 |\n",
            "| Start Train Loss          |       0.07169856876134872 |\n",
            "| Final Train Loss          |      0.002016649581491947 |\n",
            "| Test Loss                 |       0.24892487645194478 |\n",
            "| Test Accuracy             |        0.9400000000000003 |\n",
            "| Train Accuracy            |                     0.895 |\n",
            "| Time Training             |         4.506268501281738 |\n",
            "| Time Testing              |        0.3858375549316406 |\n"
          ],
          "name": "stdout"
        },
        {
          "output_type": "stream",
          "text": [
            "100%|██████████| 100/100 [00:04<00:00, 22.92it/s]\n",
            "  3%|▎         | 3/100 [00:00<00:04, 23.53it/s]"
          ],
          "name": "stderr"
        },
        {
          "output_type": "stream",
          "text": [
            "=========================================================\n",
            "| Iteration                 |                        37 |\n",
            "| Gradient Steps            |                      3700 |\n",
            "| Average Train Loss        |        0.6444311140285515 |\n",
            "| Start Train Loss          |    0.00034886723733507097 |\n",
            "| Final Train Loss          |       3.7370715290308e-05 |\n",
            "| Test Loss                 |       0.29896411788923843 |\n",
            "| Test Accuracy             |        0.9600000000000003 |\n",
            "| Train Accuracy            |                      0.88 |\n",
            "| Time Training             |        4.3735058307647705 |\n",
            "| Time Testing              |       0.40787839889526367 |\n"
          ],
          "name": "stdout"
        },
        {
          "output_type": "stream",
          "text": [
            "100%|██████████| 100/100 [00:04<00:00, 22.17it/s]\n",
            "  3%|▎         | 3/100 [00:00<00:04, 22.77it/s]"
          ],
          "name": "stderr"
        },
        {
          "output_type": "stream",
          "text": [
            "=========================================================\n",
            "| Iteration                 |                        38 |\n",
            "| Gradient Steps            |                      3800 |\n",
            "| Average Train Loss        |         0.565803437509295 |\n",
            "| Start Train Loss          |      0.012096486054360867 |\n",
            "| Final Train Loss          |       0.03938059136271477 |\n",
            "| Test Loss                 |        0.9632124155105725 |\n",
            "| Test Accuracy             |        0.8800000000000002 |\n",
            "| Train Accuracy            |                      0.87 |\n",
            "| Time Training             |         4.518276214599609 |\n",
            "| Time Testing              |       0.40561938285827637 |\n"
          ],
          "name": "stdout"
        },
        {
          "output_type": "stream",
          "text": [
            "100%|██████████| 100/100 [00:04<00:00, 22.33it/s]\n",
            "  3%|▎         | 3/100 [00:00<00:04, 22.26it/s]"
          ],
          "name": "stderr"
        },
        {
          "output_type": "stream",
          "text": [
            "=========================================================\n",
            "| Iteration                 |                        39 |\n",
            "| Gradient Steps            |                      3900 |\n",
            "| Average Train Loss        |        0.5053138864174792 |\n",
            "| Start Train Loss          |      0.015714135020971298 |\n",
            "| Final Train Loss          |    5.9604641222676946e-08 |\n",
            "| Test Loss                 |        0.6568064898080394 |\n",
            "| Test Accuracy             |        0.9000000000000002 |\n",
            "| Train Accuracy            |                      0.87 |\n",
            "| Time Training             |        4.4880170822143555 |\n",
            "| Time Testing              |        0.4002726078033447 |\n"
          ],
          "name": "stdout"
        },
        {
          "output_type": "stream",
          "text": [
            "100%|██████████| 100/100 [00:04<00:00, 22.19it/s]\n",
            "  3%|▎         | 3/100 [00:00<00:04, 22.35it/s]"
          ],
          "name": "stderr"
        },
        {
          "output_type": "stream",
          "text": [
            "=========================================================\n",
            "| Iteration                 |                        40 |\n",
            "| Gradient Steps            |                      4000 |\n",
            "| Average Train Loss        |        0.7074484841790732 |\n",
            "| Start Train Loss          |     0.0020412160083651543 |\n",
            "| Final Train Loss          |    0.00011585806350922212 |\n",
            "| Test Loss                 |       0.21668955871241452 |\n",
            "| Test Accuracy             |        0.9400000000000003 |\n",
            "| Train Accuracy            |                     0.885 |\n",
            "| Time Training             |         4.516316175460815 |\n",
            "| Time Testing              |        0.4203314781188965 |\n"
          ],
          "name": "stdout"
        },
        {
          "output_type": "stream",
          "text": [
            "100%|██████████| 100/100 [00:04<00:00, 22.45it/s]\n",
            "  3%|▎         | 3/100 [00:00<00:04, 23.23it/s]"
          ],
          "name": "stderr"
        },
        {
          "output_type": "stream",
          "text": [
            "=========================================================\n",
            "| Iteration                 |                        41 |\n",
            "| Gradient Steps            |                      4100 |\n",
            "| Average Train Loss        |        0.5306287801841291 |\n",
            "| Start Train Loss          |      0.032028138637542725 |\n",
            "| Final Train Loss          |     0.0034200248774141073 |\n",
            "| Test Loss                 |       0.07801266197896893 |\n",
            "| Test Accuracy             |        0.9800000000000003 |\n",
            "| Train Accuracy            |                     0.875 |\n",
            "| Time Training             |         4.463887453079224 |\n",
            "| Time Testing              |       0.40178656578063965 |\n"
          ],
          "name": "stdout"
        },
        {
          "output_type": "stream",
          "text": [
            "100%|██████████| 100/100 [00:04<00:00, 22.18it/s]\n",
            "  3%|▎         | 3/100 [00:00<00:04, 22.99it/s]"
          ],
          "name": "stderr"
        },
        {
          "output_type": "stream",
          "text": [
            "=========================================================\n",
            "| Iteration                 |                        42 |\n",
            "| Gradient Steps            |                      4200 |\n",
            "| Average Train Loss        |       0.48757299520597813 |\n",
            "| Start Train Loss          |       0.14980708062648773 |\n",
            "| Final Train Loss          |        0.9638267159461975 |\n",
            "| Test Loss                 |        0.8856823380552578 |\n",
            "| Test Accuracy             |        0.9000000000000002 |\n",
            "| Train Accuracy            |                     0.885 |\n",
            "| Time Training             |         4.514246702194214 |\n",
            "| Time Testing              |       0.39505434036254883 |\n"
          ],
          "name": "stdout"
        },
        {
          "output_type": "stream",
          "text": [
            "100%|██████████| 100/100 [00:04<00:00, 22.32it/s]\n",
            "  3%|▎         | 3/100 [00:00<00:04, 22.65it/s]"
          ],
          "name": "stderr"
        },
        {
          "output_type": "stream",
          "text": [
            "=========================================================\n",
            "| Iteration                 |                        43 |\n",
            "| Gradient Steps            |                      4300 |\n",
            "| Average Train Loss        |        0.5302355108358603 |\n",
            "| Start Train Loss          |      0.007105561904609203 |\n",
            "| Final Train Loss          |     0.0001079328139894642 |\n",
            "| Test Loss                 |        0.6894567076274325 |\n",
            "| Test Accuracy             |        0.8600000000000002 |\n",
            "| Train Accuracy            |                     0.865 |\n",
            "| Time Training             |         4.494251489639282 |\n",
            "| Time Testing              |       0.40173768997192383 |\n"
          ],
          "name": "stdout"
        },
        {
          "output_type": "stream",
          "text": [
            "100%|██████████| 100/100 [00:04<00:00, 22.01it/s]\n",
            "  3%|▎         | 3/100 [00:00<00:03, 24.66it/s]"
          ],
          "name": "stderr"
        },
        {
          "output_type": "stream",
          "text": [
            "=========================================================\n",
            "| Iteration                 |                        44 |\n",
            "| Gradient Steps            |                      4400 |\n",
            "| Average Train Loss        |        0.4793397617770643 |\n",
            "| Start Train Loss          |       0.01395662222057581 |\n",
            "| Final Train Loss          |       0.06050682067871094 |\n",
            "| Test Loss                 |      0.042691412686683625 |\n",
            "| Test Accuracy             |        0.9600000000000003 |\n",
            "| Train Accuracy            |                      0.89 |\n",
            "| Time Training             |         4.546006679534912 |\n",
            "| Time Testing              |       0.39115023612976074 |\n"
          ],
          "name": "stdout"
        },
        {
          "output_type": "stream",
          "text": [
            "100%|██████████| 100/100 [00:04<00:00, 22.83it/s]\n",
            "  3%|▎         | 3/100 [00:00<00:04, 22.46it/s]"
          ],
          "name": "stderr"
        },
        {
          "output_type": "stream",
          "text": [
            "=========================================================\n",
            "| Iteration                 |                        45 |\n",
            "| Gradient Steps            |                      4500 |\n",
            "| Average Train Loss        |        0.3915506950245953 |\n",
            "| Start Train Loss          |     2.986144318128936e-05 |\n",
            "| Final Train Loss          |                       0.0 |\n",
            "| Test Loss                 |        0.9364225037461983 |\n",
            "| Test Accuracy             |        0.8200000000000003 |\n",
            "| Train Accuracy            |                      0.89 |\n",
            "| Time Training             |         4.386701583862305 |\n",
            "| Time Testing              |        0.4172983169555664 |\n"
          ],
          "name": "stdout"
        },
        {
          "output_type": "stream",
          "text": [
            "100%|██████████| 100/100 [00:04<00:00, 22.70it/s]\n",
            "  2%|▏         | 2/100 [00:00<00:05, 19.21it/s]"
          ],
          "name": "stderr"
        },
        {
          "output_type": "stream",
          "text": [
            "=========================================================\n",
            "| Iteration                 |                        46 |\n",
            "| Gradient Steps            |                      4600 |\n",
            "| Average Train Loss        |        0.8135000673287358 |\n",
            "| Start Train Loss          |     0.0049956622533500195 |\n",
            "| Final Train Loss          |     8.498902025166899e-05 |\n",
            "| Test Loss                 |         1.003407195596856 |\n",
            "| Test Accuracy             |        0.8800000000000003 |\n",
            "| Train Accuracy            |                     0.885 |\n",
            "| Time Training             |        4.4089391231536865 |\n",
            "| Time Testing              |       0.39122533798217773 |\n"
          ],
          "name": "stdout"
        },
        {
          "output_type": "stream",
          "text": [
            "100%|██████████| 100/100 [00:04<00:00, 22.74it/s]\n",
            "  3%|▎         | 3/100 [00:00<00:04, 23.58it/s]"
          ],
          "name": "stderr"
        },
        {
          "output_type": "stream",
          "text": [
            "=========================================================\n",
            "| Iteration                 |                        47 |\n",
            "| Gradient Steps            |                      4700 |\n",
            "| Average Train Loss        |       0.43879281943806914 |\n",
            "| Start Train Loss          |         4.101009845733643 |\n",
            "| Final Train Loss          |         1.025124430656433 |\n",
            "| Test Loss                 |       0.39244073210087665 |\n",
            "| Test Accuracy             |        0.9000000000000002 |\n",
            "| Train Accuracy            |                     0.895 |\n",
            "| Time Training             |         4.407239198684692 |\n",
            "| Time Testing              |        0.3876361846923828 |\n"
          ],
          "name": "stdout"
        },
        {
          "output_type": "stream",
          "text": [
            "100%|██████████| 100/100 [00:04<00:00, 22.95it/s]\n",
            "  3%|▎         | 3/100 [00:00<00:04, 22.82it/s]"
          ],
          "name": "stderr"
        },
        {
          "output_type": "stream",
          "text": [
            "=========================================================\n",
            "| Iteration                 |                        48 |\n",
            "| Gradient Steps            |                      4800 |\n",
            "| Average Train Loss        |        0.3418182104066622 |\n",
            "| Start Train Loss          |     0.0015568058006465435 |\n",
            "| Final Train Loss          |    5.3047861001687124e-06 |\n",
            "| Test Loss                 |        0.5141978782933478 |\n",
            "| Test Accuracy             |        0.9000000000000002 |\n",
            "| Train Accuracy            |                     0.925 |\n",
            "| Time Training             |         4.360589027404785 |\n",
            "| Time Testing              |       0.40575528144836426 |\n"
          ],
          "name": "stdout"
        },
        {
          "output_type": "stream",
          "text": [
            "100%|██████████| 100/100 [00:04<00:00, 23.24it/s]\n",
            "  3%|▎         | 3/100 [00:00<00:04, 22.11it/s]"
          ],
          "name": "stderr"
        },
        {
          "output_type": "stream",
          "text": [
            "=========================================================\n",
            "| Iteration                 |                        49 |\n",
            "| Gradient Steps            |                      4900 |\n",
            "| Average Train Loss        |        0.6191453185776403 |\n",
            "| Start Train Loss          |      0.004611906595528126 |\n",
            "| Final Train Loss          |    2.1874446247238666e-05 |\n",
            "| Test Loss                 |       0.34147255379514824 |\n",
            "| Test Accuracy             |        0.9600000000000003 |\n",
            "| Train Accuracy            |                      0.92 |\n",
            "| Time Training             |         4.308555841445923 |\n",
            "| Time Testing              |         0.410064697265625 |\n"
          ],
          "name": "stdout"
        },
        {
          "output_type": "stream",
          "text": [
            "100%|██████████| 100/100 [00:04<00:00, 23.06it/s]\n",
            "  3%|▎         | 3/100 [00:00<00:04, 23.34it/s]"
          ],
          "name": "stderr"
        },
        {
          "output_type": "stream",
          "text": [
            "=========================================================\n",
            "| Iteration                 |                        50 |\n",
            "| Gradient Steps            |                      5000 |\n",
            "| Average Train Loss        |       0.43843489165451416 |\n",
            "| Start Train Loss          |      0.035950638353824615 |\n",
            "| Final Train Loss          |     0.0016539732459932566 |\n",
            "| Test Loss                 |        0.2823339991249908 |\n",
            "| Test Accuracy             |        0.9400000000000003 |\n",
            "| Train Accuracy            |                      0.92 |\n",
            "| Time Training             |          4.34035849571228 |\n",
            "| Time Testing              |        0.4030005931854248 |\n"
          ],
          "name": "stdout"
        },
        {
          "output_type": "stream",
          "text": [
            "100%|██████████| 100/100 [00:04<00:00, 23.10it/s]\n",
            "  2%|▏         | 2/100 [00:00<00:05, 17.84it/s]"
          ],
          "name": "stderr"
        },
        {
          "output_type": "stream",
          "text": [
            "=========================================================\n",
            "| Iteration                 |                        51 |\n",
            "| Gradient Steps            |                      5100 |\n",
            "| Average Train Loss        |        0.8425110265189738 |\n",
            "| Start Train Loss          |         5.086935043334961 |\n",
            "| Final Train Loss          |       0.06202917546033859 |\n",
            "| Test Loss                 |       0.24363232967457862 |\n",
            "| Test Accuracy             |        0.9400000000000003 |\n",
            "| Train Accuracy            |                     0.855 |\n",
            "| Time Training             |        4.3369481563568115 |\n",
            "| Time Testing              |       0.39696550369262695 |\n"
          ],
          "name": "stdout"
        },
        {
          "output_type": "stream",
          "text": [
            "100%|██████████| 100/100 [00:04<00:00, 22.81it/s]\n",
            "  2%|▏         | 2/100 [00:00<00:04, 20.00it/s]"
          ],
          "name": "stderr"
        },
        {
          "output_type": "stream",
          "text": [
            "=========================================================\n",
            "| Iteration                 |                        52 |\n",
            "| Gradient Steps            |                      5200 |\n",
            "| Average Train Loss        |        0.3375444241505525 |\n",
            "| Start Train Loss          |      0.045209966599941254 |\n",
            "| Final Train Loss          |    2.0265554212528514e-06 |\n",
            "| Test Loss                 |        0.4196948258279552 |\n",
            "| Test Accuracy             |        0.8800000000000002 |\n",
            "| Train Accuracy            |                      0.92 |\n",
            "| Time Training             |          4.38726544380188 |\n",
            "| Time Testing              |        0.4153170585632324 |\n"
          ],
          "name": "stdout"
        },
        {
          "output_type": "stream",
          "text": [
            "100%|██████████| 100/100 [00:04<00:00, 22.81it/s]\n",
            "  3%|▎         | 3/100 [00:00<00:04, 22.92it/s]"
          ],
          "name": "stderr"
        },
        {
          "output_type": "stream",
          "text": [
            "=========================================================\n",
            "| Iteration                 |                        53 |\n",
            "| Gradient Steps            |                      5300 |\n",
            "| Average Train Loss        |       0.37039824020970014 |\n",
            "| Start Train Loss          |    0.00030369695741683245 |\n",
            "| Final Train Loss          |     0.0005780845531262457 |\n",
            "| Test Loss                 |       0.37288733421031994 |\n",
            "| Test Accuracy             |        0.9400000000000003 |\n",
            "| Train Accuracy            |                     0.905 |\n",
            "| Time Training             |         4.391937732696533 |\n",
            "| Time Testing              |       0.41140127182006836 |\n"
          ],
          "name": "stdout"
        },
        {
          "output_type": "stream",
          "text": [
            "100%|██████████| 100/100 [00:04<00:00, 22.82it/s]\n",
            "  3%|▎         | 3/100 [00:00<00:04, 23.19it/s]"
          ],
          "name": "stderr"
        },
        {
          "output_type": "stream",
          "text": [
            "=========================================================\n",
            "| Iteration                 |                        54 |\n",
            "| Gradient Steps            |                      5400 |\n",
            "| Average Train Loss        |         0.553364323164468 |\n",
            "| Start Train Loss          |     7.670529157621786e-05 |\n",
            "| Final Train Loss          |                       0.0 |\n",
            "| Test Loss                 |        0.8989488970303227 |\n",
            "| Test Accuracy             |        0.9400000000000003 |\n",
            "| Train Accuracy            |                      0.91 |\n",
            "| Time Training             |          4.38909125328064 |\n",
            "| Time Testing              |         0.405179500579834 |\n"
          ],
          "name": "stdout"
        },
        {
          "output_type": "stream",
          "text": [
            "100%|██████████| 100/100 [00:04<00:00, 23.29it/s]\n",
            "  3%|▎         | 3/100 [00:00<00:04, 21.99it/s]"
          ],
          "name": "stderr"
        },
        {
          "output_type": "stream",
          "text": [
            "=========================================================\n",
            "| Iteration                 |                        55 |\n",
            "| Gradient Steps            |                      5500 |\n",
            "| Average Train Loss        |        0.4860078537051495 |\n",
            "| Start Train Loss          |     0.0023754939902573824 |\n",
            "| Final Train Loss          |     0.0027519301511347294 |\n",
            "| Test Loss                 |        0.7650641832494216 |\n",
            "| Test Accuracy             |        0.9000000000000002 |\n",
            "| Train Accuracy            |                      0.91 |\n",
            "| Time Training             |         4.301656246185303 |\n",
            "| Time Testing              |        0.3880314826965332 |\n"
          ],
          "name": "stdout"
        },
        {
          "output_type": "stream",
          "text": [
            "100%|██████████| 100/100 [00:04<00:00, 22.66it/s]\n",
            "  3%|▎         | 3/100 [00:00<00:03, 24.93it/s]"
          ],
          "name": "stderr"
        },
        {
          "output_type": "stream",
          "text": [
            "=========================================================\n",
            "| Iteration                 |                        56 |\n",
            "| Gradient Steps            |                      5600 |\n",
            "| Average Train Loss        |        0.3829953883571832 |\n",
            "| Start Train Loss          |       0.02342701330780983 |\n",
            "| Final Train Loss          |      0.007150121033191681 |\n",
            "| Test Loss                 |       0.26840003216345976 |\n",
            "| Test Accuracy             |        0.9600000000000003 |\n",
            "| Train Accuracy            |                     0.915 |\n",
            "| Time Training             |          4.41904878616333 |\n",
            "| Time Testing              |        0.3781003952026367 |\n"
          ],
          "name": "stdout"
        },
        {
          "output_type": "stream",
          "text": [
            "100%|██████████| 100/100 [00:04<00:00, 22.85it/s]\n",
            "  3%|▎         | 3/100 [00:00<00:04, 23.40it/s]"
          ],
          "name": "stderr"
        },
        {
          "output_type": "stream",
          "text": [
            "=========================================================\n",
            "| Iteration                 |                        57 |\n",
            "| Gradient Steps            |                      5700 |\n",
            "| Average Train Loss        |        0.5760946079098821 |\n",
            "| Start Train Loss          |     0.0035620261915028095 |\n",
            "| Final Train Loss          |     0.0018424324225634336 |\n",
            "| Test Loss                 |        0.8037579606646907 |\n",
            "| Test Accuracy             |        0.7800000000000002 |\n",
            "| Train Accuracy            |                     0.865 |\n",
            "| Time Training             |         4.385148525238037 |\n",
            "| Time Testing              |        0.3924214839935303 |\n"
          ],
          "name": "stdout"
        },
        {
          "output_type": "stream",
          "text": [
            "100%|██████████| 100/100 [00:04<00:00, 22.95it/s]\n",
            "  3%|▎         | 3/100 [00:00<00:04, 23.54it/s]"
          ],
          "name": "stderr"
        },
        {
          "output_type": "stream",
          "text": [
            "=========================================================\n",
            "| Iteration                 |                        58 |\n",
            "| Gradient Steps            |                      5800 |\n",
            "| Average Train Loss        |        0.4935535665538754 |\n",
            "| Start Train Loss          |       0.07733658701181412 |\n",
            "| Final Train Loss          |    1.1980460840277374e-05 |\n",
            "| Test Loss                 |        0.4282396155836842 |\n",
            "| Test Accuracy             |        0.8600000000000002 |\n",
            "| Train Accuracy            |                     0.895 |\n",
            "| Time Training             |         4.365512371063232 |\n",
            "| Time Testing              |       0.41247105598449707 |\n"
          ],
          "name": "stdout"
        },
        {
          "output_type": "stream",
          "text": [
            "100%|██████████| 100/100 [00:04<00:00, 22.83it/s]\n",
            "  3%|▎         | 3/100 [00:00<00:04, 23.16it/s]"
          ],
          "name": "stderr"
        },
        {
          "output_type": "stream",
          "text": [
            "=========================================================\n",
            "| Iteration                 |                        59 |\n",
            "| Gradient Steps            |                      5900 |\n",
            "| Average Train Loss        |        0.3694654723865611 |\n",
            "| Start Train Loss          |        0.3270336985588074 |\n",
            "| Final Train Loss          |    2.3841852225814364e-07 |\n",
            "| Test Loss                 |        0.5449904493115537 |\n",
            "| Test Accuracy             |        0.8800000000000002 |\n",
            "| Train Accuracy            |                     0.895 |\n",
            "| Time Training             |          4.38671088218689 |\n",
            "| Time Testing              |        0.4061267375946045 |\n"
          ],
          "name": "stdout"
        },
        {
          "output_type": "stream",
          "text": [
            "100%|██████████| 100/100 [00:04<00:00, 23.16it/s]\n",
            "  3%|▎         | 3/100 [00:00<00:04, 22.58it/s]"
          ],
          "name": "stderr"
        },
        {
          "output_type": "stream",
          "text": [
            "=========================================================\n",
            "| Iteration                 |                        60 |\n",
            "| Gradient Steps            |                      6000 |\n",
            "| Average Train Loss        |        0.6891662817315094 |\n",
            "| Start Train Loss          |        3.5163912773132324 |\n",
            "| Final Train Loss          |       0.09322059899568558 |\n",
            "| Test Loss                 |      0.015628261296806157 |\n",
            "| Test Accuracy             |        1.0000000000000002 |\n",
            "| Train Accuracy            |                     0.855 |\n",
            "| Time Training             |         4.322873830795288 |\n",
            "| Time Testing              |        0.3882451057434082 |\n"
          ],
          "name": "stdout"
        },
        {
          "output_type": "stream",
          "text": [
            "100%|██████████| 100/100 [00:04<00:00, 22.80it/s]\n",
            "  3%|▎         | 3/100 [00:00<00:04, 22.42it/s]"
          ],
          "name": "stderr"
        },
        {
          "output_type": "stream",
          "text": [
            "=========================================================\n",
            "| Iteration                 |                        61 |\n",
            "| Gradient Steps            |                      6100 |\n",
            "| Average Train Loss        |       0.48003467976328124 |\n",
            "| Start Train Loss          |      0.000799216446466744 |\n",
            "| Final Train Loss          |     0.0014625689946115017 |\n",
            "| Test Loss                 |       0.22888360097121443 |\n",
            "| Test Accuracy             |        0.9600000000000004 |\n",
            "| Train Accuracy            |                      0.89 |\n",
            "| Time Training             |         4.393187999725342 |\n",
            "| Time Testing              |        0.4069538116455078 |\n"
          ],
          "name": "stdout"
        },
        {
          "output_type": "stream",
          "text": [
            "100%|██████████| 100/100 [00:04<00:00, 22.91it/s]\n",
            "  3%|▎         | 3/100 [00:00<00:04, 21.82it/s]"
          ],
          "name": "stderr"
        },
        {
          "output_type": "stream",
          "text": [
            "=========================================================\n",
            "| Iteration                 |                        62 |\n",
            "| Gradient Steps            |                      6200 |\n",
            "| Average Train Loss        |        0.3542146665838322 |\n",
            "| Start Train Loss          |     0.0002141279837815091 |\n",
            "| Final Train Loss          |       0.00571134639903903 |\n",
            "| Test Loss                 |          0.78913198917396 |\n",
            "| Test Accuracy             |        0.9000000000000002 |\n",
            "| Train Accuracy            |                       0.9 |\n",
            "| Time Training             |         4.371711492538452 |\n",
            "| Time Testing              |        0.4034879207611084 |\n"
          ],
          "name": "stdout"
        },
        {
          "output_type": "stream",
          "text": [
            "100%|██████████| 100/100 [00:04<00:00, 23.10it/s]\n",
            "  3%|▎         | 3/100 [00:00<00:03, 24.62it/s]"
          ],
          "name": "stderr"
        },
        {
          "output_type": "stream",
          "text": [
            "=========================================================\n",
            "| Iteration                 |                        63 |\n",
            "| Gradient Steps            |                      6300 |\n",
            "| Average Train Loss        |       0.45610217124364794 |\n",
            "| Start Train Loss          |    0.00026689801597967744 |\n",
            "| Final Train Loss          |      0.005515723023563623 |\n",
            "| Test Loss                 |       0.21730294188819346 |\n",
            "| Test Accuracy             |        0.9600000000000003 |\n",
            "| Train Accuracy            |                     0.875 |\n",
            "| Time Training             |         4.333476781845093 |\n",
            "| Time Testing              |       0.40737271308898926 |\n"
          ],
          "name": "stdout"
        },
        {
          "output_type": "stream",
          "text": [
            "100%|██████████| 100/100 [00:04<00:00, 23.19it/s]\n",
            "  3%|▎         | 3/100 [00:00<00:04, 23.19it/s]"
          ],
          "name": "stderr"
        },
        {
          "output_type": "stream",
          "text": [
            "=========================================================\n",
            "| Iteration                 |                        64 |\n",
            "| Gradient Steps            |                      6400 |\n",
            "| Average Train Loss        |        0.3523053414318564 |\n",
            "| Start Train Loss          |     0.0005393779138103127 |\n",
            "| Final Train Loss          |      0.007664094679057598 |\n",
            "| Test Loss                 |        0.5065559812169613 |\n",
            "| Test Accuracy             |        0.9200000000000003 |\n",
            "| Train Accuracy            |                     0.915 |\n",
            "| Time Training             |         4.328704118728638 |\n",
            "| Time Testing              |       0.40328121185302734 |\n"
          ],
          "name": "stdout"
        },
        {
          "output_type": "stream",
          "text": [
            "100%|██████████| 100/100 [00:04<00:00, 22.64it/s]\n",
            "  3%|▎         | 3/100 [00:00<00:04, 23.70it/s]"
          ],
          "name": "stderr"
        },
        {
          "output_type": "stream",
          "text": [
            "=========================================================\n",
            "| Iteration                 |                        65 |\n",
            "| Gradient Steps            |                      6500 |\n",
            "| Average Train Loss        |        0.5503534089274573 |\n",
            "| Start Train Loss          |     0.0013330084038898349 |\n",
            "| Final Train Loss          |      9.77508898358792e-06 |\n",
            "| Test Loss                 |        0.8158261311332053 |\n",
            "| Test Accuracy             |        0.8600000000000003 |\n",
            "| Train Accuracy            |                      0.89 |\n",
            "| Time Training             |           4.4225013256073 |\n",
            "| Time Testing              |        0.4083364009857178 |\n"
          ],
          "name": "stdout"
        },
        {
          "output_type": "stream",
          "text": [
            "100%|██████████| 100/100 [00:04<00:00, 22.54it/s]\n",
            "  3%|▎         | 3/100 [00:00<00:04, 23.84it/s]"
          ],
          "name": "stderr"
        },
        {
          "output_type": "stream",
          "text": [
            "=========================================================\n",
            "| Iteration                 |                        66 |\n",
            "| Gradient Steps            |                      6600 |\n",
            "| Average Train Loss        |         0.506959873239698 |\n",
            "| Start Train Loss          |        0.2736201286315918 |\n",
            "| Final Train Loss          |     0.0009271714370697737 |\n",
            "| Test Loss                 |       0.35338137515368767 |\n",
            "| Test Accuracy             |        0.9600000000000003 |\n",
            "| Train Accuracy            |                     0.885 |\n",
            "| Time Training             |        4.4477691650390625 |\n",
            "| Time Testing              |       0.41168880462646484 |\n"
          ],
          "name": "stdout"
        },
        {
          "output_type": "stream",
          "text": [
            "100%|██████████| 100/100 [00:04<00:00, 22.93it/s]\n",
            "  3%|▎         | 3/100 [00:00<00:04, 22.16it/s]"
          ],
          "name": "stderr"
        },
        {
          "output_type": "stream",
          "text": [
            "=========================================================\n",
            "| Iteration                 |                        67 |\n",
            "| Gradient Steps            |                      6700 |\n",
            "| Average Train Loss        |        0.7344502974924089 |\n",
            "| Start Train Loss          |      0.001231701928190887 |\n",
            "| Final Train Loss          |        2.2157227993011475 |\n",
            "| Test Loss                 |        0.2193293920851647 |\n",
            "| Test Accuracy             |        0.9000000000000002 |\n",
            "| Train Accuracy            |                      0.86 |\n",
            "| Time Training             |         4.371782302856445 |\n",
            "| Time Testing              |        0.4165024757385254 |\n"
          ],
          "name": "stdout"
        },
        {
          "output_type": "stream",
          "text": [
            "100%|██████████| 100/100 [00:04<00:00, 22.74it/s]\n",
            "  3%|▎         | 3/100 [00:00<00:03, 24.66it/s]"
          ],
          "name": "stderr"
        },
        {
          "output_type": "stream",
          "text": [
            "=========================================================\n",
            "| Iteration                 |                        68 |\n",
            "| Gradient Steps            |                      6800 |\n",
            "| Average Train Loss        |       0.33090128387758466 |\n",
            "| Start Train Loss          |           2.6775062084198 |\n",
            "| Final Train Loss          |        2.5865471363067627 |\n",
            "| Test Loss                 |       0.47329045697734845 |\n",
            "| Test Accuracy             |        0.9200000000000003 |\n",
            "| Train Accuracy            |                     0.925 |\n",
            "| Time Training             |        4.4050304889678955 |\n",
            "| Time Testing              |        0.3986179828643799 |\n"
          ],
          "name": "stdout"
        },
        {
          "output_type": "stream",
          "text": [
            "100%|██████████| 100/100 [00:04<00:00, 22.96it/s]\n",
            "  3%|▎         | 3/100 [00:00<00:04, 21.80it/s]"
          ],
          "name": "stderr"
        },
        {
          "output_type": "stream",
          "text": [
            "=========================================================\n",
            "| Iteration                 |                        69 |\n",
            "| Gradient Steps            |                      6900 |\n",
            "| Average Train Loss        |        0.5527820953315262 |\n",
            "| Start Train Loss          |                       0.0 |\n",
            "| Final Train Loss          |     0.0002664221974555403 |\n",
            "| Test Loss                 |        0.2595990614710445 |\n",
            "| Test Accuracy             |        0.9400000000000003 |\n",
            "| Train Accuracy            |                       0.9 |\n",
            "| Time Training             |         4.364869594573975 |\n",
            "| Time Testing              |        0.4028279781341553 |\n"
          ],
          "name": "stdout"
        },
        {
          "output_type": "stream",
          "text": [
            "100%|██████████| 100/100 [00:04<00:00, 22.41it/s]\n",
            "  3%|▎         | 3/100 [00:00<00:04, 22.65it/s]"
          ],
          "name": "stderr"
        },
        {
          "output_type": "stream",
          "text": [
            "=========================================================\n",
            "| Iteration                 |                        70 |\n",
            "| Gradient Steps            |                      7000 |\n",
            "| Average Train Loss        |        0.2477045177040786 |\n",
            "| Start Train Loss          |     7.009128603385761e-05 |\n",
            "| Final Train Loss          |        0.2768923044204712 |\n",
            "| Test Loss                 |        0.2762449070431649 |\n",
            "| Test Accuracy             |        0.9200000000000004 |\n",
            "| Train Accuracy            |                      0.94 |\n",
            "| Time Training             |         4.474292755126953 |\n",
            "| Time Testing              |       0.38553857803344727 |\n"
          ],
          "name": "stdout"
        },
        {
          "output_type": "stream",
          "text": [
            "100%|██████████| 100/100 [00:04<00:00, 22.84it/s]\n",
            "  3%|▎         | 3/100 [00:00<00:04, 22.27it/s]"
          ],
          "name": "stderr"
        },
        {
          "output_type": "stream",
          "text": [
            "=========================================================\n",
            "| Iteration                 |                        71 |\n",
            "| Gradient Steps            |                      7100 |\n",
            "| Average Train Loss        |        0.4750996533837912 |\n",
            "| Start Train Loss          |    0.00014786727842874825 |\n",
            "| Final Train Loss          |     6.931778625585139e-05 |\n",
            "| Test Loss                 |        0.2427500133731633 |\n",
            "| Test Accuracy             |        0.9200000000000003 |\n",
            "| Train Accuracy            |                     0.905 |\n",
            "| Time Training             |         4.384613752365112 |\n",
            "| Time Testing              |        0.3839905261993408 |\n"
          ],
          "name": "stdout"
        },
        {
          "output_type": "stream",
          "text": [
            "100%|██████████| 100/100 [00:04<00:00, 22.61it/s]\n",
            "  3%|▎         | 3/100 [00:00<00:04, 22.77it/s]"
          ],
          "name": "stderr"
        },
        {
          "output_type": "stream",
          "text": [
            "=========================================================\n",
            "| Iteration                 |                        72 |\n",
            "| Gradient Steps            |                      7200 |\n",
            "| Average Train Loss        |       0.44091340124791656 |\n",
            "| Start Train Loss          |     1.072882469088654e-06 |\n",
            "| Final Train Loss          |     6.020032742526382e-06 |\n",
            "| Test Loss                 |       0.47067046948623664 |\n",
            "| Test Accuracy             |        0.9400000000000003 |\n",
            "| Train Accuracy            |                       0.9 |\n",
            "| Time Training             |         4.428351640701294 |\n",
            "| Time Testing              |        0.4029664993286133 |\n"
          ],
          "name": "stdout"
        },
        {
          "output_type": "stream",
          "text": [
            "100%|██████████| 100/100 [00:04<00:00, 22.78it/s]\n",
            "  3%|▎         | 3/100 [00:00<00:04, 22.03it/s]"
          ],
          "name": "stderr"
        },
        {
          "output_type": "stream",
          "text": [
            "=========================================================\n",
            "| Iteration                 |                        73 |\n",
            "| Gradient Steps            |                      7300 |\n",
            "| Average Train Loss        |        0.2776377372079243 |\n",
            "| Start Train Loss          |     0.0010022157803177834 |\n",
            "| Final Train Loss          |        0.5912461280822754 |\n",
            "| Test Loss                 |       0.29527339497086535 |\n",
            "| Test Accuracy             |        0.9400000000000003 |\n",
            "| Train Accuracy            |                      0.94 |\n",
            "| Time Training             |         4.399155855178833 |\n",
            "| Time Testing              |        0.3928253650665283 |\n"
          ],
          "name": "stdout"
        },
        {
          "output_type": "stream",
          "text": [
            "100%|██████████| 100/100 [00:04<00:00, 22.58it/s]\n",
            "  3%|▎         | 3/100 [00:00<00:04, 20.43it/s]"
          ],
          "name": "stderr"
        },
        {
          "output_type": "stream",
          "text": [
            "=========================================================\n",
            "| Iteration                 |                        74 |\n",
            "| Gradient Steps            |                      7400 |\n",
            "| Average Train Loss        |        0.5331980737348637 |\n",
            "| Start Train Loss          |    3.5762775496550603e-07 |\n",
            "| Final Train Loss          |        2.2374444007873535 |\n",
            "| Test Loss                 |        0.2973762414649568 |\n",
            "| Test Accuracy             |        0.9200000000000003 |\n",
            "| Train Accuracy            |                      0.92 |\n",
            "| Time Training             |         4.432385206222534 |\n",
            "| Time Testing              |        0.4111332893371582 |\n"
          ],
          "name": "stdout"
        },
        {
          "output_type": "stream",
          "text": [
            "100%|██████████| 100/100 [00:04<00:00, 22.79it/s]\n",
            "  3%|▎         | 3/100 [00:00<00:04, 23.23it/s]"
          ],
          "name": "stderr"
        },
        {
          "output_type": "stream",
          "text": [
            "=========================================================\n",
            "| Iteration                 |                        75 |\n",
            "| Gradient Steps            |                      7500 |\n",
            "| Average Train Loss        |       0.38694059956664545 |\n",
            "| Start Train Loss          |        0.6959194540977478 |\n",
            "| Final Train Loss          |       0.00509636290371418 |\n",
            "| Test Loss                 |        0.1560109129034913 |\n",
            "| Test Accuracy             |        0.9400000000000003 |\n",
            "| Train Accuracy            |                      0.93 |\n",
            "| Time Training             |         4.392337322235107 |\n",
            "| Time Testing              |        0.3925631046295166 |\n"
          ],
          "name": "stdout"
        },
        {
          "output_type": "stream",
          "text": [
            "100%|██████████| 100/100 [00:04<00:00, 22.79it/s]\n",
            "  3%|▎         | 3/100 [00:00<00:03, 24.49it/s]"
          ],
          "name": "stderr"
        },
        {
          "output_type": "stream",
          "text": [
            "=========================================================\n",
            "| Iteration                 |                        76 |\n",
            "| Gradient Steps            |                      7600 |\n",
            "| Average Train Loss        |        0.4513537246619154 |\n",
            "| Start Train Loss          |         3.841489791870117 |\n",
            "| Final Train Loss          |      0.000990860047750175 |\n",
            "| Test Loss                 |       0.39415915426855735 |\n",
            "| Test Accuracy             |        0.9400000000000003 |\n",
            "| Train Accuracy            |                      0.92 |\n",
            "| Time Training             |          4.39365029335022 |\n",
            "| Time Testing              |       0.39597654342651367 |\n"
          ],
          "name": "stdout"
        },
        {
          "output_type": "stream",
          "text": [
            "100%|██████████| 100/100 [00:04<00:00, 22.73it/s]\n",
            "  3%|▎         | 3/100 [00:00<00:04, 21.19it/s]"
          ],
          "name": "stderr"
        },
        {
          "output_type": "stream",
          "text": [
            "=========================================================\n",
            "| Iteration                 |                        77 |\n",
            "| Gradient Steps            |                      7700 |\n",
            "| Average Train Loss        |        0.5330442568616861 |\n",
            "| Start Train Loss          |     4.827961220144061e-06 |\n",
            "| Final Train Loss          |         8.658333778381348 |\n",
            "| Test Loss                 |        0.4475764014540111 |\n",
            "| Test Accuracy             |        0.9600000000000003 |\n",
            "| Train Accuracy            |                      0.91 |\n",
            "| Time Training             |         4.404958248138428 |\n",
            "| Time Testing              |        0.4006986618041992 |\n"
          ],
          "name": "stdout"
        },
        {
          "output_type": "stream",
          "text": [
            "100%|██████████| 100/100 [00:04<00:00, 22.70it/s]\n",
            "  3%|▎         | 3/100 [00:00<00:04, 22.81it/s]"
          ],
          "name": "stderr"
        },
        {
          "output_type": "stream",
          "text": [
            "=========================================================\n",
            "| Iteration                 |                        78 |\n",
            "| Gradient Steps            |                      7800 |\n",
            "| Average Train Loss        |       0.47888066803651874 |\n",
            "| Start Train Loss          |      0.007170533761382103 |\n",
            "| Final Train Loss          |    2.1993710106471553e-05 |\n",
            "| Test Loss                 |       0.35611584531419793 |\n",
            "| Test Accuracy             |        0.9600000000000003 |\n",
            "| Train Accuracy            |                      0.92 |\n",
            "| Time Training             |         4.410208702087402 |\n",
            "| Time Testing              |       0.40056514739990234 |\n"
          ],
          "name": "stdout"
        },
        {
          "output_type": "stream",
          "text": [
            "100%|██████████| 100/100 [00:04<00:00, 22.04it/s]\n",
            "  3%|▎         | 3/100 [00:00<00:04, 22.67it/s]"
          ],
          "name": "stderr"
        },
        {
          "output_type": "stream",
          "text": [
            "=========================================================\n",
            "| Iteration                 |                        79 |\n",
            "| Gradient Steps            |                      7900 |\n",
            "| Average Train Loss        |        0.4554459898315446 |\n",
            "| Start Train Loss          |        0.6518527269363403 |\n",
            "| Final Train Loss          |      0.045784663408994675 |\n",
            "| Test Loss                 |        0.4917967845109343 |\n",
            "| Test Accuracy             |        0.9400000000000003 |\n",
            "| Train Accuracy            |                       0.9 |\n",
            "| Time Training             |         4.543384075164795 |\n",
            "| Time Testing              |        0.3898181915283203 |\n"
          ],
          "name": "stdout"
        },
        {
          "output_type": "stream",
          "text": [
            "100%|██████████| 100/100 [00:04<00:00, 22.88it/s]\n",
            "  3%|▎         | 3/100 [00:00<00:04, 22.29it/s]"
          ],
          "name": "stderr"
        },
        {
          "output_type": "stream",
          "text": [
            "=========================================================\n",
            "| Iteration                 |                        80 |\n",
            "| Gradient Steps            |                      8000 |\n",
            "| Average Train Loss        |        0.3282969589508854 |\n",
            "| Start Train Loss          |    0.00012491591041907668 |\n",
            "| Final Train Loss          |        0.6665182709693909 |\n",
            "| Test Loss                 |       0.49232279434222626 |\n",
            "| Test Accuracy             |        0.9600000000000003 |\n",
            "| Train Accuracy            |                      0.92 |\n",
            "| Time Training             |         4.374648332595825 |\n",
            "| Time Testing              |       0.41504788398742676 |\n"
          ],
          "name": "stdout"
        },
        {
          "output_type": "stream",
          "text": [
            "100%|██████████| 100/100 [00:04<00:00, 22.53it/s]\n",
            "  2%|▏         | 2/100 [00:00<00:05, 19.43it/s]"
          ],
          "name": "stderr"
        },
        {
          "output_type": "stream",
          "text": [
            "=========================================================\n",
            "| Iteration                 |                        81 |\n",
            "| Gradient Steps            |                      8100 |\n",
            "| Average Train Loss        |        0.5930776957066689 |\n",
            "| Start Train Loss          |     0.0018928137142211199 |\n",
            "| Final Train Loss          |    0.00028048103558830917 |\n",
            "| Test Loss                 |        0.3254679364027098 |\n",
            "| Test Accuracy             |        0.9400000000000003 |\n",
            "| Train Accuracy            |                     0.865 |\n",
            "| Time Training             |         4.443802118301392 |\n",
            "| Time Testing              |        0.4043295383453369 |\n"
          ],
          "name": "stdout"
        },
        {
          "output_type": "stream",
          "text": [
            "100%|██████████| 100/100 [00:04<00:00, 21.85it/s]\n",
            "  3%|▎         | 3/100 [00:00<00:04, 20.33it/s]"
          ],
          "name": "stderr"
        },
        {
          "output_type": "stream",
          "text": [
            "=========================================================\n",
            "| Iteration                 |                        82 |\n",
            "| Gradient Steps            |                      8200 |\n",
            "| Average Train Loss        |        0.5040183188708466 |\n",
            "| Start Train Loss          |        2.5478692054748535 |\n",
            "| Final Train Loss          |      0.007490405347198248 |\n",
            "| Test Loss                 |       0.31153298143838587 |\n",
            "| Test Accuracy             |        0.9400000000000003 |\n",
            "| Train Accuracy            |                      0.89 |\n",
            "| Time Training             |         4.583423137664795 |\n",
            "| Time Testing              |       0.41318178176879883 |\n"
          ],
          "name": "stdout"
        },
        {
          "output_type": "stream",
          "text": [
            "100%|██████████| 100/100 [00:04<00:00, 21.12it/s]\n",
            "  3%|▎         | 3/100 [00:00<00:04, 20.74it/s]"
          ],
          "name": "stderr"
        },
        {
          "output_type": "stream",
          "text": [
            "=========================================================\n",
            "| Iteration                 |                        83 |\n",
            "| Gradient Steps            |                      8300 |\n",
            "| Average Train Loss        |        0.2827810322279953 |\n",
            "| Start Train Loss          |      0.017879242077469826 |\n",
            "| Final Train Loss          |     0.0005503250285983086 |\n",
            "| Test Loss                 |       0.35095222445888324 |\n",
            "| Test Accuracy             |        0.9400000000000003 |\n",
            "| Train Accuracy            |                      0.93 |\n",
            "| Time Training             |         4.738239765167236 |\n",
            "| Time Testing              |         0.422161340713501 |\n"
          ],
          "name": "stdout"
        },
        {
          "output_type": "stream",
          "text": [
            "100%|██████████| 100/100 [00:04<00:00, 20.98it/s]\n",
            "  3%|▎         | 3/100 [00:00<00:04, 22.02it/s]"
          ],
          "name": "stderr"
        },
        {
          "output_type": "stream",
          "text": [
            "=========================================================\n",
            "| Iteration                 |                        84 |\n",
            "| Gradient Steps            |                      8400 |\n",
            "| Average Train Loss        |        0.4515295326593139 |\n",
            "| Start Train Loss          |    0.00021286337869241834 |\n",
            "| Final Train Loss          |    0.00014666607603430748 |\n",
            "| Test Loss                 |       0.45416683573103434 |\n",
            "| Test Accuracy             |        0.9400000000000003 |\n",
            "| Train Accuracy            |                     0.895 |\n",
            "| Time Training             |         4.771329641342163 |\n",
            "| Time Testing              |       0.44011521339416504 |\n"
          ],
          "name": "stdout"
        },
        {
          "output_type": "stream",
          "text": [
            "100%|██████████| 100/100 [00:04<00:00, 20.90it/s]\n",
            "  3%|▎         | 3/100 [00:00<00:04, 21.32it/s]"
          ],
          "name": "stderr"
        },
        {
          "output_type": "stream",
          "text": [
            "=========================================================\n",
            "| Iteration                 |                        85 |\n",
            "| Gradient Steps            |                      8500 |\n",
            "| Average Train Loss        |       0.41789454370781526 |\n",
            "| Start Train Loss          |    1.8238850316265598e-05 |\n",
            "| Final Train Loss          |    0.00021149350504856557 |\n",
            "| Test Loss                 |        0.5025650472593963 |\n",
            "| Test Accuracy             |        0.9200000000000003 |\n",
            "| Train Accuracy            |                     0.885 |\n",
            "| Time Training             |         4.794429063796997 |\n",
            "| Time Testing              |        0.4302642345428467 |\n"
          ],
          "name": "stdout"
        },
        {
          "output_type": "stream",
          "text": [
            "100%|██████████| 100/100 [00:04<00:00, 21.41it/s]\n",
            "  3%|▎         | 3/100 [00:00<00:04, 23.27it/s]"
          ],
          "name": "stderr"
        },
        {
          "output_type": "stream",
          "text": [
            "=========================================================\n",
            "| Iteration                 |                        86 |\n",
            "| Gradient Steps            |                      8600 |\n",
            "| Average Train Loss        |        0.4105059768863643 |\n",
            "| Start Train Loss          |     0.0006557940505445004 |\n",
            "| Final Train Loss          |      0.009749697521328926 |\n",
            "| Test Loss                 |      0.045214360281870536 |\n",
            "| Test Accuracy             |        0.9800000000000003 |\n",
            "| Train Accuracy            |                       0.9 |\n",
            "| Time Training             |        4.6845011711120605 |\n",
            "| Time Testing              |         0.418393611907959 |\n"
          ],
          "name": "stdout"
        },
        {
          "output_type": "stream",
          "text": [
            "100%|██████████| 100/100 [00:04<00:00, 21.59it/s]\n",
            "  3%|▎         | 3/100 [00:00<00:04, 23.40it/s]"
          ],
          "name": "stderr"
        },
        {
          "output_type": "stream",
          "text": [
            "=========================================================\n",
            "| Iteration                 |                        87 |\n",
            "| Gradient Steps            |                      8700 |\n",
            "| Average Train Loss        |        0.4416117372851659 |\n",
            "| Start Train Loss          |       0.17169296741485596 |\n",
            "| Final Train Loss          |        0.4346620440483093 |\n",
            "| Test Loss                 |       0.09352505148507048 |\n",
            "| Test Accuracy             |        0.9600000000000003 |\n",
            "| Train Accuracy            |                     0.905 |\n",
            "| Time Training             |         4.638896465301514 |\n",
            "| Time Testing              |       0.40120840072631836 |\n"
          ],
          "name": "stdout"
        },
        {
          "output_type": "stream",
          "text": [
            "100%|██████████| 100/100 [00:04<00:00, 22.27it/s]\n",
            "  3%|▎         | 3/100 [00:00<00:04, 21.96it/s]"
          ],
          "name": "stderr"
        },
        {
          "output_type": "stream",
          "text": [
            "=========================================================\n",
            "| Iteration                 |                        88 |\n",
            "| Gradient Steps            |                      8800 |\n",
            "| Average Train Loss        |        0.3333664693425459 |\n",
            "| Start Train Loss          |     4.768351573147811e-06 |\n",
            "| Final Train Loss          |    0.00023609788331668824 |\n",
            "| Test Loss                 |        0.4928966528079273 |\n",
            "| Test Accuracy             |        0.8800000000000002 |\n",
            "| Train Accuracy            |                     0.905 |\n",
            "| Time Training             |        4.4957005977630615 |\n",
            "| Time Testing              |       0.42374420166015625 |\n"
          ],
          "name": "stdout"
        },
        {
          "output_type": "stream",
          "text": [
            "100%|██████████| 100/100 [00:04<00:00, 22.26it/s]\n",
            "  2%|▏         | 2/100 [00:00<00:04, 20.00it/s]"
          ],
          "name": "stderr"
        },
        {
          "output_type": "stream",
          "text": [
            "=========================================================\n",
            "| Iteration                 |                        89 |\n",
            "| Gradient Steps            |                      8900 |\n",
            "| Average Train Loss        |        0.3878489861064911 |\n",
            "| Start Train Loss          |     0.0039978111162781715 |\n",
            "| Final Train Loss          |    0.00031407742062583566 |\n",
            "| Test Loss                 |        0.3005538268366468 |\n",
            "| Test Accuracy             |        0.9200000000000003 |\n",
            "| Train Accuracy            |                     0.935 |\n",
            "| Time Training             |         4.496414422988892 |\n",
            "| Time Testing              |       0.41376447677612305 |\n"
          ],
          "name": "stdout"
        },
        {
          "output_type": "stream",
          "text": [
            "100%|██████████| 100/100 [00:04<00:00, 22.20it/s]\n",
            "  3%|▎         | 3/100 [00:00<00:04, 23.00it/s]"
          ],
          "name": "stderr"
        },
        {
          "output_type": "stream",
          "text": [
            "=========================================================\n",
            "| Iteration                 |                        90 |\n",
            "| Gradient Steps            |                      9000 |\n",
            "| Average Train Loss        |        0.4210010628106464 |\n",
            "| Start Train Loss          |        3.9891092777252197 |\n",
            "| Final Train Loss          |    2.3543288989458233e-05 |\n",
            "| Test Loss                 |       0.25151390312281735 |\n",
            "| Test Accuracy             |        0.9600000000000003 |\n",
            "| Train Accuracy            |                     0.905 |\n",
            "| Time Training             |         4.512192487716675 |\n",
            "| Time Testing              |         0.403836727142334 |\n"
          ],
          "name": "stdout"
        },
        {
          "output_type": "stream",
          "text": [
            "100%|██████████| 100/100 [00:04<00:00, 22.20it/s]\n",
            "  3%|▎         | 3/100 [00:00<00:04, 22.37it/s]"
          ],
          "name": "stderr"
        },
        {
          "output_type": "stream",
          "text": [
            "=========================================================\n",
            "| Iteration                 |                        91 |\n",
            "| Gradient Steps            |                      9100 |\n",
            "| Average Train Loss        |       0.24671843937136065 |\n",
            "| Start Train Loss          |       0.02776186354458332 |\n",
            "| Final Train Loss          |    1.9848088413709775e-05 |\n",
            "| Test Loss                 |        0.5302401665570848 |\n",
            "| Test Accuracy             |        0.9000000000000002 |\n",
            "| Train Accuracy            |                      0.95 |\n",
            "| Time Training             |         4.509596586227417 |\n",
            "| Time Testing              |       0.40410947799682617 |\n"
          ],
          "name": "stdout"
        },
        {
          "output_type": "stream",
          "text": [
            "100%|██████████| 100/100 [00:04<00:00, 22.52it/s]\n",
            "  3%|▎         | 3/100 [00:00<00:04, 21.63it/s]"
          ],
          "name": "stderr"
        },
        {
          "output_type": "stream",
          "text": [
            "=========================================================\n",
            "| Iteration                 |                        92 |\n",
            "| Gradient Steps            |                      9200 |\n",
            "| Average Train Loss        |        0.3664632635198089 |\n",
            "| Start Train Loss          |        1.3391997814178467 |\n",
            "| Final Train Loss          |        0.0578511506319046 |\n",
            "| Test Loss                 |        0.1956334133714416 |\n",
            "| Test Accuracy             |        0.9600000000000003 |\n",
            "| Train Accuracy            |                      0.93 |\n",
            "| Time Training             |         4.456659555435181 |\n",
            "| Time Testing              |       0.40009307861328125 |\n"
          ],
          "name": "stdout"
        },
        {
          "output_type": "stream",
          "text": [
            "100%|██████████| 100/100 [00:04<00:00, 22.71it/s]\n",
            "  3%|▎         | 3/100 [00:00<00:04, 23.28it/s]"
          ],
          "name": "stderr"
        },
        {
          "output_type": "stream",
          "text": [
            "=========================================================\n",
            "| Iteration                 |                        93 |\n",
            "| Gradient Steps            |                      9300 |\n",
            "| Average Train Loss        |       0.34740425701281424 |\n",
            "| Start Train Loss          |      0.012205812148749828 |\n",
            "| Final Train Loss          |                       0.0 |\n",
            "| Test Loss                 |      0.046652624820383154 |\n",
            "| Test Accuracy             |        0.9600000000000003 |\n",
            "| Train Accuracy            |                     0.945 |\n",
            "| Time Training             |         4.410045862197876 |\n",
            "| Time Testing              |        0.4232938289642334 |\n"
          ],
          "name": "stdout"
        },
        {
          "output_type": "stream",
          "text": [
            "100%|██████████| 100/100 [00:04<00:00, 22.66it/s]\n",
            "  3%|▎         | 3/100 [00:00<00:04, 21.45it/s]"
          ],
          "name": "stderr"
        },
        {
          "output_type": "stream",
          "text": [
            "=========================================================\n",
            "| Iteration                 |                        94 |\n",
            "| Gradient Steps            |                      9400 |\n",
            "| Average Train Loss        |        0.7438768124060985 |\n",
            "| Start Train Loss          |     7.271726644830778e-06 |\n",
            "| Final Train Loss          |     2.104020313709043e-05 |\n",
            "| Test Loss                 |         0.075654439924773 |\n",
            "| Test Accuracy             |        0.9800000000000003 |\n",
            "| Train Accuracy            |                     0.895 |\n",
            "| Time Training             |        4.4184489250183105 |\n",
            "| Time Testing              |       0.40245914459228516 |\n"
          ],
          "name": "stdout"
        },
        {
          "output_type": "stream",
          "text": [
            "100%|██████████| 100/100 [00:04<00:00, 22.58it/s]\n",
            "  3%|▎         | 3/100 [00:00<00:04, 23.91it/s]"
          ],
          "name": "stderr"
        },
        {
          "output_type": "stream",
          "text": [
            "=========================================================\n",
            "| Iteration                 |                        95 |\n",
            "| Gradient Steps            |                      9500 |\n",
            "| Average Train Loss        |       0.40897107751048906 |\n",
            "| Start Train Loss          |        1.1471229791641235 |\n",
            "| Final Train Loss          |     7.652932981727645e-05 |\n",
            "| Test Loss                 |        0.2943024285418318 |\n",
            "| Test Accuracy             |        0.9400000000000003 |\n",
            "| Train Accuracy            |                     0.885 |\n",
            "| Time Training             |         4.433733701705933 |\n",
            "| Time Testing              |         0.407214879989624 |\n"
          ],
          "name": "stdout"
        },
        {
          "output_type": "stream",
          "text": [
            "100%|██████████| 100/100 [00:04<00:00, 22.42it/s]\n",
            "  3%|▎         | 3/100 [00:00<00:04, 21.60it/s]"
          ],
          "name": "stderr"
        },
        {
          "output_type": "stream",
          "text": [
            "=========================================================\n",
            "| Iteration                 |                        96 |\n",
            "| Gradient Steps            |                      9600 |\n",
            "| Average Train Loss        |        0.3325029508730688 |\n",
            "| Start Train Loss          |      0.010529769584536552 |\n",
            "| Final Train Loss          |        0.2081926465034485 |\n",
            "| Test Loss                 |       0.19720100465563267 |\n",
            "| Test Accuracy             |        0.9400000000000003 |\n",
            "| Train Accuracy            |                      0.92 |\n",
            "| Time Training             |         4.469084024429321 |\n",
            "| Time Testing              |       0.38383984565734863 |\n"
          ],
          "name": "stdout"
        },
        {
          "output_type": "stream",
          "text": [
            "100%|██████████| 100/100 [00:04<00:00, 22.83it/s]\n",
            "  3%|▎         | 3/100 [00:00<00:04, 21.58it/s]"
          ],
          "name": "stderr"
        },
        {
          "output_type": "stream",
          "text": [
            "=========================================================\n",
            "| Iteration                 |                        97 |\n",
            "| Gradient Steps            |                      9700 |\n",
            "| Average Train Loss        |        0.3342731465484697 |\n",
            "| Start Train Loss          |    1.3291659342939965e-05 |\n",
            "| Final Train Loss          |       0.09864699840545654 |\n",
            "| Test Loss                 |       0.15532133649472984 |\n",
            "| Test Accuracy             |        0.9400000000000003 |\n",
            "| Train Accuracy            |                     0.925 |\n",
            "| Time Training             |         4.392407178878784 |\n",
            "| Time Testing              |        0.4091033935546875 |\n"
          ],
          "name": "stdout"
        },
        {
          "output_type": "stream",
          "text": [
            "100%|██████████| 100/100 [00:04<00:00, 21.90it/s]\n",
            "  3%|▎         | 3/100 [00:00<00:04, 23.83it/s]"
          ],
          "name": "stderr"
        },
        {
          "output_type": "stream",
          "text": [
            "=========================================================\n",
            "| Iteration                 |                        98 |\n",
            "| Gradient Steps            |                      9800 |\n",
            "| Average Train Loss        |       0.46903386298609057 |\n",
            "| Start Train Loss          |        1.3900902271270752 |\n",
            "| Final Train Loss          |         2.858020782470703 |\n",
            "| Test Loss                 |       0.29026878085738805 |\n",
            "| Test Accuracy             |        0.9200000000000003 |\n",
            "| Train Accuracy            |                     0.915 |\n",
            "| Time Training             |         4.581238746643066 |\n",
            "| Time Testing              |        0.4042823314666748 |\n"
          ],
          "name": "stdout"
        },
        {
          "output_type": "stream",
          "text": [
            "100%|██████████| 100/100 [00:04<00:00, 22.71it/s]\n",
            "  3%|▎         | 3/100 [00:00<00:04, 22.57it/s]"
          ],
          "name": "stderr"
        },
        {
          "output_type": "stream",
          "text": [
            "=========================================================\n",
            "| Iteration                 |                        99 |\n",
            "| Gradient Steps            |                      9900 |\n",
            "| Average Train Loss        |       0.22964208085558607 |\n",
            "| Start Train Loss          |     3.182820728397928e-05 |\n",
            "| Final Train Loss          |     1.925192918861285e-05 |\n",
            "| Test Loss                 |        0.5659510092088569 |\n",
            "| Test Accuracy             |        0.8800000000000002 |\n",
            "| Train Accuracy            |                      0.94 |\n",
            "| Time Training             |          4.41659140586853 |\n",
            "| Time Testing              |       0.39516186714172363 |\n"
          ],
          "name": "stdout"
        },
        {
          "output_type": "stream",
          "text": [
            "100%|██████████| 100/100 [00:04<00:00, 22.66it/s]\n",
            "  3%|▎         | 3/100 [00:00<00:04, 21.51it/s]"
          ],
          "name": "stderr"
        },
        {
          "output_type": "stream",
          "text": [
            "=========================================================\n",
            "| Iteration                 |                       100 |\n",
            "| Gradient Steps            |                     10000 |\n",
            "| Average Train Loss        |        0.5814004851099025 |\n",
            "| Start Train Loss          |         6.403341293334961 |\n",
            "| Final Train Loss          |    0.00026570665067993104 |\n",
            "| Test Loss                 |       0.29057893592536177 |\n",
            "| Test Accuracy             |        0.9200000000000003 |\n",
            "| Train Accuracy            |                      0.91 |\n",
            "| Time Training             |         4.425164461135864 |\n",
            "| Time Testing              |       0.40458083152770996 |\n"
          ],
          "name": "stdout"
        },
        {
          "output_type": "stream",
          "text": [
            "100%|██████████| 100/100 [00:04<00:00, 22.89it/s]\n",
            "  2%|▏         | 2/100 [00:00<00:05, 19.38it/s]"
          ],
          "name": "stderr"
        },
        {
          "output_type": "stream",
          "text": [
            "=========================================================\n",
            "| Iteration                 |                       101 |\n",
            "| Gradient Steps            |                     10100 |\n",
            "| Average Train Loss        |        0.2900316813797785 |\n",
            "| Start Train Loss          |       0.19170323014259338 |\n",
            "| Final Train Loss          |     0.0029106701258569956 |\n",
            "| Test Loss                 |       0.17946719744298134 |\n",
            "| Test Accuracy             |        0.9400000000000003 |\n",
            "| Train Accuracy            |                      0.94 |\n",
            "| Time Training             |         4.378841161727905 |\n",
            "| Time Testing              |        0.4018735885620117 |\n"
          ],
          "name": "stdout"
        },
        {
          "output_type": "stream",
          "text": [
            "100%|██████████| 100/100 [00:04<00:00, 22.62it/s]\n",
            "  3%|▎         | 3/100 [00:00<00:04, 24.10it/s]"
          ],
          "name": "stderr"
        },
        {
          "output_type": "stream",
          "text": [
            "=========================================================\n",
            "| Iteration                 |                       102 |\n",
            "| Gradient Steps            |                     10200 |\n",
            "| Average Train Loss        |       0.23089245793127133 |\n",
            "| Start Train Loss          |        2.3353772163391113 |\n",
            "| Final Train Loss          |        1.7784005403518677 |\n",
            "| Test Loss                 |      0.009148068680796512 |\n",
            "| Test Accuracy             |        1.0000000000000002 |\n",
            "| Train Accuracy            |                     0.935 |\n",
            "| Time Training             |         4.424649000167847 |\n",
            "| Time Testing              |        0.4058396816253662 |\n"
          ],
          "name": "stdout"
        },
        {
          "output_type": "stream",
          "text": [
            "100%|██████████| 100/100 [00:04<00:00, 22.77it/s]\n",
            "  3%|▎         | 3/100 [00:00<00:04, 24.02it/s]"
          ],
          "name": "stderr"
        },
        {
          "output_type": "stream",
          "text": [
            "=========================================================\n",
            "| Iteration                 |                       103 |\n",
            "| Gradient Steps            |                     10300 |\n",
            "| Average Train Loss        |         0.547860745126045 |\n",
            "| Start Train Loss          |    4.4701999286189675e-05 |\n",
            "| Final Train Loss          |     1.615261317056138e-05 |\n",
            "| Test Loss                 |       0.13030551195368023 |\n",
            "| Test Accuracy             |        0.9600000000000003 |\n",
            "| Train Accuracy            |                      0.89 |\n",
            "| Time Training             |         4.400290012359619 |\n",
            "| Time Testing              |        0.3976626396179199 |\n"
          ],
          "name": "stdout"
        },
        {
          "output_type": "stream",
          "text": [
            "100%|██████████| 100/100 [00:04<00:00, 22.87it/s]\n",
            "  3%|▎         | 3/100 [00:00<00:04, 20.55it/s]"
          ],
          "name": "stderr"
        },
        {
          "output_type": "stream",
          "text": [
            "=========================================================\n",
            "| Iteration                 |                       104 |\n",
            "| Gradient Steps            |                     10400 |\n",
            "| Average Train Loss        |        0.3113180801564055 |\n",
            "| Start Train Loss          |       0.09683377295732498 |\n",
            "| Final Train Loss          |     0.0014135520905256271 |\n",
            "| Test Loss                 |         1.148135194273232 |\n",
            "| Test Accuracy             |        0.8000000000000003 |\n",
            "| Train Accuracy            |                     0.915 |\n",
            "| Time Training             |         4.380050182342529 |\n",
            "| Time Testing              |        0.4159407615661621 |\n"
          ],
          "name": "stdout"
        },
        {
          "output_type": "stream",
          "text": [
            "100%|██████████| 100/100 [00:04<00:00, 22.28it/s]\n",
            "  3%|▎         | 3/100 [00:00<00:04, 23.05it/s]"
          ],
          "name": "stderr"
        },
        {
          "output_type": "stream",
          "text": [
            "=========================================================\n",
            "| Iteration                 |                       105 |\n",
            "| Gradient Steps            |                     10500 |\n",
            "| Average Train Loss        |        0.4480824181537269 |\n",
            "| Start Train Loss          |         2.731928825378418 |\n",
            "| Final Train Loss          |        1.7955360412597656 |\n",
            "| Test Loss                 |       0.09193623524780266 |\n",
            "| Test Accuracy             |        0.9600000000000003 |\n",
            "| Train Accuracy            |                      0.93 |\n",
            "| Time Training             |         4.495972156524658 |\n",
            "| Time Testing              |        0.3997054100036621 |\n"
          ],
          "name": "stdout"
        },
        {
          "output_type": "stream",
          "text": [
            "100%|██████████| 100/100 [00:04<00:00, 22.39it/s]\n",
            "  3%|▎         | 3/100 [00:00<00:04, 22.44it/s]"
          ],
          "name": "stderr"
        },
        {
          "output_type": "stream",
          "text": [
            "=========================================================\n",
            "| Iteration                 |                       106 |\n",
            "| Gradient Steps            |                     10600 |\n",
            "| Average Train Loss        |        0.4351338304575556 |\n",
            "| Start Train Loss          |     9.119432434090413e-06 |\n",
            "| Final Train Loss          |    1.5914189134491608e-05 |\n",
            "| Test Loss                 |       0.25957292567387297 |\n",
            "| Test Accuracy             |        0.9600000000000003 |\n",
            "| Train Accuracy            |                     0.935 |\n",
            "| Time Training             |         4.477396726608276 |\n",
            "| Time Testing              |       0.39334726333618164 |\n"
          ],
          "name": "stdout"
        },
        {
          "output_type": "stream",
          "text": [
            "100%|██████████| 100/100 [00:04<00:00, 22.55it/s]\n",
            "  3%|▎         | 3/100 [00:00<00:04, 22.55it/s]"
          ],
          "name": "stderr"
        },
        {
          "output_type": "stream",
          "text": [
            "=========================================================\n",
            "| Iteration                 |                       107 |\n",
            "| Gradient Steps            |                     10700 |\n",
            "| Average Train Loss        |       0.20251869225037847 |\n",
            "| Start Train Loss          |     0.0002608810900710523 |\n",
            "| Final Train Loss          |        0.6643362045288086 |\n",
            "| Test Loss                 |        0.6608300408751746 |\n",
            "| Test Accuracy             |        0.8800000000000002 |\n",
            "| Train Accuracy            |                     0.945 |\n",
            "| Time Training             |         4.443982124328613 |\n",
            "| Time Testing              |       0.42517781257629395 |\n"
          ],
          "name": "stdout"
        },
        {
          "output_type": "stream",
          "text": [
            "100%|██████████| 100/100 [00:04<00:00, 22.53it/s]\n",
            "  3%|▎         | 3/100 [00:00<00:04, 22.80it/s]"
          ],
          "name": "stderr"
        },
        {
          "output_type": "stream",
          "text": [
            "=========================================================\n",
            "| Iteration                 |                       108 |\n",
            "| Gradient Steps            |                     10800 |\n",
            "| Average Train Loss        |        0.5009234432289557 |\n",
            "| Start Train Loss          |      0.001320524257607758 |\n",
            "| Final Train Loss          |       0.03442767262458801 |\n",
            "| Test Loss                 |       0.26012359770513926 |\n",
            "| Test Accuracy             |        0.9000000000000002 |\n",
            "| Train Accuracy            |                     0.905 |\n",
            "| Time Training             |         4.446704387664795 |\n",
            "| Time Testing              |        0.4001138210296631 |\n"
          ],
          "name": "stdout"
        },
        {
          "output_type": "stream",
          "text": [
            "100%|██████████| 100/100 [00:04<00:00, 22.32it/s]\n",
            "  3%|▎         | 3/100 [00:00<00:04, 23.11it/s]"
          ],
          "name": "stderr"
        },
        {
          "output_type": "stream",
          "text": [
            "=========================================================\n",
            "| Iteration                 |                       109 |\n",
            "| Gradient Steps            |                     10900 |\n",
            "| Average Train Loss        |       0.25513667440622334 |\n",
            "| Start Train Loss          |     9.547753870720044e-05 |\n",
            "| Final Train Loss          |     0.0007010552217252553 |\n",
            "| Test Loss                 |       0.25713524132383353 |\n",
            "| Test Accuracy             |        0.9400000000000003 |\n",
            "| Train Accuracy            |                      0.94 |\n",
            "| Time Training             |         4.485480070114136 |\n",
            "| Time Testing              |        0.4033207893371582 |\n"
          ],
          "name": "stdout"
        },
        {
          "output_type": "stream",
          "text": [
            "100%|██████████| 100/100 [00:04<00:00, 22.56it/s]\n"
          ],
          "name": "stderr"
        },
        {
          "output_type": "stream",
          "text": [
            "=========================================================\n",
            "| Iteration                 |                       110 |\n",
            "| Gradient Steps            |                     11000 |\n",
            "| Average Train Loss        |       0.41023965111255534 |\n",
            "| Start Train Loss          |      0.008073053322732449 |\n",
            "| Final Train Loss          |     0.0015285469125956297 |\n",
            "| Test Loss                 |        0.7815875313483022 |\n",
            "| Test Accuracy             |        0.9000000000000002 |\n",
            "| Train Accuracy            |                      0.92 |\n",
            "| Time Training             |         4.437881946563721 |\n",
            "| Time Testing              |       0.42551517486572266 |\n"
          ],
          "name": "stdout"
        }
      ]
    },
    {
      "cell_type": "code",
      "metadata": {
        "id": "_ufqs1V3cx0_"
      },
      "source": [
        ""
      ],
      "execution_count": null,
      "outputs": []
    },
    {
      "cell_type": "code",
      "metadata": {
        "id": "YOqL6QpLcyBq"
      },
      "source": [
        ""
      ],
      "execution_count": null,
      "outputs": []
    },
    {
      "cell_type": "code",
      "metadata": {
        "id": "ZVwPpSGCcyiQ"
      },
      "source": [
        ""
      ],
      "execution_count": null,
      "outputs": []
    },
    {
      "cell_type": "code",
      "metadata": {
        "id": "rEUEAZfncynH"
      },
      "source": [
        ""
      ],
      "execution_count": null,
      "outputs": []
    },
    {
      "cell_type": "code",
      "metadata": {
        "id": "5rKssampcyrs"
      },
      "source": [
        ""
      ],
      "execution_count": null,
      "outputs": []
    },
    {
      "cell_type": "code",
      "metadata": {
        "id": "_TnZKs-Jcyt7"
      },
      "source": [
        ""
      ],
      "execution_count": null,
      "outputs": []
    }
  ]
}