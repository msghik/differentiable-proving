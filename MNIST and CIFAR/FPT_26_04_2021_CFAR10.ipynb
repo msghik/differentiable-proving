{
  "nbformat": 4,
  "nbformat_minor": 0,
  "metadata": {
    "colab": {
      "name": "FPT_26_04_2021_CFAR10.ipynb",
      "provenance": [],
      "collapsed_sections": []
    },
    "kernelspec": {
      "display_name": "Python 3",
      "name": "python3"
    },
    "accelerator": "GPU"
  },
  "cells": [
    {
      "cell_type": "code",
      "metadata": {
        "id": "9g1sex7ClvsT"
      },
      "source": [
        ""
      ],
      "execution_count": null,
      "outputs": []
    },
    {
      "cell_type": "markdown",
      "metadata": {
        "id": "LeRRwsCaW8rN"
      },
      "source": [
        "# Dataset"
      ]
    },
    {
      "cell_type": "code",
      "metadata": {
        "id": "-uon0ae4W3vt"
      },
      "source": [
        "class Dataset:\n",
        "\n",
        "    def __init__(self, device='cpu'):\n",
        "        self.device = device\n",
        "        self._ind = 0\n",
        "\n",
        "    def get_batch(self, batch_size, train=True):\n",
        "        x, y = self.get_batch_np(batch_size, train=train)\n",
        "        x = torch.from_numpy(x).to(device=self.device, dtype=torch.float32)\n",
        "        y = torch.from_numpy(y).to(device=self.device, dtype=torch.long)\n",
        "        self._ind += 1\n",
        "        return x, y\n",
        "\n",
        "    def get_batch_np(self, batch_size, train):\n",
        "        raise NotImplementedError\n",
        "\n",
        "    def start_epoch(self):\n",
        "        self._ind = 0"
      ],
      "execution_count": 1,
      "outputs": []
    },
    {
      "cell_type": "code",
      "metadata": {
        "id": "nkGLbZCeXbcF",
        "colab": {
          "base_uri": "https://localhost:8080/"
        },
        "outputId": "64986416-2f22-4a5a-e414-057f470de98b"
      },
      "source": [
        "!pip install einops"
      ],
      "execution_count": 2,
      "outputs": [
        {
          "output_type": "stream",
          "text": [
            "Requirement already satisfied: einops in /usr/local/lib/python3.7/dist-packages (0.3.0)\n"
          ],
          "name": "stdout"
        }
      ]
    },
    {
      "cell_type": "code",
      "metadata": {
        "id": "Zs1v6dJ-XHos"
      },
      "source": [
        "from einops import rearrange\n",
        "from torch.utils.data import DataLoader\n",
        "import torchvision\n",
        "import torchvision.transforms as transforms\n"
      ],
      "execution_count": 3,
      "outputs": []
    },
    {
      "cell_type": "code",
      "metadata": {
        "id": "aZ0NRF4bXGCJ"
      },
      "source": [
        "class CIFAR10GrayDataset(Dataset):\n",
        "\n",
        "    def __init__(self, batch_size, patch_size=None, data_aug=True, *args, **kwargs):\n",
        "        super().__init__(*args, **kwargs)\n",
        "\n",
        "        self.batch_size = batch_size  # we fix it so we can use dataloader\n",
        "        self.patch_size = patch_size  # grid of (patch_size x patch_size)\n",
        "\n",
        "        if data_aug:\n",
        "            transform = transforms.Compose([\n",
        "                transforms.ToTensor(),\n",
        "                transforms.Grayscale(num_output_channels=1),\n",
        "                transforms.RandomCrop(32, padding=4),\n",
        "                transforms.RandomHorizontalFlip(),\n",
        "                transforms.RandomRotation(20),\n",
        "                transforms.Normalize((0.5,), (0.5,)),\n",
        "            ])\n",
        "        else:\n",
        "            transform = transforms.Compose([\n",
        "                transforms.ToTensor(),\n",
        "                transforms.Grayscale(num_output_channels=1),\n",
        "                transforms.Normalize((0.5,), (0.5,)),\n",
        "            ])\n",
        "\n",
        "        val_transform = transforms.Compose([\n",
        "            transforms.ToTensor(),\n",
        "            transforms.Grayscale(num_output_channels=1),\n",
        "            transforms.Normalize((0.5,), (0.5,)),\n",
        "        ])\n",
        "\n",
        "        self.d_train = DataLoader(\n",
        "            torchvision.datasets.CIFAR10('data/cifar', download=True, train=True, transform=transform),\n",
        "            batch_size=batch_size, drop_last=True, shuffle=True,\n",
        "        )\n",
        "        self.d_test = DataLoader(\n",
        "            torchvision.datasets.CIFAR10('data/cifar', download=True, train=False, transform=val_transform),\n",
        "            batch_size=batch_size, drop_last=True, shuffle=True,\n",
        "        )\n",
        "\n",
        "        self.train_enum = enumerate(self.d_train)\n",
        "        self.test_enum = enumerate(self.d_test)\n",
        "\n",
        "    def get_batch(self, batch_size=None, train=True):\n",
        "        if train:\n",
        "            _, (x, y) = next(self.train_enum, (None, (None, None)))\n",
        "            if x is None:\n",
        "                self.train_enum = enumerate(self.d_train)\n",
        "                _, (x, y) = next(self.train_enum)\n",
        "        else:\n",
        "            _, (x, y) = next(self.test_enum, (None, (None, None)))\n",
        "            if x is None:\n",
        "                self.test_enum = enumerate(self.d_test)\n",
        "                _, (x, y) = next(self.test_enum)\n",
        "\n",
        "        if self.patch_size is not None:\n",
        "            x = rearrange(x, 'b c (h p1) (w p2) -> b (h w) (p1 p2 c)', p1=self.patch_size, p2=self.patch_size)\n",
        "\n",
        "        x = x.to(device=self.device)\n",
        "        y = y.to(device=self.device)\n",
        "\n",
        "        self._ind += 1\n",
        "\n",
        "        return x, y"
      ],
      "execution_count": 4,
      "outputs": []
    },
    {
      "cell_type": "code",
      "metadata": {
        "id": "MwFDZtmImusC"
      },
      "source": [
        ""
      ],
      "execution_count": 4,
      "outputs": []
    },
    {
      "cell_type": "code",
      "metadata": {
        "id": "2DS5PltymuuW"
      },
      "source": [
        ""
      ],
      "execution_count": 4,
      "outputs": []
    },
    {
      "cell_type": "markdown",
      "metadata": {
        "id": "j0i7wzbPVPYn"
      },
      "source": [
        "# I - FPT - Universal Computation"
      ]
    },
    {
      "cell_type": "code",
      "metadata": {
        "id": "3gI2FMdYVLyW"
      },
      "source": [
        "import torch\n",
        "import torch.nn as nn"
      ],
      "execution_count": 5,
      "outputs": []
    },
    {
      "cell_type": "code",
      "metadata": {
        "id": "fQ9h6ZthU-Uv"
      },
      "source": [
        "class FPT(nn.Module):\n",
        "\n",
        "    def __init__(\n",
        "            self,\n",
        "            input_dim,\n",
        "            output_dim,\n",
        "            model_name='gpt2',\n",
        "            pretrained=False,\n",
        "            return_last_only=True,\n",
        "            use_embeddings_for_in=False,\n",
        "            in_layer_sizes=None,\n",
        "            out_layer_sizes=None,\n",
        "            freeze_trans=True,\n",
        "            freeze_in=False,\n",
        "            freeze_pos=False,\n",
        "            freeze_ln=False,\n",
        "            freeze_attn=True,\n",
        "            freeze_ff=True,\n",
        "            freeze_out=False,\n",
        "            dropout=0.1,\n",
        "            orth_gain=1.41,\n",
        "    ):\n",
        "        super().__init__()\n",
        "\n",
        "        self.input_dim = input_dim\n",
        "        self.output_dim = output_dim\n",
        "        self.model_name = model_name\n",
        "        self.return_last_only = return_last_only\n",
        "        self.use_embeddings_for_in = use_embeddings_for_in\n",
        "\n",
        "        self.in_layer_sizes = [] if in_layer_sizes is None else in_layer_sizes\n",
        "        self.out_layer_sizes = [] if out_layer_sizes is None else out_layer_sizes\n",
        "        self.dropout = dropout\n",
        "\n",
        "        if 'gpt' in model_name:\n",
        "            assert model_name in ['gpt2', 'gpt2-medium', 'gpt2-large', 'gpt2-xl']\n",
        "\n",
        "            from transformers import GPT2Model\n",
        "\n",
        "            pretrained_transformer = GPT2Model.from_pretrained(model_name)\n",
        "            if pretrained:\n",
        "                self.transformer = pretrained_transformer\n",
        "            else:\n",
        "                self.transformer = GPT2Model(pretrained_transformer.config)\n",
        "\n",
        "            if model_name == 'gpt2':\n",
        "                embedding_size = 768\n",
        "            elif model_name == 'gpt2-medium':\n",
        "                embedding_size = 1024\n",
        "            elif model_name == 'gpt2-large':\n",
        "                embedding_size = 1280\n",
        "            elif model_name == 'gpt2-xl':\n",
        "                embedding_size = 1600\n",
        "\n",
        "        else:\n",
        "            raise NotImplementedError('model_name not implemented')\n",
        "\n",
        "        if use_embeddings_for_in:\n",
        "            self.in_net = nn.Embedding(input_dim, embedding_size)\n",
        "        else:\n",
        "            in_layers = []\n",
        "            last_output_size = input_dim\n",
        "            for size in self.in_layer_sizes:\n",
        "                layer = nn.Linear(last_output_size, size)\n",
        "                if orth_gain is not None:\n",
        "                    torch.nn.init.orthogonal_(layer.weight, gain=orth_gain)\n",
        "                layer.bias.data.zero_()\n",
        "\n",
        "                in_layers.append(layer)\n",
        "                in_layers.append(nn.ReLU())\n",
        "                in_layers.append(nn.Dropout(dropout))\n",
        "                last_output_size = size\n",
        "\n",
        "            final_linear = nn.Linear(last_output_size, embedding_size)\n",
        "            if orth_gain is not None:\n",
        "                torch.nn.init.orthogonal_(final_linear.weight, gain=orth_gain)\n",
        "            final_linear.bias.data.zero_()\n",
        "\n",
        "            in_layers.append(final_linear)\n",
        "            in_layers.append(nn.Dropout(dropout))\n",
        "\n",
        "            self.in_net = nn.Sequential(*in_layers)\n",
        "\n",
        "        out_layers = []\n",
        "        last_output_size = embedding_size\n",
        "        for size in self.out_layer_sizes:\n",
        "            out_layers.append(nn.Linear(last_output_size, size))\n",
        "            out_layers.append(nn.ReLU())\n",
        "            out_layers.append(nn.Dropout(dropout))\n",
        "            last_output_size = size\n",
        "        out_layers.append(nn.Linear(last_output_size, output_dim))\n",
        "        self.out_net = nn.Sequential(*out_layers)\n",
        "\n",
        "        if freeze_trans:\n",
        "            for name, p in self.transformer.named_parameters():\n",
        "                name = name.lower()\n",
        "                if 'ln' in name:\n",
        "                    p.requires_grad = not freeze_ln\n",
        "                elif 'wpe' in name:\n",
        "                    p.requires_grad = not freeze_pos\n",
        "                elif 'mlp' in name:\n",
        "                    p.requires_grad = not freeze_ff\n",
        "                elif 'attn' in name:\n",
        "                    p.requires_grad = not freeze_attn\n",
        "                else:\n",
        "                    p.requires_grad = False\n",
        "        if freeze_in:\n",
        "            for p in self.in_net.parameters():\n",
        "                p.requires_grad = False\n",
        "        if freeze_out:\n",
        "            for p in self.out_net.parameters():\n",
        "                p.requires_grad = False\n",
        "\n",
        "    def forward(self, x, output_attentions=False):\n",
        "\n",
        "        orig_dim = x.shape[-1]\n",
        "        if orig_dim != self.input_dim and not self.use_embeddings_for_in:\n",
        "            if orig_dim % self.input_dim != 0:\n",
        "                raise ValueError('dimension of x must be divisible by patch size')\n",
        "            ratio = orig_dim // self.input_dim\n",
        "            x = x.reshape(x.shape[0], x.shape[1] * ratio, self.input_dim)\n",
        "        else:\n",
        "            ratio = 1\n",
        "\n",
        "        x = self.in_net(x)\n",
        "\n",
        "        transformer_outputs = self.transformer(\n",
        "            inputs_embeds=x,\n",
        "            return_dict=True,\n",
        "            output_attentions=output_attentions,\n",
        "        )\n",
        "        x = transformer_outputs.last_hidden_state\n",
        "\n",
        "        if self.return_last_only:\n",
        "            x = x[:,-ratio:]\n",
        "\n",
        "        x = self.out_net(x)\n",
        "        if self.return_last_only and ratio > 1:\n",
        "            x = x.reshape(x.shape[0], x.shape[1] // ratio, ratio * self.output_dim)\n",
        "\n",
        "        if output_attentions:\n",
        "            return x, transformer_outputs.attentions\n",
        "        else:\n",
        "            return x"
      ],
      "execution_count": 6,
      "outputs": []
    },
    {
      "cell_type": "code",
      "metadata": {
        "id": "FVKWS5Ik2HGk"
      },
      "source": [
        ""
      ],
      "execution_count": 6,
      "outputs": []
    },
    {
      "cell_type": "code",
      "metadata": {
        "id": "DEaQH2mD2HJA"
      },
      "source": [
        ""
      ],
      "execution_count": 6,
      "outputs": []
    },
    {
      "cell_type": "markdown",
      "metadata": {
        "id": "E9DcYTR5WHxG"
      },
      "source": [
        "# II - Trainer - Universal Computation"
      ]
    },
    {
      "cell_type": "code",
      "metadata": {
        "id": "kk919nf9VD4X"
      },
      "source": [
        "import torch\n",
        "from tqdm import tqdm\n",
        "\n",
        "import time"
      ],
      "execution_count": 7,
      "outputs": []
    },
    {
      "cell_type": "code",
      "metadata": {
        "id": "nAOzz418VD6i"
      },
      "source": [
        "class Trainer:\n",
        "\n",
        "    def __init__(\n",
        "            self,\n",
        "            model,\n",
        "            dataset,\n",
        "            loss_fn,\n",
        "            accuracy_fn=None,\n",
        "            steps_per_epoch=100,\n",
        "            test_steps_per_epoch=20,\n",
        "            learning_rate=1e-3,\n",
        "            batch_size=2,\n",
        "            eval_batch_size=8,\n",
        "            grad_accumulate=1,\n",
        "    ):\n",
        "        self.model = model\n",
        "        self.dataset = dataset\n",
        "        self.loss_fn = loss_fn\n",
        "        self.acc_fn = accuracy_fn\n",
        "        self.steps_per_epoch = steps_per_epoch\n",
        "        self.test_steps_per_epoch = test_steps_per_epoch\n",
        "        self.batch_size = batch_size\n",
        "        self.eval_batch_size = eval_batch_size\n",
        "        self.grad_accumulate = grad_accumulate\n",
        "\n",
        "        self.optim = torch.optim.Adam(model.parameters(), lr=learning_rate)\n",
        "\n",
        "        self.diagnostics = {'Gradient Steps': 0}\n",
        "\n",
        "    def get_loss(self, x, y, return_acc=False):\n",
        "        out = self.model(x)\n",
        "        loss = self.loss_fn(out, y, x=x)\n",
        "        if return_acc:\n",
        "            if self.acc_fn is None:\n",
        "                raise NotImplementedError('accuracy function not specified')\n",
        "            accs = self.acc_fn(\n",
        "                out.detach().cpu().numpy(),\n",
        "                y.detach().cpu().numpy(),\n",
        "                x=x.detach().cpu().numpy(),\n",
        "            )\n",
        "            return loss, accs\n",
        "        return loss\n",
        "\n",
        "    def train_epoch(self, test_steps=None):\n",
        "        self.dataset.start_epoch()\n",
        "\n",
        "        train_losses, tr_accuracy = [], 0.\n",
        "        self.model.train()\n",
        "        start_train_time = time.time()\n",
        "        for _ in tqdm(range(self.steps_per_epoch)):\n",
        "            step_loss = 0\n",
        "            for _ in range(self.grad_accumulate):\n",
        "                x, y = self.dataset.get_batch(self.batch_size, train=True)\n",
        "                loss, acc = self.get_loss(x, y, return_acc=True)\n",
        "                loss = loss / self.grad_accumulate\n",
        "                loss.backward()\n",
        "                step_loss += loss.detach().cpu().item()\n",
        "                tr_accuracy += acc\n",
        "\n",
        "            torch.nn.utils.clip_grad_norm_(self.model.parameters(), 1.)\n",
        "            self.optim.step()\n",
        "            self.optim.zero_grad()\n",
        "\n",
        "            self.diagnostics['Gradient Steps'] += 1\n",
        "\n",
        "            train_losses.append(step_loss)\n",
        "        end_train_time = time.time()\n",
        "\n",
        "        test_steps = self.test_steps_per_epoch if test_steps is None else test_steps\n",
        "\n",
        "        test_loss, accuracy = 0., 0.\n",
        "        self.model.eval()\n",
        "        start_test_time = time.time()\n",
        "        with torch.no_grad():\n",
        "            for _ in range(test_steps):\n",
        "                x, y = self.dataset.get_batch(self.eval_batch_size, train=False)\n",
        "                loss, acc = self.get_loss(x, y, return_acc=True)\n",
        "                test_loss += loss.detach().cpu().item() / test_steps\n",
        "                accuracy += acc / test_steps\n",
        "        end_test_time = time.time()\n",
        "\n",
        "        self.diagnostics['Average Train Loss'] = sum(train_losses) / self.steps_per_epoch\n",
        "        self.diagnostics['Start Train Loss'] = train_losses[0]\n",
        "        self.diagnostics['Final Train Loss'] = train_losses[-1]\n",
        "        self.diagnostics['Test Loss'] = test_loss\n",
        "        self.diagnostics['Test Accuracy'] = accuracy\n",
        "        self.diagnostics['Train Accuracy'] = tr_accuracy / (self.steps_per_epoch * self.grad_accumulate)\n",
        "        self.diagnostics['Time Training'] = end_train_time - start_train_time\n",
        "        self.diagnostics['Time Testing'] = end_test_time - start_test_time"
      ],
      "execution_count": 8,
      "outputs": []
    },
    {
      "cell_type": "markdown",
      "metadata": {
        "id": "cCxhM8_XY4Af"
      },
      "source": [
        "# III - Experiment. run_experiment "
      ]
    },
    {
      "cell_type": "code",
      "metadata": {
        "id": "uc32bMbwZI_S",
        "colab": {
          "base_uri": "https://localhost:8080/"
        },
        "outputId": "1af4a3a0-b972-41c7-d0f7-0bfde0b3e9f0"
      },
      "source": [
        "!pip install wandb\n"
      ],
      "execution_count": 9,
      "outputs": [
        {
          "output_type": "stream",
          "text": [
            "Requirement already satisfied: wandb in /usr/local/lib/python3.7/dist-packages (0.10.27)\n",
            "Requirement already satisfied: docker-pycreds>=0.4.0 in /usr/local/lib/python3.7/dist-packages (from wandb) (0.4.0)\n",
            "Requirement already satisfied: GitPython>=1.0.0 in /usr/local/lib/python3.7/dist-packages (from wandb) (3.1.14)\n",
            "Requirement already satisfied: protobuf>=3.12.0 in /usr/local/lib/python3.7/dist-packages (from wandb) (3.12.4)\n",
            "Requirement already satisfied: six>=1.13.0 in /usr/local/lib/python3.7/dist-packages (from wandb) (1.15.0)\n",
            "Requirement already satisfied: PyYAML in /usr/local/lib/python3.7/dist-packages (from wandb) (3.13)\n",
            "Requirement already satisfied: psutil>=5.0.0 in /usr/local/lib/python3.7/dist-packages (from wandb) (5.4.8)\n",
            "Requirement already satisfied: shortuuid>=0.5.0 in /usr/local/lib/python3.7/dist-packages (from wandb) (1.0.1)\n",
            "Requirement already satisfied: python-dateutil>=2.6.1 in /usr/local/lib/python3.7/dist-packages (from wandb) (2.8.1)\n",
            "Requirement already satisfied: subprocess32>=3.5.3 in /usr/local/lib/python3.7/dist-packages (from wandb) (3.5.4)\n",
            "Requirement already satisfied: promise<3,>=2.0 in /usr/local/lib/python3.7/dist-packages (from wandb) (2.3)\n",
            "Requirement already satisfied: requests<3,>=2.0.0 in /usr/local/lib/python3.7/dist-packages (from wandb) (2.23.0)\n",
            "Requirement already satisfied: Click>=7.0 in /usr/local/lib/python3.7/dist-packages (from wandb) (7.1.2)\n",
            "Requirement already satisfied: configparser>=3.8.1 in /usr/local/lib/python3.7/dist-packages (from wandb) (5.0.2)\n",
            "Requirement already satisfied: sentry-sdk>=0.4.0 in /usr/local/lib/python3.7/dist-packages (from wandb) (1.0.0)\n",
            "Requirement already satisfied: pathtools in /usr/local/lib/python3.7/dist-packages (from wandb) (0.1.2)\n",
            "Requirement already satisfied: gitdb<5,>=4.0.1 in /usr/local/lib/python3.7/dist-packages (from GitPython>=1.0.0->wandb) (4.0.7)\n",
            "Requirement already satisfied: setuptools in /usr/local/lib/python3.7/dist-packages (from protobuf>=3.12.0->wandb) (56.0.0)\n",
            "Requirement already satisfied: urllib3!=1.25.0,!=1.25.1,<1.26,>=1.21.1 in /usr/local/lib/python3.7/dist-packages (from requests<3,>=2.0.0->wandb) (1.24.3)\n",
            "Requirement already satisfied: chardet<4,>=3.0.2 in /usr/local/lib/python3.7/dist-packages (from requests<3,>=2.0.0->wandb) (3.0.4)\n",
            "Requirement already satisfied: idna<3,>=2.5 in /usr/local/lib/python3.7/dist-packages (from requests<3,>=2.0.0->wandb) (2.10)\n",
            "Requirement already satisfied: certifi>=2017.4.17 in /usr/local/lib/python3.7/dist-packages (from requests<3,>=2.0.0->wandb) (2020.12.5)\n",
            "Requirement already satisfied: smmap<5,>=3.0.1 in /usr/local/lib/python3.7/dist-packages (from gitdb<5,>=4.0.1->GitPython>=1.0.0->wandb) (4.0.0)\n"
          ],
          "name": "stdout"
        }
      ]
    },
    {
      "cell_type": "code",
      "metadata": {
        "id": "sAoi0s6GZDt8"
      },
      "source": [
        "import numpy as np\n",
        "import torch\n",
        "import wandb\n",
        "\n",
        "import argparse\n",
        "from datetime import datetime\n",
        "import random\n",
        "import sys\n",
        "\n"
      ],
      "execution_count": 10,
      "outputs": []
    },
    {
      "cell_type": "code",
      "metadata": {
        "id": "7703A-0JY3SL"
      },
      "source": [
        "def experiment(\n",
        "        exp_name,\n",
        "        exp_args,\n",
        "        **kwargs\n",
        "):\n",
        "\n",
        "    \"\"\"\n",
        "    Preliminary checks\n",
        "    \"\"\"\n",
        "\n",
        "    # Must be able to accumulate gradient if batch size is large\n",
        "    assert 'batch_size' in kwargs\n",
        "    assert kwargs['batch_size'] <= exp_args['gpu_batch_size'] or \\\n",
        "           kwargs['batch_size'] % exp_args['gpu_batch_size'] == 0\n",
        "\n",
        "    \"\"\"\n",
        "    Create dataset, model, and trainer\n",
        "    \"\"\"\n",
        "\n",
        "    task = kwargs['task']\n",
        "    batch_size = kwargs['batch_size']\n",
        "    patch_size = kwargs['patch_size']\n",
        "    device = exp_args['device']\n",
        "\n",
        "    return_last_only = True\n",
        "\n",
        "    if task == 'bit-memory':\n",
        "        from universal_computation.datasets.bit_memory import BitMemoryDataset\n",
        "        dataset = BitMemoryDataset(n=kwargs['n'], num_patterns=kwargs['num_patterns'], device=device)\n",
        "        input_dim = kwargs['n'] if patch_size is None else patch_size\n",
        "        output_dim = 2*kwargs['n'] if patch_size is None else 2 * patch_size\n",
        "        use_embeddings = False\n",
        "        experiment_type = 'classification'\n",
        "\n",
        "    elif task == 'bit-xor':\n",
        "        from universal_computation.datasets.bit_xor import BitXORDataset\n",
        "        dataset = BitXORDataset(n=kwargs['n'], num_patterns=kwargs['num_patterns'], device=device)\n",
        "        input_dim = kwargs['n'] if patch_size is None else patch_size\n",
        "        output_dim = 2 * kwargs['n'] if patch_size is None else 2 * patch_size\n",
        "        use_embeddings = False\n",
        "        experiment_type = 'classification'\n",
        "\n",
        "    elif task == 'mnist':\n",
        "        #from universal_computation.datasets.mnist import MNISTDataset\n",
        "        dataset = MNISTDataset(batch_size=batch_size, patch_size=patch_size, device=device)\n",
        "        input_dim, output_dim = patch_size ** 2, 10\n",
        "        use_embeddings = False\n",
        "        experiment_type = 'classification'\n",
        "\n",
        "    elif task == 'cifar10':\n",
        "        # from universal_computation.datasets.cifar10 import CIFAR10Dataset\n",
        "        dataset = CIFAR10Dataset(batch_size=batch_size, patch_size=patch_size, device=device)\n",
        "        input_dim, output_dim = 3 * patch_size**2, 10\n",
        "        use_embeddings = False\n",
        "        experiment_type = 'classification'\n",
        "\n",
        "    elif task == 'cifar10-gray':\n",
        "        # from universal_computation.datasets.cifar10_gray import CIFAR10GrayDataset\n",
        "        dataset = CIFAR10GrayDataset(batch_size=batch_size, patch_size=patch_size, device=device)\n",
        "        input_dim, output_dim = patch_size**2, 10\n",
        "        use_embeddings = False\n",
        "        experiment_type = 'classification'\n",
        "\n",
        "    elif task == 'listops':\n",
        "        from universal_computation.datasets.listops import ListopsDataset\n",
        "        dataset = ListopsDataset(batch_size=batch_size, device=device)\n",
        "        input_dim, output_dim = 15, 10\n",
        "        use_embeddings = True\n",
        "        experiment_type = 'classification'\n",
        "    else:\n",
        "        raise NotImplementedError('dataset not implemented')\n",
        "\n",
        "    if 'bit' in task:\n",
        "\n",
        "        ce_loss = torch.nn.CrossEntropyLoss()\n",
        "\n",
        "        def loss_fn(out, y, x=None):\n",
        "            out = torch.reshape(out, (-1, kwargs['n'], 2))\n",
        "            ids = torch.zeros(y.shape).to(device=y.device).long()\n",
        "            if task == 'bit-memory':\n",
        "                ids[y < 0], ids[y > 0] = 0, 1\n",
        "            else:\n",
        "                ids[y < 0.5], ids[y > 0.5] = 0, 1\n",
        "            out, ids = torch.reshape(out, (-1, 2)), torch.reshape(ids, (-1,))\n",
        "            return ce_loss(out, ids)\n",
        "\n",
        "        def accuracy_fn(preds, true, x=None):\n",
        "            if task == 'bit-memory':\n",
        "                preds = preds.reshape(-1, kwargs['n'], 2).argmax(-1) * 2 - 1\n",
        "            else:\n",
        "                preds = preds.reshape(-1, kwargs['n'], 2).argmax(-1)\n",
        "            if task == 'bit-memory':\n",
        "                return (np.sign(preds) == np.sign(true)).mean()\n",
        "            else:\n",
        "                return ((preds > 0.5) == (true > 0.5)).mean()\n",
        "\n",
        "    elif experiment_type == 'classification':\n",
        "\n",
        "        ce_loss = torch.nn.CrossEntropyLoss()\n",
        "\n",
        "        def loss_fn(out, y, x=None):\n",
        "            out = out[:, 0]\n",
        "            return ce_loss(out, y)\n",
        "\n",
        "        def accuracy_fn(preds, true, x=None):\n",
        "            preds = preds[:, 0].argmax(-1)\n",
        "            return (preds == true).mean()\n",
        "\n",
        "    else:\n",
        "        raise NotImplementedError('experiment_type not recognized')\n",
        "\n",
        "    model = FPT(\n",
        "        input_dim=input_dim,\n",
        "        output_dim=output_dim,\n",
        "        model_name=kwargs.get('model_name', 'gpt2'),\n",
        "        pretrained=kwargs.get('pretrained', True),\n",
        "        return_last_only=return_last_only,\n",
        "        use_embeddings_for_in=use_embeddings,\n",
        "        in_layer_sizes=kwargs.get('in_layer_sizes', None),\n",
        "        out_layer_sizes=kwargs.get('out_layer_sizes', None),\n",
        "        freeze_trans=kwargs.get('freeze_trans', True),\n",
        "        freeze_in=kwargs.get('freeze_in', False),\n",
        "        freeze_pos=kwargs.get('freeze_pos', False),\n",
        "        freeze_ln=kwargs.get('freeze_ln', False),\n",
        "        freeze_attn=kwargs.get('freeze_attn', True),\n",
        "        freeze_ff=kwargs.get('freeze_ff', True),\n",
        "        freeze_out=kwargs.get('freeze_out', False),\n",
        "        dropout=kwargs['dropout'],\n",
        "        orth_gain=kwargs['orth_gain'],\n",
        "    )\n",
        "    model.to(device)\n",
        "\n",
        "    gpu_batch_size = exp_args['gpu_batch_size']\n",
        "    trainer = Trainer(\n",
        "        model,\n",
        "        dataset,\n",
        "        loss_fn=loss_fn,\n",
        "        accuracy_fn=accuracy_fn,\n",
        "        steps_per_epoch=exp_args['steps_per_iter'],\n",
        "        test_steps_per_epoch=exp_args['test_steps_per_iter'],\n",
        "        learning_rate=kwargs['learning_rate'],\n",
        "        batch_size=gpu_batch_size if batch_size > gpu_batch_size else batch_size,\n",
        "        eval_batch_size=batch_size,\n",
        "        grad_accumulate=batch_size // gpu_batch_size if batch_size > gpu_batch_size else 1,\n",
        "    )\n",
        "\n",
        "    \"\"\"\n",
        "    Set up logging\n",
        "    \"\"\"\n",
        "\n",
        "    log_to_wandb = exp_args['log_to_wandb']\n",
        "    save_models = exp_args['save_models']\n",
        "    wandb_project = exp_args['wandb_project']\n",
        "\n",
        "    short_name = str(random.randint(int(1e5), int(1e6) - 1))\n",
        "    run_name = f'{exp_name}-{task}-{short_name}'\n",
        "\n",
        "    if log_to_wandb:\n",
        "        config = dict(\n",
        "            short_name=short_name,\n",
        "            run_name=run_name,\n",
        "            **exp_args,\n",
        "            **kwargs,\n",
        "        )\n",
        "        wandb.init(\n",
        "            name=f'{exp_name}-{short_name}',\n",
        "            group=f'{exp_name}-{task}',\n",
        "            project=wandb_project,\n",
        "            config=config,\n",
        "        )\n",
        "        wandb.watch(model)\n",
        "\n",
        "    for t in range(exp_args['num_iters']):\n",
        "        trainer.train_epoch()\n",
        "\n",
        "        print('=' * 57)\n",
        "        print(f'| Iteration {\" \" * 15} | {t+1:25} |')\n",
        "        for k, v in trainer.diagnostics.items():\n",
        "            print(f'| {k:25} | {v:25} |')\n",
        "\n",
        "        if log_to_wandb:\n",
        "            wandb.log(trainer.diagnostics)\n",
        "\n",
        "        if save_models and ((t+1) % exp_args['save_models_every'] == 0 or\n",
        "                            (t+1) == exp_args['num_iters']):\n",
        "            with open(f'models/{run_name}.pt', 'wb') as f:\n",
        "                state_dict = dict(model=model.state_dict(), optim=trainer.optim.state_dict())\n",
        "                torch.save(state_dict, f)\n",
        "            print(f'Saved model at {t+1} iters: {run_name}')\n"
      ],
      "execution_count": 11,
      "outputs": []
    },
    {
      "cell_type": "code",
      "metadata": {
        "id": "jLayCpB9Y3Wj"
      },
      "source": [
        "def run_experiment(\n",
        "        exp_name,\n",
        "        experiment_params,\n",
        "):\n",
        "    parser = argparse.ArgumentParser()\n",
        "\n",
        "    parser.add_argument('--num_iters', '-it', type=int, default=110,\n",
        "                        help='Number of iterations for trainer')\n",
        "    parser.add_argument('--steps_per_iter', type=int, default=100,\n",
        "                        help='Number of gradient steps per iteration')\n",
        "    parser.add_argument('--test_steps_per_iter', type=int, default=25,\n",
        "                        help='Number of test gradient steps per iteration')\n",
        "\n",
        "    parser.add_argument('--log_to_wandb', '-w', type=bool, default=False,\n",
        "                        help='Whether or not to log to Weights and Biases')\n",
        "    parser.add_argument('--note', '-n', type=str, default='',\n",
        "                        help='An optional note to be logged to W&B')\n",
        "    parser.add_argument('--wandb_project', type=str, default='my_project',\n",
        "                        help='Project name for W&B')\n",
        "    parser.add_argument('--include_date', type=bool, default=True,\n",
        "                        help='Whether to include date in run name')\n",
        "\n",
        "    parser.add_argument('--save_models', '-s', type=bool, default=False,\n",
        "                        help='Whether or not to save the model files locally')\n",
        "    parser.add_argument('--save_models_every', '-int', type=int, default=25,\n",
        "                        help='How often to save models locally')\n",
        "\n",
        "    parser.add_argument('--device', '-d', type=str, default='cuda',\n",
        "                        help='Which device for Pytorch to use')\n",
        "    parser.add_argument('--gpu_batch_size', '-gbs', type=int, default=16,\n",
        "                        help='Max batch size to put on GPU (used for gradient accumulation)')\n",
        "\n",
        "    #exp_args = parser.parse_args(sys.argv[1:])\n",
        "    exp_args, unknown = parser.parse_known_args(sys.argv[1:])\n",
        "\n",
        "    if exp_args.include_date:\n",
        "        timestamp = datetime.now().strftime('%m-%d')\n",
        "        exp_name = f'{timestamp}-{exp_name}'\n",
        "\n",
        "    experiment_params['exp_name'] = exp_name\n",
        "    experiment_params['exp_args'] = vars(exp_args)\n",
        "\n",
        "    experiment(xp_name=exp_name, **experiment_params)"
      ],
      "execution_count": 12,
      "outputs": []
    },
    {
      "cell_type": "code",
      "metadata": {
        "id": "zbaB_xFtdVTJ"
      },
      "source": [
        ""
      ],
      "execution_count": 12,
      "outputs": []
    },
    {
      "cell_type": "code",
      "metadata": {
        "id": "xCv6a8_QdVVy"
      },
      "source": [
        ""
      ],
      "execution_count": 12,
      "outputs": []
    },
    {
      "cell_type": "code",
      "metadata": {
        "id": "Gz6C1Jx1dVYA"
      },
      "source": [
        ""
      ],
      "execution_count": 12,
      "outputs": []
    },
    {
      "cell_type": "code",
      "metadata": {
        "id": "gR6ae4CAF10I"
      },
      "source": [
        ""
      ],
      "execution_count": 12,
      "outputs": []
    },
    {
      "cell_type": "markdown",
      "metadata": {
        "id": "yUjYrHgfaKXx"
      },
      "source": [
        "# Run."
      ]
    },
    {
      "cell_type": "code",
      "metadata": {
        "id": "_rVbSJekPkPW"
      },
      "source": [
        "experiment_params0 = dict(\n",
        "        task='cifar10-gray',\n",
        "        n=1000,                # ignored if not a bit task\n",
        "        num_patterns=5,        # ignored if not a bit task\n",
        "        patch_size=32,\n",
        "\n",
        "        model_name='gpt2',\n",
        "        pretrained=True,\n",
        "\n",
        "        freeze_trans=True,     # if False, we don't check arguments other than in and out\n",
        "        freeze_in=False,\n",
        "        freeze_pos=False,\n",
        "        freeze_ln=False,\n",
        "        freeze_attn=True,\n",
        "        freeze_ff=True,\n",
        "        freeze_out=False,\n",
        "\n",
        "        in_layer_sizes=None,   # not in paper, but can specify layer sizes for an MLP,\n",
        "        out_layer_sizes=None,  # ex. [32, 32] creates a 2-layer MLP with dimension 32\n",
        "\n",
        "        learning_rate=1e-3,\n",
        "        batch_size=2,\n",
        "        dropout=0.1,\n",
        "        orth_gain=1.41,\n",
        "    )"
      ],
      "execution_count": 13,
      "outputs": []
    },
    {
      "cell_type": "code",
      "metadata": {
        "id": "EY5wGCPQU4Vg"
      },
      "source": [
        "experiment_name0 = f'fpt' \n"
      ],
      "execution_count": 14,
      "outputs": []
    },
    {
      "cell_type": "code",
      "metadata": {
        "id": "DRwaS7yjRTuW",
        "colab": {
          "base_uri": "https://localhost:8080/"
        },
        "outputId": "abed5f2c-fb13-447b-9ccf-140bbcf9b5e5"
      },
      "source": [
        "!pip install transformers"
      ],
      "execution_count": 15,
      "outputs": [
        {
          "output_type": "stream",
          "text": [
            "Requirement already satisfied: transformers in /usr/local/lib/python3.7/dist-packages (4.5.1)\n",
            "Requirement already satisfied: numpy>=1.17 in /usr/local/lib/python3.7/dist-packages (from transformers) (1.19.5)\n",
            "Requirement already satisfied: importlib-metadata; python_version < \"3.8\" in /usr/local/lib/python3.7/dist-packages (from transformers) (3.10.1)\n",
            "Requirement already satisfied: packaging in /usr/local/lib/python3.7/dist-packages (from transformers) (20.9)\n",
            "Requirement already satisfied: regex!=2019.12.17 in /usr/local/lib/python3.7/dist-packages (from transformers) (2019.12.20)\n",
            "Requirement already satisfied: filelock in /usr/local/lib/python3.7/dist-packages (from transformers) (3.0.12)\n",
            "Requirement already satisfied: tokenizers<0.11,>=0.10.1 in /usr/local/lib/python3.7/dist-packages (from transformers) (0.10.2)\n",
            "Requirement already satisfied: requests in /usr/local/lib/python3.7/dist-packages (from transformers) (2.23.0)\n",
            "Requirement already satisfied: tqdm>=4.27 in /usr/local/lib/python3.7/dist-packages (from transformers) (4.41.1)\n",
            "Requirement already satisfied: sacremoses in /usr/local/lib/python3.7/dist-packages (from transformers) (0.0.45)\n",
            "Requirement already satisfied: zipp>=0.5 in /usr/local/lib/python3.7/dist-packages (from importlib-metadata; python_version < \"3.8\"->transformers) (3.4.1)\n",
            "Requirement already satisfied: typing-extensions>=3.6.4; python_version < \"3.8\" in /usr/local/lib/python3.7/dist-packages (from importlib-metadata; python_version < \"3.8\"->transformers) (3.7.4.3)\n",
            "Requirement already satisfied: pyparsing>=2.0.2 in /usr/local/lib/python3.7/dist-packages (from packaging->transformers) (2.4.7)\n",
            "Requirement already satisfied: chardet<4,>=3.0.2 in /usr/local/lib/python3.7/dist-packages (from requests->transformers) (3.0.4)\n",
            "Requirement already satisfied: certifi>=2017.4.17 in /usr/local/lib/python3.7/dist-packages (from requests->transformers) (2020.12.5)\n",
            "Requirement already satisfied: idna<3,>=2.5 in /usr/local/lib/python3.7/dist-packages (from requests->transformers) (2.10)\n",
            "Requirement already satisfied: urllib3!=1.25.0,!=1.25.1,<1.26,>=1.21.1 in /usr/local/lib/python3.7/dist-packages (from requests->transformers) (1.24.3)\n",
            "Requirement already satisfied: six in /usr/local/lib/python3.7/dist-packages (from sacremoses->transformers) (1.15.0)\n",
            "Requirement already satisfied: joblib in /usr/local/lib/python3.7/dist-packages (from sacremoses->transformers) (1.0.1)\n",
            "Requirement already satisfied: click in /usr/local/lib/python3.7/dist-packages (from sacremoses->transformers) (7.1.2)\n"
          ],
          "name": "stdout"
        }
      ]
    },
    {
      "cell_type": "code",
      "metadata": {
        "id": "sBsouzzncxyP",
        "colab": {
          "base_uri": "https://localhost:8080/"
        },
        "outputId": "47e197dd-2e8e-4c94-9ea1-e43b3353175f"
      },
      "source": [
        "run_experiment(experiment_name0, experiment_params0)"
      ],
      "execution_count": 16,
      "outputs": [
        {
          "output_type": "stream",
          "text": [
            "Files already downloaded and verified\n",
            "Files already downloaded and verified\n"
          ],
          "name": "stdout"
        },
        {
          "output_type": "stream",
          "text": [
            "Some weights of GPT2Model were not initialized from the model checkpoint at gpt2 and are newly initialized: ['h.0.attn.masked_bias', 'h.1.attn.masked_bias', 'h.2.attn.masked_bias', 'h.3.attn.masked_bias', 'h.4.attn.masked_bias', 'h.5.attn.masked_bias', 'h.6.attn.masked_bias', 'h.7.attn.masked_bias', 'h.8.attn.masked_bias', 'h.9.attn.masked_bias', 'h.10.attn.masked_bias', 'h.11.attn.masked_bias']\n",
            "You should probably TRAIN this model on a down-stream task to be able to use it for predictions and inference.\n",
            "100%|██████████| 100/100 [00:02<00:00, 35.04it/s]\n",
            "  4%|▍         | 4/100 [00:00<00:02, 32.06it/s]"
          ],
          "name": "stderr"
        },
        {
          "output_type": "stream",
          "text": [
            "=========================================================\n",
            "| Iteration                 |                         1 |\n",
            "| Gradient Steps            |                       100 |\n",
            "| Average Train Loss        |         2.645882935523987 |\n",
            "| Start Train Loss          |         4.812505722045898 |\n",
            "| Final Train Loss          |        1.8105145692825317 |\n",
            "| Test Loss                 |        2.4886891603469845 |\n",
            "| Test Accuracy             |       0.12000000000000001 |\n",
            "| Train Accuracy            |                     0.135 |\n",
            "| Time Training             |         2.857307195663452 |\n",
            "| Time Testing              |        0.2382643222808838 |\n"
          ],
          "name": "stdout"
        },
        {
          "output_type": "stream",
          "text": [
            "100%|██████████| 100/100 [00:02<00:00, 35.54it/s]\n",
            "  4%|▍         | 4/100 [00:00<00:02, 35.33it/s]"
          ],
          "name": "stderr"
        },
        {
          "output_type": "stream",
          "text": [
            "=========================================================\n",
            "| Iteration                 |                         2 |\n",
            "| Gradient Steps            |                       200 |\n",
            "| Average Train Loss        |        2.3739624547958376 |\n",
            "| Start Train Loss          |         2.503535270690918 |\n",
            "| Final Train Loss          |        3.0753324031829834 |\n",
            "| Test Loss                 |        2.6741058707237246 |\n",
            "| Test Accuracy             |       0.23999999999999996 |\n",
            "| Train Accuracy            |                     0.125 |\n",
            "| Time Training             |           2.8166663646698 |\n",
            "| Time Testing              |       0.24466729164123535 |\n"
          ],
          "name": "stdout"
        },
        {
          "output_type": "stream",
          "text": [
            "100%|██████████| 100/100 [00:02<00:00, 36.44it/s]\n",
            "  4%|▍         | 4/100 [00:00<00:02, 36.63it/s]"
          ],
          "name": "stderr"
        },
        {
          "output_type": "stream",
          "text": [
            "=========================================================\n",
            "| Iteration                 |                         3 |\n",
            "| Gradient Steps            |                       300 |\n",
            "| Average Train Loss        |         2.338146630525589 |\n",
            "| Start Train Loss          |        1.9995319843292236 |\n",
            "| Final Train Loss          |         2.454047679901123 |\n",
            "| Test Loss                 |        2.5621062254905698 |\n",
            "| Test Accuracy             |       0.12000000000000001 |\n",
            "| Train Accuracy            |                      0.17 |\n",
            "| Time Training             |        2.7557642459869385 |\n",
            "| Time Testing              |       0.23114633560180664 |\n"
          ],
          "name": "stdout"
        },
        {
          "output_type": "stream",
          "text": [
            "100%|██████████| 100/100 [00:02<00:00, 36.18it/s]\n",
            "  4%|▍         | 4/100 [00:00<00:02, 37.25it/s]"
          ],
          "name": "stderr"
        },
        {
          "output_type": "stream",
          "text": [
            "=========================================================\n",
            "| Iteration                 |                         4 |\n",
            "| Gradient Steps            |                       400 |\n",
            "| Average Train Loss        |        2.3096116292476654 |\n",
            "| Start Train Loss          |        1.8446614742279053 |\n",
            "| Final Train Loss          |        3.4982450008392334 |\n",
            "| Test Loss                 |         2.802972335815429 |\n",
            "| Test Accuracy             |                      0.14 |\n",
            "| Train Accuracy            |                     0.175 |\n",
            "| Time Training             |        2.7713119983673096 |\n",
            "| Time Testing              |       0.23065876960754395 |\n"
          ],
          "name": "stdout"
        },
        {
          "output_type": "stream",
          "text": [
            "100%|██████████| 100/100 [00:02<00:00, 36.68it/s]\n",
            "  4%|▍         | 4/100 [00:00<00:02, 35.85it/s]"
          ],
          "name": "stderr"
        },
        {
          "output_type": "stream",
          "text": [
            "=========================================================\n",
            "| Iteration                 |                         5 |\n",
            "| Gradient Steps            |                       500 |\n",
            "| Average Train Loss        |        2.2971023499965666 |\n",
            "| Start Train Loss          |         2.829151153564453 |\n",
            "| Final Train Loss          |         2.495321035385132 |\n",
            "| Test Loss                 |        2.3111687374114993 |\n",
            "| Test Accuracy             |                      0.16 |\n",
            "| Train Accuracy            |                     0.175 |\n",
            "| Time Training             |        2.7316884994506836 |\n",
            "| Time Testing              |       0.24458646774291992 |\n"
          ],
          "name": "stdout"
        },
        {
          "output_type": "stream",
          "text": [
            "100%|██████████| 100/100 [00:02<00:00, 36.35it/s]\n",
            "  4%|▍         | 4/100 [00:00<00:02, 38.00it/s]"
          ],
          "name": "stderr"
        },
        {
          "output_type": "stream",
          "text": [
            "=========================================================\n",
            "| Iteration                 |                         6 |\n",
            "| Gradient Steps            |                       600 |\n",
            "| Average Train Loss        |        2.2687993413209915 |\n",
            "| Start Train Loss          |        2.0229687690734863 |\n",
            "| Final Train Loss          |        1.6498713493347168 |\n",
            "| Test Loss                 |        2.5513503527641292 |\n",
            "| Test Accuracy             |       0.21999999999999997 |\n",
            "| Train Accuracy            |                     0.185 |\n",
            "| Time Training             |         2.756284475326538 |\n",
            "| Time Testing              |       0.23298215866088867 |\n"
          ],
          "name": "stdout"
        },
        {
          "output_type": "stream",
          "text": [
            "100%|██████████| 100/100 [00:02<00:00, 36.29it/s]\n",
            "  4%|▍         | 4/100 [00:00<00:02, 35.77it/s]"
          ],
          "name": "stderr"
        },
        {
          "output_type": "stream",
          "text": [
            "=========================================================\n",
            "| Iteration                 |                         7 |\n",
            "| Gradient Steps            |                       700 |\n",
            "| Average Train Loss        |        2.3011453664302826 |\n",
            "| Start Train Loss          |        1.8925561904907227 |\n",
            "| Final Train Loss          |         2.114800214767456 |\n",
            "| Test Loss                 |        2.2290212535858154 |\n",
            "| Test Accuracy             |       0.21999999999999997 |\n",
            "| Train Accuracy            |                      0.16 |\n",
            "| Time Training             |        2.7602014541625977 |\n",
            "| Time Testing              |        0.2405543327331543 |\n"
          ],
          "name": "stdout"
        },
        {
          "output_type": "stream",
          "text": [
            "100%|██████████| 100/100 [00:02<00:00, 36.17it/s]\n",
            "  4%|▍         | 4/100 [00:00<00:02, 37.95it/s]"
          ],
          "name": "stderr"
        },
        {
          "output_type": "stream",
          "text": [
            "=========================================================\n",
            "| Iteration                 |                         8 |\n",
            "| Gradient Steps            |                       800 |\n",
            "| Average Train Loss        |          2.25887863278389 |\n",
            "| Start Train Loss          |        2.9236743450164795 |\n",
            "| Final Train Loss          |        1.9945186376571655 |\n",
            "| Test Loss                 |        2.0612112307548522 |\n",
            "| Test Accuracy             |       0.27999999999999997 |\n",
            "| Train Accuracy            |                      0.18 |\n",
            "| Time Training             |         2.770341157913208 |\n",
            "| Time Testing              |        0.2369225025177002 |\n"
          ],
          "name": "stdout"
        },
        {
          "output_type": "stream",
          "text": [
            "100%|██████████| 100/100 [00:02<00:00, 36.11it/s]\n",
            "  4%|▍         | 4/100 [00:00<00:02, 35.90it/s]"
          ],
          "name": "stderr"
        },
        {
          "output_type": "stream",
          "text": [
            "=========================================================\n",
            "| Iteration                 |                         9 |\n",
            "| Gradient Steps            |                       900 |\n",
            "| Average Train Loss        |        2.3117300987243654 |\n",
            "| Start Train Loss          |         2.229954242706299 |\n",
            "| Final Train Loss          |        2.4421093463897705 |\n",
            "| Test Loss                 |        2.3568111467361446 |\n",
            "| Test Accuracy             |       0.18000000000000002 |\n",
            "| Train Accuracy            |                     0.145 |\n",
            "| Time Training             |         2.774366855621338 |\n",
            "| Time Testing              |        0.2370316982269287 |\n"
          ],
          "name": "stdout"
        },
        {
          "output_type": "stream",
          "text": [
            "100%|██████████| 100/100 [00:02<00:00, 36.04it/s]\n",
            "  4%|▍         | 4/100 [00:00<00:02, 35.61it/s]"
          ],
          "name": "stderr"
        },
        {
          "output_type": "stream",
          "text": [
            "=========================================================\n",
            "| Iteration                 |                        10 |\n",
            "| Gradient Steps            |                      1000 |\n",
            "| Average Train Loss        |         2.322510107755661 |\n",
            "| Start Train Loss          |        2.4362998008728027 |\n",
            "| Final Train Loss          |        1.9046717882156372 |\n",
            "| Test Loss                 |         2.306186513900757 |\n",
            "| Test Accuracy             |                      0.08 |\n",
            "| Train Accuracy            |                     0.155 |\n",
            "| Time Training             |        2.7802648544311523 |\n",
            "| Time Testing              |       0.23766875267028809 |\n"
          ],
          "name": "stdout"
        },
        {
          "output_type": "stream",
          "text": [
            "100%|██████████| 100/100 [00:02<00:00, 35.80it/s]\n",
            "  4%|▍         | 4/100 [00:00<00:02, 35.61it/s]"
          ],
          "name": "stderr"
        },
        {
          "output_type": "stream",
          "text": [
            "=========================================================\n",
            "| Iteration                 |                        11 |\n",
            "| Gradient Steps            |                      1100 |\n",
            "| Average Train Loss        |        2.2059460520744323 |\n",
            "| Start Train Loss          |        1.6635091304779053 |\n",
            "| Final Train Loss          |        1.3710278272628784 |\n",
            "| Test Loss                 |        1.9796078991889952 |\n",
            "| Test Accuracy             |       0.25999999999999995 |\n",
            "| Train Accuracy            |                     0.175 |\n",
            "| Time Training             |        2.7992136478424072 |\n",
            "| Time Testing              |       0.23285913467407227 |\n"
          ],
          "name": "stdout"
        },
        {
          "output_type": "stream",
          "text": [
            "100%|██████████| 100/100 [00:02<00:00, 35.83it/s]\n",
            "  4%|▍         | 4/100 [00:00<00:02, 36.22it/s]"
          ],
          "name": "stderr"
        },
        {
          "output_type": "stream",
          "text": [
            "=========================================================\n",
            "| Iteration                 |                        12 |\n",
            "| Gradient Steps            |                      1200 |\n",
            "| Average Train Loss        |         2.260838078260422 |\n",
            "| Start Train Loss          |        2.4690041542053223 |\n",
            "| Final Train Loss          |          2.48429012298584 |\n",
            "| Test Loss                 |        2.1162473535537716 |\n",
            "| Test Accuracy             |       0.30000000000000004 |\n",
            "| Train Accuracy            |                      0.17 |\n",
            "| Time Training             |        2.7977869510650635 |\n",
            "| Time Testing              |         0.232924222946167 |\n"
          ],
          "name": "stdout"
        },
        {
          "output_type": "stream",
          "text": [
            "100%|██████████| 100/100 [00:02<00:00, 35.95it/s]\n",
            "  4%|▍         | 4/100 [00:00<00:02, 36.08it/s]"
          ],
          "name": "stderr"
        },
        {
          "output_type": "stream",
          "text": [
            "=========================================================\n",
            "| Iteration                 |                        13 |\n",
            "| Gradient Steps            |                      1300 |\n",
            "| Average Train Loss        |        2.2910974740982057 |\n",
            "| Start Train Loss          |        1.8362667560577393 |\n",
            "| Final Train Loss          |        2.1535606384277344 |\n",
            "| Test Loss                 |        2.2779451012611385 |\n",
            "| Test Accuracy             |                      0.22 |\n",
            "| Train Accuracy            |                      0.14 |\n",
            "| Time Training             |        2.7915303707122803 |\n",
            "| Time Testing              |        0.2413187026977539 |\n"
          ],
          "name": "stdout"
        },
        {
          "output_type": "stream",
          "text": [
            "100%|██████████| 100/100 [00:02<00:00, 35.74it/s]\n",
            "  4%|▍         | 4/100 [00:00<00:02, 33.18it/s]"
          ],
          "name": "stderr"
        },
        {
          "output_type": "stream",
          "text": [
            "=========================================================\n",
            "| Iteration                 |                        14 |\n",
            "| Gradient Steps            |                      1400 |\n",
            "| Average Train Loss        |         2.167046141028404 |\n",
            "| Start Train Loss          |         2.194967746734619 |\n",
            "| Final Train Loss          |        1.8205729722976685 |\n",
            "| Test Loss                 |         2.534727132320404 |\n",
            "| Test Accuracy             |       0.25999999999999995 |\n",
            "| Train Accuracy            |                     0.195 |\n",
            "| Time Training             |         2.802382469177246 |\n",
            "| Time Testing              |       0.23257946968078613 |\n"
          ],
          "name": "stdout"
        },
        {
          "output_type": "stream",
          "text": [
            "100%|██████████| 100/100 [00:02<00:00, 35.24it/s]\n",
            "  4%|▍         | 4/100 [00:00<00:02, 35.41it/s]"
          ],
          "name": "stderr"
        },
        {
          "output_type": "stream",
          "text": [
            "=========================================================\n",
            "| Iteration                 |                        15 |\n",
            "| Gradient Steps            |                      1500 |\n",
            "| Average Train Loss        |         2.271037598848343 |\n",
            "| Start Train Loss          |         2.747692584991455 |\n",
            "| Final Train Loss          |        2.2114856243133545 |\n",
            "| Test Loss                 |         2.135786590576172 |\n",
            "| Test Accuracy             |                       0.3 |\n",
            "| Train Accuracy            |                     0.145 |\n",
            "| Time Training             |         2.843503952026367 |\n",
            "| Time Testing              |       0.24110937118530273 |\n"
          ],
          "name": "stdout"
        },
        {
          "output_type": "stream",
          "text": [
            "100%|██████████| 100/100 [00:02<00:00, 35.96it/s]\n",
            "  4%|▍         | 4/100 [00:00<00:02, 34.92it/s]"
          ],
          "name": "stderr"
        },
        {
          "output_type": "stream",
          "text": [
            "=========================================================\n",
            "| Iteration                 |                        16 |\n",
            "| Gradient Steps            |                      1600 |\n",
            "| Average Train Loss        |        2.2741131806373596 |\n",
            "| Start Train Loss          |        2.8870058059692383 |\n",
            "| Final Train Loss          |        2.4176506996154785 |\n",
            "| Test Loss                 |         2.290003182888031 |\n",
            "| Test Accuracy             |       0.21999999999999997 |\n",
            "| Train Accuracy            |                      0.17 |\n",
            "| Time Training             |         2.786557197570801 |\n",
            "| Time Testing              |       0.23874497413635254 |\n"
          ],
          "name": "stdout"
        },
        {
          "output_type": "stream",
          "text": [
            "100%|██████████| 100/100 [00:02<00:00, 35.69it/s]\n",
            "  4%|▍         | 4/100 [00:00<00:02, 35.95it/s]"
          ],
          "name": "stderr"
        },
        {
          "output_type": "stream",
          "text": [
            "=========================================================\n",
            "| Iteration                 |                        17 |\n",
            "| Gradient Steps            |                      1700 |\n",
            "| Average Train Loss        |         2.269492814540863 |\n",
            "| Start Train Loss          |        1.9768863916397095 |\n",
            "| Final Train Loss          |        2.3906025886535645 |\n",
            "| Test Loss                 |        2.2670818901062004 |\n",
            "| Test Accuracy             |       0.18000000000000002 |\n",
            "| Train Accuracy            |                      0.19 |\n",
            "| Time Training             |        2.8074758052825928 |\n",
            "| Time Testing              |        0.2550320625305176 |\n"
          ],
          "name": "stdout"
        },
        {
          "output_type": "stream",
          "text": [
            "100%|██████████| 100/100 [00:02<00:00, 36.14it/s]\n",
            "  4%|▍         | 4/100 [00:00<00:02, 35.17it/s]"
          ],
          "name": "stderr"
        },
        {
          "output_type": "stream",
          "text": [
            "=========================================================\n",
            "| Iteration                 |                        18 |\n",
            "| Gradient Steps            |                      1800 |\n",
            "| Average Train Loss        |         2.203081418275833 |\n",
            "| Start Train Loss          |        2.0371031761169434 |\n",
            "| Final Train Loss          |         1.788914442062378 |\n",
            "| Test Loss                 |         2.072101205587387 |\n",
            "| Test Accuracy             |                       0.3 |\n",
            "| Train Accuracy            |                     0.165 |\n",
            "| Time Training             |        2.7740838527679443 |\n",
            "| Time Testing              |       0.23258662223815918 |\n"
          ],
          "name": "stdout"
        },
        {
          "output_type": "stream",
          "text": [
            "100%|██████████| 100/100 [00:02<00:00, 36.19it/s]\n",
            "  4%|▍         | 4/100 [00:00<00:02, 36.18it/s]"
          ],
          "name": "stderr"
        },
        {
          "output_type": "stream",
          "text": [
            "=========================================================\n",
            "| Iteration                 |                        19 |\n",
            "| Gradient Steps            |                      1900 |\n",
            "| Average Train Loss        |        2.1936324191093446 |\n",
            "| Start Train Loss          |         2.096357822418213 |\n",
            "| Final Train Loss          |        1.9741966724395752 |\n",
            "| Test Loss                 |        2.4030790519714347 |\n",
            "| Test Accuracy             |       0.21999999999999997 |\n",
            "| Train Accuracy            |                      0.23 |\n",
            "| Time Training             |         2.768664836883545 |\n",
            "| Time Testing              |       0.24535918235778809 |\n"
          ],
          "name": "stdout"
        },
        {
          "output_type": "stream",
          "text": [
            "100%|██████████| 100/100 [00:02<00:00, 36.10it/s]\n",
            "  3%|▎         | 3/100 [00:00<00:03, 27.33it/s]"
          ],
          "name": "stderr"
        },
        {
          "output_type": "stream",
          "text": [
            "=========================================================\n",
            "| Iteration                 |                        20 |\n",
            "| Gradient Steps            |                      2000 |\n",
            "| Average Train Loss        |         2.238876931667328 |\n",
            "| Start Train Loss          |           1.7469482421875 |\n",
            "| Final Train Loss          |        2.3893625736236572 |\n",
            "| Test Loss                 |        2.2344256877899173 |\n",
            "| Test Accuracy             |                      0.24 |\n",
            "| Train Accuracy            |                     0.175 |\n",
            "| Time Training             |         2.775583505630493 |\n",
            "| Time Testing              |        0.2543027400970459 |\n"
          ],
          "name": "stdout"
        },
        {
          "output_type": "stream",
          "text": [
            "100%|██████████| 100/100 [00:02<00:00, 35.58it/s]\n",
            "  4%|▍         | 4/100 [00:00<00:02, 35.33it/s]"
          ],
          "name": "stderr"
        },
        {
          "output_type": "stream",
          "text": [
            "=========================================================\n",
            "| Iteration                 |                        21 |\n",
            "| Gradient Steps            |                      2100 |\n",
            "| Average Train Loss        |         2.254288744926453 |\n",
            "| Start Train Loss          |        2.2939319610595703 |\n",
            "| Final Train Loss          |         2.005244255065918 |\n",
            "| Test Loss                 |        2.6563669729232786 |\n",
            "| Test Accuracy             |                      0.16 |\n",
            "| Train Accuracy            |                     0.175 |\n",
            "| Time Training             |          2.81596040725708 |\n",
            "| Time Testing              |        0.2412879467010498 |\n"
          ],
          "name": "stdout"
        },
        {
          "output_type": "stream",
          "text": [
            "100%|██████████| 100/100 [00:02<00:00, 36.39it/s]\n",
            "  4%|▍         | 4/100 [00:00<00:02, 35.75it/s]"
          ],
          "name": "stderr"
        },
        {
          "output_type": "stream",
          "text": [
            "=========================================================\n",
            "| Iteration                 |                        22 |\n",
            "| Gradient Steps            |                      2200 |\n",
            "| Average Train Loss        |        2.1691240429878236 |\n",
            "| Start Train Loss          |        1.9315630197525024 |\n",
            "| Final Train Loss          |        2.1603994369506836 |\n",
            "| Test Loss                 |        2.7898154115676874 |\n",
            "| Test Accuracy             |                      0.16 |\n",
            "| Train Accuracy            |                     0.215 |\n",
            "| Time Training             |         2.755169630050659 |\n",
            "| Time Testing              |        0.2438664436340332 |\n"
          ],
          "name": "stdout"
        },
        {
          "output_type": "stream",
          "text": [
            "100%|██████████| 100/100 [00:02<00:00, 35.93it/s]\n",
            "  4%|▍         | 4/100 [00:00<00:02, 35.35it/s]"
          ],
          "name": "stderr"
        },
        {
          "output_type": "stream",
          "text": [
            "=========================================================\n",
            "| Iteration                 |                        23 |\n",
            "| Gradient Steps            |                      2300 |\n",
            "| Average Train Loss        |          2.22134064078331 |\n",
            "| Start Train Loss          |         2.373073101043701 |\n",
            "| Final Train Loss          |        1.6073038578033447 |\n",
            "| Test Loss                 |        2.3773392438888554 |\n",
            "| Test Accuracy             |                      0.08 |\n",
            "| Train Accuracy            |                     0.205 |\n",
            "| Time Training             |        2.7882516384124756 |\n",
            "| Time Testing              |       0.24565625190734863 |\n"
          ],
          "name": "stdout"
        },
        {
          "output_type": "stream",
          "text": [
            "100%|██████████| 100/100 [00:02<00:00, 36.14it/s]\n",
            "  4%|▍         | 4/100 [00:00<00:02, 36.47it/s]"
          ],
          "name": "stderr"
        },
        {
          "output_type": "stream",
          "text": [
            "=========================================================\n",
            "| Iteration                 |                        24 |\n",
            "| Gradient Steps            |                      2400 |\n",
            "| Average Train Loss        |        2.2583391219377518 |\n",
            "| Start Train Loss          |        2.3704662322998047 |\n",
            "| Final Train Loss          |         1.991047739982605 |\n",
            "| Test Loss                 |        2.6689360666275017 |\n",
            "| Test Accuracy             |                      0.16 |\n",
            "| Train Accuracy            |                     0.165 |\n",
            "| Time Training             |        2.7744967937469482 |\n",
            "| Time Testing              |       0.23984527587890625 |\n"
          ],
          "name": "stdout"
        },
        {
          "output_type": "stream",
          "text": [
            "100%|██████████| 100/100 [00:02<00:00, 36.13it/s]\n",
            "  4%|▍         | 4/100 [00:00<00:02, 36.92it/s]"
          ],
          "name": "stderr"
        },
        {
          "output_type": "stream",
          "text": [
            "=========================================================\n",
            "| Iteration                 |                        25 |\n",
            "| Gradient Steps            |                      2500 |\n",
            "| Average Train Loss        |         2.162347584962845 |\n",
            "| Start Train Loss          |        2.1604442596435547 |\n",
            "| Final Train Loss          |         2.453040599822998 |\n",
            "| Test Loss                 |        2.2305891418457033 |\n",
            "| Test Accuracy             |       0.21999999999999997 |\n",
            "| Train Accuracy            |                      0.22 |\n",
            "| Time Training             |        2.7731499671936035 |\n",
            "| Time Testing              |          0.24798583984375 |\n"
          ],
          "name": "stdout"
        },
        {
          "output_type": "stream",
          "text": [
            "100%|██████████| 100/100 [00:02<00:00, 36.06it/s]\n",
            "  4%|▍         | 4/100 [00:00<00:02, 34.72it/s]"
          ],
          "name": "stderr"
        },
        {
          "output_type": "stream",
          "text": [
            "=========================================================\n",
            "| Iteration                 |                        26 |\n",
            "| Gradient Steps            |                      2600 |\n",
            "| Average Train Loss        |        2.1996207571029665 |\n",
            "| Start Train Loss          |          1.95452082157135 |\n",
            "| Final Train Loss          |        2.6939921379089355 |\n",
            "| Test Loss                 |         2.167660064697266 |\n",
            "| Test Accuracy             |       0.25999999999999995 |\n",
            "| Train Accuracy            |                      0.16 |\n",
            "| Time Training             |         2.781365394592285 |\n",
            "| Time Testing              |        0.2413468360900879 |\n"
          ],
          "name": "stdout"
        },
        {
          "output_type": "stream",
          "text": [
            "100%|██████████| 100/100 [00:02<00:00, 35.62it/s]\n",
            "  4%|▍         | 4/100 [00:00<00:02, 36.92it/s]"
          ],
          "name": "stderr"
        },
        {
          "output_type": "stream",
          "text": [
            "=========================================================\n",
            "| Iteration                 |                        27 |\n",
            "| Gradient Steps            |                      2700 |\n",
            "| Average Train Loss        |        2.2682075238227846 |\n",
            "| Start Train Loss          |        1.6735289096832275 |\n",
            "| Final Train Loss          |         2.498828887939453 |\n",
            "| Test Loss                 |        2.5203600597381595 |\n",
            "| Test Accuracy             |                      0.18 |\n",
            "| Train Accuracy            |                     0.175 |\n",
            "| Time Training             |         2.817067861557007 |\n",
            "| Time Testing              |       0.24135661125183105 |\n"
          ],
          "name": "stdout"
        },
        {
          "output_type": "stream",
          "text": [
            "100%|██████████| 100/100 [00:02<00:00, 35.69it/s]\n",
            "  4%|▍         | 4/100 [00:00<00:02, 36.49it/s]"
          ],
          "name": "stderr"
        },
        {
          "output_type": "stream",
          "text": [
            "=========================================================\n",
            "| Iteration                 |                        28 |\n",
            "| Gradient Steps            |                      2800 |\n",
            "| Average Train Loss        |         2.182557212114334 |\n",
            "| Start Train Loss          |         2.362682819366455 |\n",
            "| Final Train Loss          |        1.3438562154769897 |\n",
            "| Test Loss                 |        2.8584206223487856 |\n",
            "| Test Accuracy             |       0.19999999999999998 |\n",
            "| Train Accuracy            |                      0.26 |\n",
            "| Time Training             |        2.8079304695129395 |\n",
            "| Time Testing              |       0.23690509796142578 |\n"
          ],
          "name": "stdout"
        },
        {
          "output_type": "stream",
          "text": [
            "100%|██████████| 100/100 [00:02<00:00, 36.43it/s]\n",
            "  4%|▍         | 4/100 [00:00<00:02, 37.72it/s]"
          ],
          "name": "stderr"
        },
        {
          "output_type": "stream",
          "text": [
            "=========================================================\n",
            "| Iteration                 |                        29 |\n",
            "| Gradient Steps            |                      2900 |\n",
            "| Average Train Loss        |         2.189615523815155 |\n",
            "| Start Train Loss          |        2.0972609519958496 |\n",
            "| Final Train Loss          |         3.629573345184326 |\n",
            "| Test Loss                 |         2.388915238380432 |\n",
            "| Test Accuracy             |                      0.14 |\n",
            "| Train Accuracy            |                     0.185 |\n",
            "| Time Training             |        2.7493202686309814 |\n",
            "| Time Testing              |        0.2396247386932373 |\n"
          ],
          "name": "stdout"
        },
        {
          "output_type": "stream",
          "text": [
            "100%|██████████| 100/100 [00:02<00:00, 36.93it/s]\n",
            "  4%|▍         | 4/100 [00:00<00:02, 33.15it/s]"
          ],
          "name": "stderr"
        },
        {
          "output_type": "stream",
          "text": [
            "=========================================================\n",
            "| Iteration                 |                        30 |\n",
            "| Gradient Steps            |                      3000 |\n",
            "| Average Train Loss        |        2.2359867668151856 |\n",
            "| Start Train Loss          |        1.6785385608673096 |\n",
            "| Final Train Loss          |         2.611752510070801 |\n",
            "| Test Loss                 |        2.1792561483383177 |\n",
            "| Test Accuracy             |       0.19999999999999998 |\n",
            "| Train Accuracy            |                     0.205 |\n",
            "| Time Training             |        2.7152934074401855 |\n",
            "| Time Testing              |       0.24918580055236816 |\n"
          ],
          "name": "stdout"
        },
        {
          "output_type": "stream",
          "text": [
            "100%|██████████| 100/100 [00:02<00:00, 36.72it/s]\n",
            "  4%|▍         | 4/100 [00:00<00:02, 37.37it/s]"
          ],
          "name": "stderr"
        },
        {
          "output_type": "stream",
          "text": [
            "=========================================================\n",
            "| Iteration                 |                        31 |\n",
            "| Gradient Steps            |                      3100 |\n",
            "| Average Train Loss        |        2.1855787670612337 |\n",
            "| Start Train Loss          |        1.8197771310806274 |\n",
            "| Final Train Loss          |        2.6539554595947266 |\n",
            "| Test Loss                 |         2.130982375144958 |\n",
            "| Test Accuracy             |                       0.3 |\n",
            "| Train Accuracy            |                     0.215 |\n",
            "| Time Training             |         2.731339454650879 |\n",
            "| Time Testing              |        0.2306833267211914 |\n"
          ],
          "name": "stdout"
        },
        {
          "output_type": "stream",
          "text": [
            "100%|██████████| 100/100 [00:02<00:00, 36.80it/s]\n",
            "  4%|▍         | 4/100 [00:00<00:02, 35.35it/s]"
          ],
          "name": "stderr"
        },
        {
          "output_type": "stream",
          "text": [
            "=========================================================\n",
            "| Iteration                 |                        32 |\n",
            "| Gradient Steps            |                      3200 |\n",
            "| Average Train Loss        |         2.283121178150177 |\n",
            "| Start Train Loss          |         2.188366651535034 |\n",
            "| Final Train Loss          |         2.156938314437866 |\n",
            "| Test Loss                 |         2.479635510444641 |\n",
            "| Test Accuracy             |                      0.18 |\n",
            "| Train Accuracy            |                     0.165 |\n",
            "| Time Training             |        2.7252111434936523 |\n",
            "| Time Testing              |       0.23459696769714355 |\n"
          ],
          "name": "stdout"
        },
        {
          "output_type": "stream",
          "text": [
            "100%|██████████| 100/100 [00:02<00:00, 36.09it/s]\n",
            "  4%|▍         | 4/100 [00:00<00:02, 37.04it/s]"
          ],
          "name": "stderr"
        },
        {
          "output_type": "stream",
          "text": [
            "=========================================================\n",
            "| Iteration                 |                        33 |\n",
            "| Gradient Steps            |                      3300 |\n",
            "| Average Train Loss        |        2.1901206851005552 |\n",
            "| Start Train Loss          |         2.275463581085205 |\n",
            "| Final Train Loss          |        2.6207098960876465 |\n",
            "| Test Loss                 |         2.636864650249481 |\n",
            "| Test Accuracy             |                      0.16 |\n",
            "| Train Accuracy            |                     0.245 |\n",
            "| Time Training             |         2.776820421218872 |\n",
            "| Time Testing              |       0.22707819938659668 |\n"
          ],
          "name": "stdout"
        },
        {
          "output_type": "stream",
          "text": [
            "100%|██████████| 100/100 [00:02<00:00, 36.16it/s]\n",
            "  4%|▍         | 4/100 [00:00<00:02, 36.88it/s]"
          ],
          "name": "stderr"
        },
        {
          "output_type": "stream",
          "text": [
            "=========================================================\n",
            "| Iteration                 |                        34 |\n",
            "| Gradient Steps            |                      3400 |\n",
            "| Average Train Loss        |         2.212764856815338 |\n",
            "| Start Train Loss          |         2.080061674118042 |\n",
            "| Final Train Loss          |         1.546886682510376 |\n",
            "| Test Loss                 |          2.10429826259613 |\n",
            "| Test Accuracy             |                       0.3 |\n",
            "| Train Accuracy            |                     0.225 |\n",
            "| Time Training             |         2.769848585128784 |\n",
            "| Time Testing              |       0.23479533195495605 |\n"
          ],
          "name": "stdout"
        },
        {
          "output_type": "stream",
          "text": [
            "100%|██████████| 100/100 [00:02<00:00, 36.45it/s]\n",
            "  4%|▍         | 4/100 [00:00<00:02, 36.08it/s]"
          ],
          "name": "stderr"
        },
        {
          "output_type": "stream",
          "text": [
            "=========================================================\n",
            "| Iteration                 |                        35 |\n",
            "| Gradient Steps            |                      3500 |\n",
            "| Average Train Loss        |        2.2183572125434874 |\n",
            "| Start Train Loss          |         2.813340663909912 |\n",
            "| Final Train Loss          |        2.2576751708984375 |\n",
            "| Test Loss                 |         2.430772096514703 |\n",
            "| Test Accuracy             |                       0.2 |\n",
            "| Train Accuracy            |                      0.19 |\n",
            "| Time Training             |         2.749971389770508 |\n",
            "| Time Testing              |        0.2542991638183594 |\n"
          ],
          "name": "stdout"
        },
        {
          "output_type": "stream",
          "text": [
            "100%|██████████| 100/100 [00:02<00:00, 36.45it/s]\n",
            "  4%|▍         | 4/100 [00:00<00:02, 36.79it/s]"
          ],
          "name": "stderr"
        },
        {
          "output_type": "stream",
          "text": [
            "=========================================================\n",
            "| Iteration                 |                        36 |\n",
            "| Gradient Steps            |                      3600 |\n",
            "| Average Train Loss        |        2.1275227802991865 |\n",
            "| Start Train Loss          |        1.6581158638000488 |\n",
            "| Final Train Loss          |        1.2849290370941162 |\n",
            "| Test Loss                 |        2.4462856721878055 |\n",
            "| Test Accuracy             |       0.27999999999999997 |\n",
            "| Train Accuracy            |                     0.275 |\n",
            "| Time Training             |        2.7527995109558105 |\n",
            "| Time Testing              |       0.24526500701904297 |\n"
          ],
          "name": "stdout"
        },
        {
          "output_type": "stream",
          "text": [
            "100%|██████████| 100/100 [00:02<00:00, 36.20it/s]\n",
            "  4%|▍         | 4/100 [00:00<00:02, 36.24it/s]"
          ],
          "name": "stderr"
        },
        {
          "output_type": "stream",
          "text": [
            "=========================================================\n",
            "| Iteration                 |                        37 |\n",
            "| Gradient Steps            |                      3700 |\n",
            "| Average Train Loss        |        2.2508746671676634 |\n",
            "| Start Train Loss          |         2.065647602081299 |\n",
            "| Final Train Loss          |          2.98764967918396 |\n",
            "| Test Loss                 |        2.2634175217151644 |\n",
            "| Test Accuracy             |                      0.28 |\n",
            "| Train Accuracy            |                      0.23 |\n",
            "| Time Training             |         2.768244981765747 |\n",
            "| Time Testing              |        0.2619915008544922 |\n"
          ],
          "name": "stdout"
        },
        {
          "output_type": "stream",
          "text": [
            "100%|██████████| 100/100 [00:02<00:00, 36.14it/s]\n",
            "  4%|▍         | 4/100 [00:00<00:02, 32.08it/s]"
          ],
          "name": "stderr"
        },
        {
          "output_type": "stream",
          "text": [
            "=========================================================\n",
            "| Iteration                 |                        38 |\n",
            "| Gradient Steps            |                      3800 |\n",
            "| Average Train Loss        |        2.2006780207157135 |\n",
            "| Start Train Loss          |         2.715872287750244 |\n",
            "| Final Train Loss          |        2.2717909812927246 |\n",
            "| Test Loss                 |         2.109160668849945 |\n",
            "| Test Accuracy             |       0.27999999999999997 |\n",
            "| Train Accuracy            |                      0.18 |\n",
            "| Time Training             |         2.771510124206543 |\n",
            "| Time Testing              |       0.24451518058776855 |\n"
          ],
          "name": "stdout"
        },
        {
          "output_type": "stream",
          "text": [
            "100%|██████████| 100/100 [00:02<00:00, 35.43it/s]\n",
            "  4%|▍         | 4/100 [00:00<00:02, 37.50it/s]"
          ],
          "name": "stderr"
        },
        {
          "output_type": "stream",
          "text": [
            "=========================================================\n",
            "| Iteration                 |                        39 |\n",
            "| Gradient Steps            |                      3900 |\n",
            "| Average Train Loss        |         2.196721712350845 |\n",
            "| Start Train Loss          |        2.1999144554138184 |\n",
            "| Final Train Loss          |         2.406341552734375 |\n",
            "| Test Loss                 |        1.9394382858276367 |\n",
            "| Test Accuracy             |       0.30000000000000004 |\n",
            "| Train Accuracy            |                     0.165 |\n",
            "| Time Training             |         2.827911853790283 |\n",
            "| Time Testing              |        0.2398977279663086 |\n"
          ],
          "name": "stdout"
        },
        {
          "output_type": "stream",
          "text": [
            "100%|██████████| 100/100 [00:02<00:00, 35.91it/s]\n",
            "  4%|▍         | 4/100 [00:00<00:02, 32.17it/s]"
          ],
          "name": "stderr"
        },
        {
          "output_type": "stream",
          "text": [
            "=========================================================\n",
            "| Iteration                 |                        40 |\n",
            "| Gradient Steps            |                      4000 |\n",
            "| Average Train Loss        |        2.1304596209526063 |\n",
            "| Start Train Loss          |        2.3954622745513916 |\n",
            "| Final Train Loss          |         2.557487964630127 |\n",
            "| Test Loss                 |        2.1700922846794124 |\n",
            "| Test Accuracy             |       0.38000000000000006 |\n",
            "| Train Accuracy            |                      0.22 |\n",
            "| Time Training             |          2.79433012008667 |\n",
            "| Time Testing              |       0.25708889961242676 |\n"
          ],
          "name": "stdout"
        },
        {
          "output_type": "stream",
          "text": [
            "100%|██████████| 100/100 [00:02<00:00, 35.82it/s]\n",
            "  4%|▍         | 4/100 [00:00<00:02, 36.37it/s]"
          ],
          "name": "stderr"
        },
        {
          "output_type": "stream",
          "text": [
            "=========================================================\n",
            "| Iteration                 |                        41 |\n",
            "| Gradient Steps            |                      4100 |\n",
            "| Average Train Loss        |        2.2082726550102234 |\n",
            "| Start Train Loss          |         2.215074300765991 |\n",
            "| Final Train Loss          |         2.541057825088501 |\n",
            "| Test Loss                 |        2.3750239801406856 |\n",
            "| Test Accuracy             |       0.23999999999999996 |\n",
            "| Train Accuracy            |                      0.22 |\n",
            "| Time Training             |        2.7977333068847656 |\n",
            "| Time Testing              |       0.24617815017700195 |\n"
          ],
          "name": "stdout"
        },
        {
          "output_type": "stream",
          "text": [
            "100%|██████████| 100/100 [00:02<00:00, 35.83it/s]\n",
            "  4%|▍         | 4/100 [00:00<00:02, 35.32it/s]"
          ],
          "name": "stderr"
        },
        {
          "output_type": "stream",
          "text": [
            "=========================================================\n",
            "| Iteration                 |                        42 |\n",
            "| Gradient Steps            |                      4200 |\n",
            "| Average Train Loss        |        2.2190084075927734 |\n",
            "| Start Train Loss          |        2.7863643169403076 |\n",
            "| Final Train Loss          |        2.2624905109405518 |\n",
            "| Test Loss                 |        2.4296737694740296 |\n",
            "| Test Accuracy             |       0.12000000000000001 |\n",
            "| Train Accuracy            |                      0.21 |\n",
            "| Time Training             |        2.8045496940612793 |\n",
            "| Time Testing              |       0.23267412185668945 |\n"
          ],
          "name": "stdout"
        },
        {
          "output_type": "stream",
          "text": [
            "100%|██████████| 100/100 [00:02<00:00, 35.29it/s]\n",
            "  4%|▍         | 4/100 [00:00<00:02, 37.16it/s]"
          ],
          "name": "stderr"
        },
        {
          "output_type": "stream",
          "text": [
            "=========================================================\n",
            "| Iteration                 |                        43 |\n",
            "| Gradient Steps            |                      4300 |\n",
            "| Average Train Loss        |        2.1971159780025484 |\n",
            "| Start Train Loss          |        2.4548535346984863 |\n",
            "| Final Train Loss          |        2.1345629692077637 |\n",
            "| Test Loss                 |        2.7646272897720334 |\n",
            "| Test Accuracy             |       0.19999999999999998 |\n",
            "| Train Accuracy            |                     0.195 |\n",
            "| Time Training             |        2.8387186527252197 |\n",
            "| Time Testing              |       0.23954033851623535 |\n"
          ],
          "name": "stdout"
        },
        {
          "output_type": "stream",
          "text": [
            "100%|██████████| 100/100 [00:02<00:00, 35.43it/s]\n",
            "  4%|▍         | 4/100 [00:00<00:02, 36.51it/s]"
          ],
          "name": "stderr"
        },
        {
          "output_type": "stream",
          "text": [
            "=========================================================\n",
            "| Iteration                 |                        44 |\n",
            "| Gradient Steps            |                      4400 |\n",
            "| Average Train Loss        |        2.2234770894050597 |\n",
            "| Start Train Loss          |        2.0994908809661865 |\n",
            "| Final Train Loss          |        1.9920432567596436 |\n",
            "| Test Loss                 |         2.737583446502686 |\n",
            "| Test Accuracy             |       0.21999999999999997 |\n",
            "| Train Accuracy            |                      0.16 |\n",
            "| Time Training             |         2.829803228378296 |\n",
            "| Time Testing              |       0.24743890762329102 |\n"
          ],
          "name": "stdout"
        },
        {
          "output_type": "stream",
          "text": [
            "100%|██████████| 100/100 [00:02<00:00, 35.58it/s]\n",
            "  4%|▍         | 4/100 [00:00<00:02, 35.87it/s]"
          ],
          "name": "stderr"
        },
        {
          "output_type": "stream",
          "text": [
            "=========================================================\n",
            "| Iteration                 |                        45 |\n",
            "| Gradient Steps            |                      4500 |\n",
            "| Average Train Loss        |         2.162864862680435 |\n",
            "| Start Train Loss          |        2.3950765132904053 |\n",
            "| Final Train Loss          |        1.3917291164398193 |\n",
            "| Test Loss                 |         2.189793524742126 |\n",
            "| Test Accuracy             |       0.19999999999999998 |\n",
            "| Train Accuracy            |                     0.195 |\n",
            "| Time Training             |        2.8146088123321533 |\n",
            "| Time Testing              |       0.24054503440856934 |\n"
          ],
          "name": "stdout"
        },
        {
          "output_type": "stream",
          "text": [
            "100%|██████████| 100/100 [00:02<00:00, 36.12it/s]\n",
            "  4%|▍         | 4/100 [00:00<00:02, 34.42it/s]"
          ],
          "name": "stderr"
        },
        {
          "output_type": "stream",
          "text": [
            "=========================================================\n",
            "| Iteration                 |                        46 |\n",
            "| Gradient Steps            |                      4600 |\n",
            "| Average Train Loss        |        2.1323746448755263 |\n",
            "| Start Train Loss          |         1.457202434539795 |\n",
            "| Final Train Loss          |        1.8557775020599365 |\n",
            "| Test Loss                 |         2.536188831329346 |\n",
            "| Test Accuracy             |       0.25999999999999995 |\n",
            "| Train Accuracy            |                      0.26 |\n",
            "| Time Training             |         2.778595209121704 |\n",
            "| Time Testing              |       0.24315810203552246 |\n"
          ],
          "name": "stdout"
        },
        {
          "output_type": "stream",
          "text": [
            "100%|██████████| 100/100 [00:02<00:00, 35.66it/s]\n",
            "  4%|▍         | 4/100 [00:00<00:02, 34.88it/s]"
          ],
          "name": "stderr"
        },
        {
          "output_type": "stream",
          "text": [
            "=========================================================\n",
            "| Iteration                 |                        47 |\n",
            "| Gradient Steps            |                      4700 |\n",
            "| Average Train Loss        |         2.219093246459961 |\n",
            "| Start Train Loss          |        1.9058396816253662 |\n",
            "| Final Train Loss          |        2.5742220878601074 |\n",
            "| Test Loss                 |        2.3501688575744626 |\n",
            "| Test Accuracy             |                      0.22 |\n",
            "| Train Accuracy            |                     0.185 |\n",
            "| Time Training             |         2.813446044921875 |\n",
            "| Time Testing              |       0.23690128326416016 |\n"
          ],
          "name": "stdout"
        },
        {
          "output_type": "stream",
          "text": [
            "100%|██████████| 100/100 [00:02<00:00, 35.66it/s]\n",
            "  4%|▍         | 4/100 [00:00<00:02, 36.74it/s]"
          ],
          "name": "stderr"
        },
        {
          "output_type": "stream",
          "text": [
            "=========================================================\n",
            "| Iteration                 |                        48 |\n",
            "| Gradient Steps            |                      4800 |\n",
            "| Average Train Loss        |         2.211244661808014 |\n",
            "| Start Train Loss          |        1.4602179527282715 |\n",
            "| Final Train Loss          |         2.397953510284424 |\n",
            "| Test Loss                 |         2.418232927322388 |\n",
            "| Test Accuracy             |       0.23999999999999996 |\n",
            "| Train Accuracy            |                     0.185 |\n",
            "| Time Training             |         2.816075325012207 |\n",
            "| Time Testing              |        0.2305905818939209 |\n"
          ],
          "name": "stdout"
        },
        {
          "output_type": "stream",
          "text": [
            "100%|██████████| 100/100 [00:02<00:00, 35.93it/s]\n",
            "  4%|▍         | 4/100 [00:00<00:02, 33.06it/s]"
          ],
          "name": "stderr"
        },
        {
          "output_type": "stream",
          "text": [
            "=========================================================\n",
            "| Iteration                 |                        49 |\n",
            "| Gradient Steps            |                      4900 |\n",
            "| Average Train Loss        |        2.1376241379976273 |\n",
            "| Start Train Loss          |         2.065903902053833 |\n",
            "| Final Train Loss          |        2.8789665699005127 |\n",
            "| Test Loss                 |          2.84266592502594 |\n",
            "| Test Accuracy             |       0.21999999999999997 |\n",
            "| Train Accuracy            |                     0.195 |\n",
            "| Time Training             |         2.793421745300293 |\n",
            "| Time Testing              |       0.23368310928344727 |\n"
          ],
          "name": "stdout"
        },
        {
          "output_type": "stream",
          "text": [
            "100%|██████████| 100/100 [00:02<00:00, 35.64it/s]\n",
            "  4%|▍         | 4/100 [00:00<00:02, 36.25it/s]"
          ],
          "name": "stderr"
        },
        {
          "output_type": "stream",
          "text": [
            "=========================================================\n",
            "| Iteration                 |                        50 |\n",
            "| Gradient Steps            |                      5000 |\n",
            "| Average Train Loss        |         2.199597226381302 |\n",
            "| Start Train Loss          |        1.2022924423217773 |\n",
            "| Final Train Loss          |        2.9338245391845703 |\n",
            "| Test Loss                 |          2.28547212600708 |\n",
            "| Test Accuracy             |                      0.38 |\n",
            "| Train Accuracy            |                     0.215 |\n",
            "| Time Training             |        2.8109657764434814 |\n",
            "| Time Testing              |       0.23531389236450195 |\n"
          ],
          "name": "stdout"
        },
        {
          "output_type": "stream",
          "text": [
            "100%|██████████| 100/100 [00:02<00:00, 35.73it/s]\n",
            "  4%|▍         | 4/100 [00:00<00:02, 34.99it/s]"
          ],
          "name": "stderr"
        },
        {
          "output_type": "stream",
          "text": [
            "=========================================================\n",
            "| Iteration                 |                        51 |\n",
            "| Gradient Steps            |                      5100 |\n",
            "| Average Train Loss        |        2.1909935426712037 |\n",
            "| Start Train Loss          |        2.6835741996765137 |\n",
            "| Final Train Loss          |         1.371513843536377 |\n",
            "| Test Loss                 |         2.548904476165772 |\n",
            "| Test Accuracy             |                      0.28 |\n",
            "| Train Accuracy            |                     0.205 |\n",
            "| Time Training             |        2.8031599521636963 |\n",
            "| Time Testing              |       0.23929047584533691 |\n"
          ],
          "name": "stdout"
        },
        {
          "output_type": "stream",
          "text": [
            "100%|██████████| 100/100 [00:02<00:00, 35.57it/s]\n",
            "  4%|▍         | 4/100 [00:00<00:02, 35.58it/s]"
          ],
          "name": "stderr"
        },
        {
          "output_type": "stream",
          "text": [
            "=========================================================\n",
            "| Iteration                 |                        52 |\n",
            "| Gradient Steps            |                      5200 |\n",
            "| Average Train Loss        |        2.1761698710918425 |\n",
            "| Start Train Loss          |         2.051152467727661 |\n",
            "| Final Train Loss          |        1.9337663650512695 |\n",
            "| Test Loss                 |        2.3566620540618897 |\n",
            "| Test Accuracy             |       0.21999999999999997 |\n",
            "| Train Accuracy            |                      0.26 |\n",
            "| Time Training             |        2.8208954334259033 |\n",
            "| Time Testing              |       0.23969650268554688 |\n"
          ],
          "name": "stdout"
        },
        {
          "output_type": "stream",
          "text": [
            "100%|██████████| 100/100 [00:02<00:00, 35.78it/s]\n",
            "  4%|▍         | 4/100 [00:00<00:02, 35.10it/s]"
          ],
          "name": "stderr"
        },
        {
          "output_type": "stream",
          "text": [
            "=========================================================\n",
            "| Iteration                 |                        53 |\n",
            "| Gradient Steps            |                      5300 |\n",
            "| Average Train Loss        |         2.262581794261932 |\n",
            "| Start Train Loss          |         2.682070255279541 |\n",
            "| Final Train Loss          |        2.4672107696533203 |\n",
            "| Test Loss                 |         2.212363679409027 |\n",
            "| Test Accuracy             |                       0.3 |\n",
            "| Train Accuracy            |                      0.17 |\n",
            "| Time Training             |         2.799553871154785 |\n",
            "| Time Testing              |       0.23827266693115234 |\n"
          ],
          "name": "stdout"
        },
        {
          "output_type": "stream",
          "text": [
            "100%|██████████| 100/100 [00:02<00:00, 35.69it/s]\n",
            "  4%|▍         | 4/100 [00:00<00:02, 36.04it/s]"
          ],
          "name": "stderr"
        },
        {
          "output_type": "stream",
          "text": [
            "=========================================================\n",
            "| Iteration                 |                        54 |\n",
            "| Gradient Steps            |                      5400 |\n",
            "| Average Train Loss        |        2.1407048082351685 |\n",
            "| Start Train Loss          |        1.9819800853729248 |\n",
            "| Final Train Loss          |         2.137488842010498 |\n",
            "| Test Loss                 |        2.6083231544494634 |\n",
            "| Test Accuracy             |       0.21999999999999997 |\n",
            "| Train Accuracy            |                      0.19 |\n",
            "| Time Training             |        2.8111119270324707 |\n",
            "| Time Testing              |       0.22902393341064453 |\n"
          ],
          "name": "stdout"
        },
        {
          "output_type": "stream",
          "text": [
            "100%|██████████| 100/100 [00:02<00:00, 35.58it/s]\n",
            "  4%|▍         | 4/100 [00:00<00:02, 36.96it/s]"
          ],
          "name": "stderr"
        },
        {
          "output_type": "stream",
          "text": [
            "=========================================================\n",
            "| Iteration                 |                        55 |\n",
            "| Gradient Steps            |                      5500 |\n",
            "| Average Train Loss        |        2.1829128748178483 |\n",
            "| Start Train Loss          |         2.243098497390747 |\n",
            "| Final Train Loss          |         3.759328842163086 |\n",
            "| Test Loss                 |         2.432276356220245 |\n",
            "| Test Accuracy             |                      0.24 |\n",
            "| Train Accuracy            |                     0.195 |\n",
            "| Time Training             |        2.8163516521453857 |\n",
            "| Time Testing              |       0.24916934967041016 |\n"
          ],
          "name": "stdout"
        },
        {
          "output_type": "stream",
          "text": [
            "100%|██████████| 100/100 [00:02<00:00, 36.11it/s]\n",
            "  4%|▍         | 4/100 [00:00<00:02, 36.18it/s]"
          ],
          "name": "stderr"
        },
        {
          "output_type": "stream",
          "text": [
            "=========================================================\n",
            "| Iteration                 |                        56 |\n",
            "| Gradient Steps            |                      5600 |\n",
            "| Average Train Loss        |        2.1685845017433167 |\n",
            "| Start Train Loss          |        1.8733563423156738 |\n",
            "| Final Train Loss          |        2.5492186546325684 |\n",
            "| Test Loss                 |         2.683977091312409 |\n",
            "| Test Accuracy             |       0.19999999999999998 |\n",
            "| Train Accuracy            |                      0.22 |\n",
            "| Time Training             |        2.7765724658966064 |\n",
            "| Time Testing              |       0.23512578010559082 |\n"
          ],
          "name": "stdout"
        },
        {
          "output_type": "stream",
          "text": [
            "100%|██████████| 100/100 [00:02<00:00, 35.94it/s]\n",
            "  4%|▍         | 4/100 [00:00<00:02, 37.02it/s]"
          ],
          "name": "stderr"
        },
        {
          "output_type": "stream",
          "text": [
            "=========================================================\n",
            "| Iteration                 |                        57 |\n",
            "| Gradient Steps            |                      5700 |\n",
            "| Average Train Loss        |         2.195691388845444 |\n",
            "| Start Train Loss          |         2.308884620666504 |\n",
            "| Final Train Loss          |        2.4637222290039062 |\n",
            "| Test Loss                 |         2.247919833660126 |\n",
            "| Test Accuracy             |        0.3400000000000001 |\n",
            "| Train Accuracy            |                      0.17 |\n",
            "| Time Training             |        2.7892093658447266 |\n",
            "| Time Testing              |       0.23566031455993652 |\n"
          ],
          "name": "stdout"
        },
        {
          "output_type": "stream",
          "text": [
            "100%|██████████| 100/100 [00:02<00:00, 36.45it/s]\n",
            "  4%|▍         | 4/100 [00:00<00:02, 36.03it/s]"
          ],
          "name": "stderr"
        },
        {
          "output_type": "stream",
          "text": [
            "=========================================================\n",
            "| Iteration                 |                        58 |\n",
            "| Gradient Steps            |                      5800 |\n",
            "| Average Train Loss        |        2.0998019474744796 |\n",
            "| Start Train Loss          |        1.9263026714324951 |\n",
            "| Final Train Loss          |         2.875389575958252 |\n",
            "| Test Loss                 |        2.4148949432373046 |\n",
            "| Test Accuracy             |       0.23999999999999996 |\n",
            "| Train Accuracy            |                      0.24 |\n",
            "| Time Training             |        2.7463154792785645 |\n",
            "| Time Testing              |       0.24546074867248535 |\n"
          ],
          "name": "stdout"
        },
        {
          "output_type": "stream",
          "text": [
            "100%|██████████| 100/100 [00:02<00:00, 35.78it/s]\n",
            "  4%|▍         | 4/100 [00:00<00:02, 35.04it/s]"
          ],
          "name": "stderr"
        },
        {
          "output_type": "stream",
          "text": [
            "=========================================================\n",
            "| Iteration                 |                        59 |\n",
            "| Gradient Steps            |                      5900 |\n",
            "| Average Train Loss        |        2.2241573190689086 |\n",
            "| Start Train Loss          |         2.404897689819336 |\n",
            "| Final Train Loss          |        2.2676467895507812 |\n",
            "| Test Loss                 |         2.389392898082733 |\n",
            "| Test Accuracy             |                       0.3 |\n",
            "| Train Accuracy            |                      0.17 |\n",
            "| Time Training             |        2.8040268421173096 |\n",
            "| Time Testing              |       0.24378323554992676 |\n"
          ],
          "name": "stdout"
        },
        {
          "output_type": "stream",
          "text": [
            "100%|██████████| 100/100 [00:02<00:00, 35.83it/s]\n",
            "  4%|▍         | 4/100 [00:00<00:02, 36.47it/s]"
          ],
          "name": "stderr"
        },
        {
          "output_type": "stream",
          "text": [
            "=========================================================\n",
            "| Iteration                 |                        60 |\n",
            "| Gradient Steps            |                      6000 |\n",
            "| Average Train Loss        |         2.202934814095497 |\n",
            "| Start Train Loss          |        2.3014960289001465 |\n",
            "| Final Train Loss          |        1.8745167255401611 |\n",
            "| Test Loss                 |        2.6128573155403134 |\n",
            "| Test Accuracy             |       0.12000000000000001 |\n",
            "| Train Accuracy            |                     0.185 |\n",
            "| Time Training             |        2.8005335330963135 |\n",
            "| Time Testing              |        0.2451467514038086 |\n"
          ],
          "name": "stdout"
        },
        {
          "output_type": "stream",
          "text": [
            "100%|██████████| 100/100 [00:02<00:00, 36.14it/s]\n",
            "  4%|▍         | 4/100 [00:00<00:02, 34.83it/s]"
          ],
          "name": "stderr"
        },
        {
          "output_type": "stream",
          "text": [
            "=========================================================\n",
            "| Iteration                 |                        61 |\n",
            "| Gradient Steps            |                      6100 |\n",
            "| Average Train Loss        |        2.1555035465955736 |\n",
            "| Start Train Loss          |         2.273037910461426 |\n",
            "| Final Train Loss          |        1.9564204216003418 |\n",
            "| Test Loss                 |        2.4963204610347747 |\n",
            "| Test Accuracy             |       0.21999999999999997 |\n",
            "| Train Accuracy            |                     0.245 |\n",
            "| Time Training             |         2.772491455078125 |\n",
            "| Time Testing              |       0.23744916915893555 |\n"
          ],
          "name": "stdout"
        },
        {
          "output_type": "stream",
          "text": [
            "100%|██████████| 100/100 [00:02<00:00, 35.61it/s]\n",
            "  4%|▍         | 4/100 [00:00<00:02, 36.31it/s]"
          ],
          "name": "stderr"
        },
        {
          "output_type": "stream",
          "text": [
            "=========================================================\n",
            "| Iteration                 |                        62 |\n",
            "| Gradient Steps            |                      6200 |\n",
            "| Average Train Loss        |         2.174736411571503 |\n",
            "| Start Train Loss          |        2.5737459659576416 |\n",
            "| Final Train Loss          |         2.607745885848999 |\n",
            "| Test Loss                 |         2.503615937232971 |\n",
            "| Test Accuracy             |                      0.24 |\n",
            "| Train Accuracy            |                       0.2 |\n",
            "| Time Training             |         2.811516046524048 |\n",
            "| Time Testing              |        0.2388298511505127 |\n"
          ],
          "name": "stdout"
        },
        {
          "output_type": "stream",
          "text": [
            "100%|██████████| 100/100 [00:02<00:00, 35.70it/s]\n",
            "  4%|▍         | 4/100 [00:00<00:02, 35.72it/s]"
          ],
          "name": "stderr"
        },
        {
          "output_type": "stream",
          "text": [
            "=========================================================\n",
            "| Iteration                 |                        63 |\n",
            "| Gradient Steps            |                      6300 |\n",
            "| Average Train Loss        |        2.1001059198379517 |\n",
            "| Start Train Loss          |        2.5878396034240723 |\n",
            "| Final Train Loss          |        1.8543423414230347 |\n",
            "| Test Loss                 |        2.6734821915626528 |\n",
            "| Test Accuracy             |       0.25999999999999995 |\n",
            "| Train Accuracy            |                     0.255 |\n",
            "| Time Training             |        2.8063933849334717 |\n",
            "| Time Testing              |       0.24248456954956055 |\n"
          ],
          "name": "stdout"
        },
        {
          "output_type": "stream",
          "text": [
            "100%|██████████| 100/100 [00:02<00:00, 35.53it/s]\n",
            "  4%|▍         | 4/100 [00:00<00:02, 35.64it/s]"
          ],
          "name": "stderr"
        },
        {
          "output_type": "stream",
          "text": [
            "=========================================================\n",
            "| Iteration                 |                        64 |\n",
            "| Gradient Steps            |                      6400 |\n",
            "| Average Train Loss        |        2.1575864601135253 |\n",
            "| Start Train Loss          |         2.207064628601074 |\n",
            "| Final Train Loss          |          1.90606689453125 |\n",
            "| Test Loss                 |         2.325276486873627 |\n",
            "| Test Accuracy             |        0.3400000000000001 |\n",
            "| Train Accuracy            |                     0.215 |\n",
            "| Time Training             |         2.824432611465454 |\n",
            "| Time Testing              |       0.23199939727783203 |\n"
          ],
          "name": "stdout"
        },
        {
          "output_type": "stream",
          "text": [
            "100%|██████████| 100/100 [00:02<00:00, 36.03it/s]\n",
            "  4%|▍         | 4/100 [00:00<00:02, 36.13it/s]"
          ],
          "name": "stderr"
        },
        {
          "output_type": "stream",
          "text": [
            "=========================================================\n",
            "| Iteration                 |                        65 |\n",
            "| Gradient Steps            |                      6500 |\n",
            "| Average Train Loss        |        2.1051373755931855 |\n",
            "| Start Train Loss          |        1.6084034442901611 |\n",
            "| Final Train Loss          |        2.3578052520751953 |\n",
            "| Test Loss                 |        2.8078825306892394 |\n",
            "| Test Accuracy             |                      0.16 |\n",
            "| Train Accuracy            |                      0.25 |\n",
            "| Time Training             |         2.780060291290283 |\n",
            "| Time Testing              |       0.25988292694091797 |\n"
          ],
          "name": "stdout"
        },
        {
          "output_type": "stream",
          "text": [
            "100%|██████████| 100/100 [00:02<00:00, 35.93it/s]\n",
            "  4%|▍         | 4/100 [00:00<00:02, 36.00it/s]"
          ],
          "name": "stderr"
        },
        {
          "output_type": "stream",
          "text": [
            "=========================================================\n",
            "| Iteration                 |                        66 |\n",
            "| Gradient Steps            |                      6600 |\n",
            "| Average Train Loss        |         2.119601411819458 |\n",
            "| Start Train Loss          |        1.9619426727294922 |\n",
            "| Final Train Loss          |        1.6952662467956543 |\n",
            "| Test Loss                 |        2.3266695880889894 |\n",
            "| Test Accuracy             |                      0.34 |\n",
            "| Train Accuracy            |                      0.25 |\n",
            "| Time Training             |        2.7937397956848145 |\n",
            "| Time Testing              |        0.2510530948638916 |\n"
          ],
          "name": "stdout"
        },
        {
          "output_type": "stream",
          "text": [
            "100%|██████████| 100/100 [00:02<00:00, 35.59it/s]\n",
            "  4%|▍         | 4/100 [00:00<00:02, 38.34it/s]"
          ],
          "name": "stderr"
        },
        {
          "output_type": "stream",
          "text": [
            "=========================================================\n",
            "| Iteration                 |                        67 |\n",
            "| Gradient Steps            |                      6700 |\n",
            "| Average Train Loss        |        2.1322435039281844 |\n",
            "| Start Train Loss          |         2.058985710144043 |\n",
            "| Final Train Loss          |         1.851833701133728 |\n",
            "| Test Loss                 |         2.227235851287842 |\n",
            "| Test Accuracy             |                      0.24 |\n",
            "| Train Accuracy            |                     0.235 |\n",
            "| Time Training             |         2.813215494155884 |\n",
            "| Time Testing              |       0.24437975883483887 |\n"
          ],
          "name": "stdout"
        },
        {
          "output_type": "stream",
          "text": [
            "100%|██████████| 100/100 [00:02<00:00, 35.65it/s]\n",
            "  4%|▍         | 4/100 [00:00<00:02, 33.76it/s]"
          ],
          "name": "stderr"
        },
        {
          "output_type": "stream",
          "text": [
            "=========================================================\n",
            "| Iteration                 |                        68 |\n",
            "| Gradient Steps            |                      6800 |\n",
            "| Average Train Loss        |        2.1882353937625885 |\n",
            "| Start Train Loss          |         2.114030122756958 |\n",
            "| Final Train Loss          |        2.7788643836975098 |\n",
            "| Test Loss                 |        2.4059400796890262 |\n",
            "| Test Accuracy             |       0.19999999999999998 |\n",
            "| Train Accuracy            |                      0.22 |\n",
            "| Time Training             |        2.8158116340637207 |\n",
            "| Time Testing              |       0.24566364288330078 |\n"
          ],
          "name": "stdout"
        },
        {
          "output_type": "stream",
          "text": [
            "100%|██████████| 100/100 [00:02<00:00, 35.24it/s]\n",
            "  4%|▍         | 4/100 [00:00<00:02, 35.59it/s]"
          ],
          "name": "stderr"
        },
        {
          "output_type": "stream",
          "text": [
            "=========================================================\n",
            "| Iteration                 |                        69 |\n",
            "| Gradient Steps            |                      6900 |\n",
            "| Average Train Loss        |         2.008237315416336 |\n",
            "| Start Train Loss          |         1.900207281112671 |\n",
            "| Final Train Loss          |        2.1592791080474854 |\n",
            "| Test Loss                 |         2.509457905292512 |\n",
            "| Test Accuracy             |       0.25999999999999995 |\n",
            "| Train Accuracy            |                      0.26 |\n",
            "| Time Training             |        2.8410542011260986 |\n",
            "| Time Testing              |       0.23951292037963867 |\n"
          ],
          "name": "stdout"
        },
        {
          "output_type": "stream",
          "text": [
            "100%|██████████| 100/100 [00:02<00:00, 35.51it/s]\n",
            "  4%|▍         | 4/100 [00:00<00:02, 36.40it/s]"
          ],
          "name": "stderr"
        },
        {
          "output_type": "stream",
          "text": [
            "=========================================================\n",
            "| Iteration                 |                        70 |\n",
            "| Gradient Steps            |                      7000 |\n",
            "| Average Train Loss        |        2.2000901597738265 |\n",
            "| Start Train Loss          |        1.9913058280944824 |\n",
            "| Final Train Loss          |        2.1394691467285156 |\n",
            "| Test Loss                 |         2.398206329345703 |\n",
            "| Test Accuracy             |                      0.18 |\n",
            "| Train Accuracy            |                     0.225 |\n",
            "| Time Training             |        2.8202435970306396 |\n",
            "| Time Testing              |       0.24513459205627441 |\n"
          ],
          "name": "stdout"
        },
        {
          "output_type": "stream",
          "text": [
            "100%|██████████| 100/100 [00:02<00:00, 35.48it/s]\n",
            "  4%|▍         | 4/100 [00:00<00:02, 35.00it/s]"
          ],
          "name": "stderr"
        },
        {
          "output_type": "stream",
          "text": [
            "=========================================================\n",
            "| Iteration                 |                        71 |\n",
            "| Gradient Steps            |                      7100 |\n",
            "| Average Train Loss        |         2.179785622358322 |\n",
            "| Start Train Loss          |        1.9052221775054932 |\n",
            "| Final Train Loss          |        2.5916290283203125 |\n",
            "| Test Loss                 |         2.373664684295654 |\n",
            "| Test Accuracy             |                      0.26 |\n",
            "| Train Accuracy            |                      0.18 |\n",
            "| Time Training             |         2.825857162475586 |\n",
            "| Time Testing              |        0.2337334156036377 |\n"
          ],
          "name": "stdout"
        },
        {
          "output_type": "stream",
          "text": [
            "100%|██████████| 100/100 [00:02<00:00, 35.18it/s]\n",
            "  4%|▍         | 4/100 [00:00<00:02, 34.79it/s]"
          ],
          "name": "stderr"
        },
        {
          "output_type": "stream",
          "text": [
            "=========================================================\n",
            "| Iteration                 |                        72 |\n",
            "| Gradient Steps            |                      7200 |\n",
            "| Average Train Loss        |        2.1168078446388243 |\n",
            "| Start Train Loss          |         1.402785301208496 |\n",
            "| Final Train Loss          |        2.4826250076293945 |\n",
            "| Test Loss                 |         2.314706926345825 |\n",
            "| Test Accuracy             |       0.23999999999999996 |\n",
            "| Train Accuracy            |                     0.235 |\n",
            "| Time Training             |         2.846168279647827 |\n",
            "| Time Testing              |       0.23997807502746582 |\n"
          ],
          "name": "stdout"
        },
        {
          "output_type": "stream",
          "text": [
            "100%|██████████| 100/100 [00:02<00:00, 35.40it/s]\n",
            "  4%|▍         | 4/100 [00:00<00:02, 33.78it/s]"
          ],
          "name": "stderr"
        },
        {
          "output_type": "stream",
          "text": [
            "=========================================================\n",
            "| Iteration                 |                        73 |\n",
            "| Gradient Steps            |                      7300 |\n",
            "| Average Train Loss        |         2.111396734714508 |\n",
            "| Start Train Loss          |        2.2939674854278564 |\n",
            "| Final Train Loss          |        2.4095680713653564 |\n",
            "| Test Loss                 |        2.8601467561721803 |\n",
            "| Test Accuracy             |                      0.18 |\n",
            "| Train Accuracy            |                      0.23 |\n",
            "| Time Training             |        2.8305344581604004 |\n",
            "| Time Testing              |       0.24770498275756836 |\n"
          ],
          "name": "stdout"
        },
        {
          "output_type": "stream",
          "text": [
            "100%|██████████| 100/100 [00:02<00:00, 35.24it/s]\n",
            "  4%|▍         | 4/100 [00:00<00:02, 33.97it/s]"
          ],
          "name": "stderr"
        },
        {
          "output_type": "stream",
          "text": [
            "=========================================================\n",
            "| Iteration                 |                        74 |\n",
            "| Gradient Steps            |                      7400 |\n",
            "| Average Train Loss        |        2.1299198949337006 |\n",
            "| Start Train Loss          |        1.9966003894805908 |\n",
            "| Final Train Loss          |        2.5335474014282227 |\n",
            "| Test Loss                 |         2.686529272794723 |\n",
            "| Test Accuracy             |       0.25999999999999995 |\n",
            "| Train Accuracy            |                      0.23 |\n",
            "| Time Training             |        2.8397111892700195 |\n",
            "| Time Testing              |       0.24036812782287598 |\n"
          ],
          "name": "stdout"
        },
        {
          "output_type": "stream",
          "text": [
            "100%|██████████| 100/100 [00:02<00:00, 35.66it/s]\n",
            "  4%|▍         | 4/100 [00:00<00:02, 32.69it/s]"
          ],
          "name": "stderr"
        },
        {
          "output_type": "stream",
          "text": [
            "=========================================================\n",
            "| Iteration                 |                        75 |\n",
            "| Gradient Steps            |                      7500 |\n",
            "| Average Train Loss        |         2.172837427854538 |\n",
            "| Start Train Loss          |        2.8923676013946533 |\n",
            "| Final Train Loss          |        1.8022761344909668 |\n",
            "| Test Loss                 |         2.643463065624237 |\n",
            "| Test Accuracy             |                      0.18 |\n",
            "| Train Accuracy            |                     0.215 |\n",
            "| Time Training             |         2.810549736022949 |\n",
            "| Time Testing              |        0.2421705722808838 |\n"
          ],
          "name": "stdout"
        },
        {
          "output_type": "stream",
          "text": [
            "100%|██████████| 100/100 [00:02<00:00, 35.72it/s]\n",
            "  4%|▍         | 4/100 [00:00<00:02, 34.81it/s]"
          ],
          "name": "stderr"
        },
        {
          "output_type": "stream",
          "text": [
            "=========================================================\n",
            "| Iteration                 |                        76 |\n",
            "| Gradient Steps            |                      7600 |\n",
            "| Average Train Loss        |        2.2122940111160276 |\n",
            "| Start Train Loss          |         2.503080129623413 |\n",
            "| Final Train Loss          |        2.1663191318511963 |\n",
            "| Test Loss                 |        2.2065637183189395 |\n",
            "| Test Accuracy             |       0.25999999999999995 |\n",
            "| Train Accuracy            |                     0.205 |\n",
            "| Time Training             |         2.809408187866211 |\n",
            "| Time Testing              |       0.23714113235473633 |\n"
          ],
          "name": "stdout"
        },
        {
          "output_type": "stream",
          "text": [
            "100%|██████████| 100/100 [00:02<00:00, 36.01it/s]\n",
            "  4%|▍         | 4/100 [00:00<00:02, 36.05it/s]"
          ],
          "name": "stderr"
        },
        {
          "output_type": "stream",
          "text": [
            "=========================================================\n",
            "| Iteration                 |                        77 |\n",
            "| Gradient Steps            |                      7700 |\n",
            "| Average Train Loss        |        2.2312893760204315 |\n",
            "| Start Train Loss          |         2.316753387451172 |\n",
            "| Final Train Loss          |        1.8297263383865356 |\n",
            "| Test Loss                 |        2.5126018118858333 |\n",
            "| Test Accuracy             |                      0.14 |\n",
            "| Train Accuracy            |                      0.17 |\n",
            "| Time Training             |        2.7825658321380615 |\n",
            "| Time Testing              |       0.24324345588684082 |\n"
          ],
          "name": "stdout"
        },
        {
          "output_type": "stream",
          "text": [
            "100%|██████████| 100/100 [00:02<00:00, 35.62it/s]\n",
            "  4%|▍         | 4/100 [00:00<00:02, 36.94it/s]"
          ],
          "name": "stderr"
        },
        {
          "output_type": "stream",
          "text": [
            "=========================================================\n",
            "| Iteration                 |                        78 |\n",
            "| Gradient Steps            |                      7800 |\n",
            "| Average Train Loss        |        2.0858201867341997 |\n",
            "| Start Train Loss          |        1.3624743223190308 |\n",
            "| Final Train Loss          |        0.8624216914176941 |\n",
            "| Test Loss                 |         2.542958676815033 |\n",
            "| Test Accuracy             |                       0.3 |\n",
            "| Train Accuracy            |                     0.225 |\n",
            "| Time Training             |         2.816554307937622 |\n",
            "| Time Testing              |       0.23579144477844238 |\n"
          ],
          "name": "stdout"
        },
        {
          "output_type": "stream",
          "text": [
            "100%|██████████| 100/100 [00:02<00:00, 35.80it/s]\n",
            "  4%|▍         | 4/100 [00:00<00:02, 34.44it/s]"
          ],
          "name": "stderr"
        },
        {
          "output_type": "stream",
          "text": [
            "=========================================================\n",
            "| Iteration                 |                        79 |\n",
            "| Gradient Steps            |                      7900 |\n",
            "| Average Train Loss        |        2.2120411157608033 |\n",
            "| Start Train Loss          |        1.7705678939819336 |\n",
            "| Final Train Loss          |        2.1115708351135254 |\n",
            "| Test Loss                 |         2.615715103149414 |\n",
            "| Test Accuracy             |                      0.26 |\n",
            "| Train Accuracy            |                       0.2 |\n",
            "| Time Training             |        2.8032984733581543 |\n",
            "| Time Testing              |       0.23781752586364746 |\n"
          ],
          "name": "stdout"
        },
        {
          "output_type": "stream",
          "text": [
            "100%|██████████| 100/100 [00:02<00:00, 35.61it/s]\n",
            "  4%|▍         | 4/100 [00:00<00:02, 36.17it/s]"
          ],
          "name": "stderr"
        },
        {
          "output_type": "stream",
          "text": [
            "=========================================================\n",
            "| Iteration                 |                        80 |\n",
            "| Gradient Steps            |                      8000 |\n",
            "| Average Train Loss        |        2.1603540563583374 |\n",
            "| Start Train Loss          |        1.6426693201065063 |\n",
            "| Final Train Loss          |        2.6489505767822266 |\n",
            "| Test Loss                 |        2.1006441712379456 |\n",
            "| Test Accuracy             |                      0.32 |\n",
            "| Train Accuracy            |                       0.2 |\n",
            "| Time Training             |         2.812765598297119 |\n",
            "| Time Testing              |       0.24549341201782227 |\n"
          ],
          "name": "stdout"
        },
        {
          "output_type": "stream",
          "text": [
            "100%|██████████| 100/100 [00:02<00:00, 35.34it/s]\n",
            "  4%|▍         | 4/100 [00:00<00:02, 35.86it/s]"
          ],
          "name": "stderr"
        },
        {
          "output_type": "stream",
          "text": [
            "=========================================================\n",
            "| Iteration                 |                        81 |\n",
            "| Gradient Steps            |                      8100 |\n",
            "| Average Train Loss        |        2.1215005934238436 |\n",
            "| Start Train Loss          |        1.6315038204193115 |\n",
            "| Final Train Loss          |        1.7447595596313477 |\n",
            "| Test Loss                 |         2.430278372764587 |\n",
            "| Test Accuracy             |       0.25999999999999995 |\n",
            "| Train Accuracy            |                     0.195 |\n",
            "| Time Training             |        2.8391904830932617 |\n",
            "| Time Testing              |        0.2558436393737793 |\n"
          ],
          "name": "stdout"
        },
        {
          "output_type": "stream",
          "text": [
            "100%|██████████| 100/100 [00:02<00:00, 35.60it/s]\n",
            "  4%|▍         | 4/100 [00:00<00:02, 34.97it/s]"
          ],
          "name": "stderr"
        },
        {
          "output_type": "stream",
          "text": [
            "=========================================================\n",
            "| Iteration                 |                        82 |\n",
            "| Gradient Steps            |                      8200 |\n",
            "| Average Train Loss        |         2.119558072090149 |\n",
            "| Start Train Loss          |        1.7102997303009033 |\n",
            "| Final Train Loss          |        1.8919049501419067 |\n",
            "| Test Loss                 |        2.5403637886047368 |\n",
            "| Test Accuracy             |       0.19999999999999998 |\n",
            "| Train Accuracy            |                      0.23 |\n",
            "| Time Training             |        2.8129684925079346 |\n",
            "| Time Testing              |       0.24795913696289062 |\n"
          ],
          "name": "stdout"
        },
        {
          "output_type": "stream",
          "text": [
            "100%|██████████| 100/100 [00:02<00:00, 35.29it/s]\n",
            "  4%|▍         | 4/100 [00:00<00:02, 36.20it/s]"
          ],
          "name": "stderr"
        },
        {
          "output_type": "stream",
          "text": [
            "=========================================================\n",
            "| Iteration                 |                        83 |\n",
            "| Gradient Steps            |                      8300 |\n",
            "| Average Train Loss        |        2.1080944073200225 |\n",
            "| Start Train Loss          |        1.2295424938201904 |\n",
            "| Final Train Loss          |         2.519840717315674 |\n",
            "| Test Loss                 |        2.5480384635925293 |\n",
            "| Test Accuracy             |                      0.14 |\n",
            "| Train Accuracy            |                     0.245 |\n",
            "| Time Training             |         2.836573362350464 |\n",
            "| Time Testing              |        0.2401268482208252 |\n"
          ],
          "name": "stdout"
        },
        {
          "output_type": "stream",
          "text": [
            "100%|██████████| 100/100 [00:02<00:00, 35.54it/s]\n",
            "  4%|▍         | 4/100 [00:00<00:02, 34.39it/s]"
          ],
          "name": "stderr"
        },
        {
          "output_type": "stream",
          "text": [
            "=========================================================\n",
            "| Iteration                 |                        84 |\n",
            "| Gradient Steps            |                      8400 |\n",
            "| Average Train Loss        |         2.125350435376167 |\n",
            "| Start Train Loss          |        2.0827553272247314 |\n",
            "| Final Train Loss          |        1.1859779357910156 |\n",
            "| Test Loss                 |        2.5690013504028326 |\n",
            "| Test Accuracy             |                      0.22 |\n",
            "| Train Accuracy            |                      0.26 |\n",
            "| Time Training             |         2.819669246673584 |\n",
            "| Time Testing              |       0.23553967475891113 |\n"
          ],
          "name": "stdout"
        },
        {
          "output_type": "stream",
          "text": [
            "100%|██████████| 100/100 [00:02<00:00, 35.90it/s]\n",
            "  4%|▍         | 4/100 [00:00<00:02, 34.04it/s]"
          ],
          "name": "stderr"
        },
        {
          "output_type": "stream",
          "text": [
            "=========================================================\n",
            "| Iteration                 |                        85 |\n",
            "| Gradient Steps            |                      8500 |\n",
            "| Average Train Loss        |        2.1971763277053835 |\n",
            "| Start Train Loss          |        2.3320252895355225 |\n",
            "| Final Train Loss          |        2.2987194061279297 |\n",
            "| Test Loss                 |         2.239783430099487 |\n",
            "| Test Accuracy             |                       0.3 |\n",
            "| Train Accuracy            |                     0.205 |\n",
            "| Time Training             |        2.7945995330810547 |\n",
            "| Time Testing              |        0.2420825958251953 |\n"
          ],
          "name": "stdout"
        },
        {
          "output_type": "stream",
          "text": [
            "100%|██████████| 100/100 [00:02<00:00, 35.58it/s]\n",
            "  4%|▍         | 4/100 [00:00<00:02, 33.13it/s]"
          ],
          "name": "stderr"
        },
        {
          "output_type": "stream",
          "text": [
            "=========================================================\n",
            "| Iteration                 |                        86 |\n",
            "| Gradient Steps            |                      8600 |\n",
            "| Average Train Loss        |         2.124688855409622 |\n",
            "| Start Train Loss          |         1.915977954864502 |\n",
            "| Final Train Loss          |        1.5896661281585693 |\n",
            "| Test Loss                 |        2.4355559253692634 |\n",
            "| Test Accuracy             |                      0.18 |\n",
            "| Train Accuracy            |                     0.195 |\n",
            "| Time Training             |        2.8140976428985596 |\n",
            "| Time Testing              |        0.2424318790435791 |\n"
          ],
          "name": "stdout"
        },
        {
          "output_type": "stream",
          "text": [
            "100%|██████████| 100/100 [00:02<00:00, 35.68it/s]\n",
            "  4%|▍         | 4/100 [00:00<00:02, 34.04it/s]"
          ],
          "name": "stderr"
        },
        {
          "output_type": "stream",
          "text": [
            "=========================================================\n",
            "| Iteration                 |                        87 |\n",
            "| Gradient Steps            |                      8700 |\n",
            "| Average Train Loss        |        2.2084632778167723 |\n",
            "| Start Train Loss          |        2.9968159198760986 |\n",
            "| Final Train Loss          |        1.6710610389709473 |\n",
            "| Test Loss                 |        2.5317699956893924 |\n",
            "| Test Accuracy             |       0.23999999999999996 |\n",
            "| Train Accuracy            |                     0.215 |\n",
            "| Time Training             |         2.810957670211792 |\n",
            "| Time Testing              |       0.23022770881652832 |\n"
          ],
          "name": "stdout"
        },
        {
          "output_type": "stream",
          "text": [
            "100%|██████████| 100/100 [00:02<00:00, 35.68it/s]\n",
            "  4%|▍         | 4/100 [00:00<00:02, 33.06it/s]"
          ],
          "name": "stderr"
        },
        {
          "output_type": "stream",
          "text": [
            "=========================================================\n",
            "| Iteration                 |                        88 |\n",
            "| Gradient Steps            |                      8800 |\n",
            "| Average Train Loss        |         2.095934418439865 |\n",
            "| Start Train Loss          |         1.815148115158081 |\n",
            "| Final Train Loss          |        1.9285533428192139 |\n",
            "| Test Loss                 |         2.125902466773987 |\n",
            "| Test Accuracy             |       0.27999999999999997 |\n",
            "| Train Accuracy            |                     0.255 |\n",
            "| Time Training             |        2.8116512298583984 |\n",
            "| Time Testing              |       0.23826026916503906 |\n"
          ],
          "name": "stdout"
        },
        {
          "output_type": "stream",
          "text": [
            "100%|██████████| 100/100 [00:02<00:00, 35.63it/s]\n",
            "  4%|▍         | 4/100 [00:00<00:02, 33.68it/s]"
          ],
          "name": "stderr"
        },
        {
          "output_type": "stream",
          "text": [
            "=========================================================\n",
            "| Iteration                 |                        89 |\n",
            "| Gradient Steps            |                      8900 |\n",
            "| Average Train Loss        |        2.1596566569805145 |\n",
            "| Start Train Loss          |        1.9988560676574707 |\n",
            "| Final Train Loss          |         3.060967445373535 |\n",
            "| Test Loss                 |         2.323751390576362 |\n",
            "| Test Accuracy             |                      0.24 |\n",
            "| Train Accuracy            |                      0.22 |\n",
            "| Time Training             |        2.8115272521972656 |\n",
            "| Time Testing              |       0.24282431602478027 |\n"
          ],
          "name": "stdout"
        },
        {
          "output_type": "stream",
          "text": [
            "100%|██████████| 100/100 [00:02<00:00, 35.26it/s]\n",
            "  4%|▍         | 4/100 [00:00<00:02, 36.65it/s]"
          ],
          "name": "stderr"
        },
        {
          "output_type": "stream",
          "text": [
            "=========================================================\n",
            "| Iteration                 |                        90 |\n",
            "| Gradient Steps            |                      9000 |\n",
            "| Average Train Loss        |         2.070956683754921 |\n",
            "| Start Train Loss          |        1.8326339721679688 |\n",
            "| Final Train Loss          |        1.6146767139434814 |\n",
            "| Test Loss                 |         2.320193369388581 |\n",
            "| Test Accuracy             |       0.21999999999999997 |\n",
            "| Train Accuracy            |                     0.285 |\n",
            "| Time Training             |         2.842226982116699 |\n",
            "| Time Testing              |       0.24674773216247559 |\n"
          ],
          "name": "stdout"
        },
        {
          "output_type": "stream",
          "text": [
            "100%|██████████| 100/100 [00:02<00:00, 35.61it/s]\n",
            "  4%|▍         | 4/100 [00:00<00:02, 33.58it/s]"
          ],
          "name": "stderr"
        },
        {
          "output_type": "stream",
          "text": [
            "=========================================================\n",
            "| Iteration                 |                        91 |\n",
            "| Gradient Steps            |                      9100 |\n",
            "| Average Train Loss        |        2.0365747466683386 |\n",
            "| Start Train Loss          |        1.5149340629577637 |\n",
            "| Final Train Loss          |         2.293818950653076 |\n",
            "| Test Loss                 |        2.1572756791114807 |\n",
            "| Test Accuracy             |        0.3400000000000001 |\n",
            "| Train Accuracy            |                      0.29 |\n",
            "| Time Training             |        2.8137826919555664 |\n",
            "| Time Testing              |        0.2423093318939209 |\n"
          ],
          "name": "stdout"
        },
        {
          "output_type": "stream",
          "text": [
            "100%|██████████| 100/100 [00:02<00:00, 35.70it/s]\n",
            "  4%|▍         | 4/100 [00:00<00:02, 36.37it/s]"
          ],
          "name": "stderr"
        },
        {
          "output_type": "stream",
          "text": [
            "=========================================================\n",
            "| Iteration                 |                        92 |\n",
            "| Gradient Steps            |                      9200 |\n",
            "| Average Train Loss        |        2.0546149051189424 |\n",
            "| Start Train Loss          |         2.097479820251465 |\n",
            "| Final Train Loss          |        1.5865147113800049 |\n",
            "| Test Loss                 |         2.432087540626526 |\n",
            "| Test Accuracy             |       0.19999999999999998 |\n",
            "| Train Accuracy            |                      0.23 |\n",
            "| Time Training             |        2.8049285411834717 |\n",
            "| Time Testing              |        0.2405872344970703 |\n"
          ],
          "name": "stdout"
        },
        {
          "output_type": "stream",
          "text": [
            "100%|██████████| 100/100 [00:02<00:00, 35.34it/s]\n",
            "  4%|▍         | 4/100 [00:00<00:02, 35.04it/s]"
          ],
          "name": "stderr"
        },
        {
          "output_type": "stream",
          "text": [
            "=========================================================\n",
            "| Iteration                 |                        93 |\n",
            "| Gradient Steps            |                      9300 |\n",
            "| Average Train Loss        |        2.2523505783081053 |\n",
            "| Start Train Loss          |         2.825763702392578 |\n",
            "| Final Train Loss          |         2.073662281036377 |\n",
            "| Test Loss                 |         2.142465536594391 |\n",
            "| Test Accuracy             |       0.19999999999999996 |\n",
            "| Train Accuracy            |                       0.2 |\n",
            "| Time Training             |         2.832864999771118 |\n",
            "| Time Testing              |        0.2467813491821289 |\n"
          ],
          "name": "stdout"
        },
        {
          "output_type": "stream",
          "text": [
            "100%|██████████| 100/100 [00:02<00:00, 35.39it/s]\n",
            "  4%|▍         | 4/100 [00:00<00:02, 35.47it/s]"
          ],
          "name": "stderr"
        },
        {
          "output_type": "stream",
          "text": [
            "=========================================================\n",
            "| Iteration                 |                        94 |\n",
            "| Gradient Steps            |                      9400 |\n",
            "| Average Train Loss        |        2.1271733796596526 |\n",
            "| Start Train Loss          |        2.2758188247680664 |\n",
            "| Final Train Loss          |        2.0566391944885254 |\n",
            "| Test Loss                 |        2.1218831849098208 |\n",
            "| Test Accuracy             |                       0.3 |\n",
            "| Train Accuracy            |                      0.27 |\n",
            "| Time Training             |        2.8321890830993652 |\n",
            "| Time Testing              |       0.24795770645141602 |\n"
          ],
          "name": "stdout"
        },
        {
          "output_type": "stream",
          "text": [
            "100%|██████████| 100/100 [00:02<00:00, 35.25it/s]\n",
            "  4%|▍         | 4/100 [00:00<00:02, 34.43it/s]"
          ],
          "name": "stderr"
        },
        {
          "output_type": "stream",
          "text": [
            "=========================================================\n",
            "| Iteration                 |                        95 |\n",
            "| Gradient Steps            |                      9500 |\n",
            "| Average Train Loss        |         2.139357957839966 |\n",
            "| Start Train Loss          |        1.8123257160186768 |\n",
            "| Final Train Loss          |         2.191851854324341 |\n",
            "| Test Loss                 |        2.3340144157409672 |\n",
            "| Test Accuracy             |       0.19999999999999998 |\n",
            "| Train Accuracy            |                     0.215 |\n",
            "| Time Training             |        2.8449180126190186 |\n",
            "| Time Testing              |        0.2426469326019287 |\n"
          ],
          "name": "stdout"
        },
        {
          "output_type": "stream",
          "text": [
            "100%|██████████| 100/100 [00:02<00:00, 35.29it/s]\n",
            "  4%|▍         | 4/100 [00:00<00:02, 34.67it/s]"
          ],
          "name": "stderr"
        },
        {
          "output_type": "stream",
          "text": [
            "=========================================================\n",
            "| Iteration                 |                        96 |\n",
            "| Gradient Steps            |                      9600 |\n",
            "| Average Train Loss        |        2.0702919483184816 |\n",
            "| Start Train Loss          |        1.6838301420211792 |\n",
            "| Final Train Loss          |         1.956982135772705 |\n",
            "| Test Loss                 |        2.3516430783271782 |\n",
            "| Test Accuracy             |                       0.2 |\n",
            "| Train Accuracy            |                       0.2 |\n",
            "| Time Training             |        2.8475992679595947 |\n",
            "| Time Testing              |        0.2433311939239502 |\n"
          ],
          "name": "stdout"
        },
        {
          "output_type": "stream",
          "text": [
            "100%|██████████| 100/100 [00:02<00:00, 35.53it/s]\n",
            "  4%|▍         | 4/100 [00:00<00:02, 37.28it/s]"
          ],
          "name": "stderr"
        },
        {
          "output_type": "stream",
          "text": [
            "=========================================================\n",
            "| Iteration                 |                        97 |\n",
            "| Gradient Steps            |                      9700 |\n",
            "| Average Train Loss        |         2.185906674861908 |\n",
            "| Start Train Loss          |        1.2355823516845703 |\n",
            "| Final Train Loss          |        2.4035003185272217 |\n",
            "| Test Loss                 |        2.3427897572517393 |\n",
            "| Test Accuracy             |                      0.18 |\n",
            "| Train Accuracy            |                      0.21 |\n",
            "| Time Training             |        2.8203234672546387 |\n",
            "| Time Testing              |       0.23686838150024414 |\n"
          ],
          "name": "stdout"
        },
        {
          "output_type": "stream",
          "text": [
            "100%|██████████| 100/100 [00:02<00:00, 34.81it/s]\n",
            "  4%|▍         | 4/100 [00:00<00:02, 36.17it/s]"
          ],
          "name": "stderr"
        },
        {
          "output_type": "stream",
          "text": [
            "=========================================================\n",
            "| Iteration                 |                        98 |\n",
            "| Gradient Steps            |                      9800 |\n",
            "| Average Train Loss        |         2.127063576579094 |\n",
            "| Start Train Loss          |         2.602604389190674 |\n",
            "| Final Train Loss          |        2.0949909687042236 |\n",
            "| Test Loss                 |          2.50555433511734 |\n",
            "| Test Accuracy             |                       0.2 |\n",
            "| Train Accuracy            |                      0.21 |\n",
            "| Time Training             |        2.8813512325286865 |\n",
            "| Time Testing              |       0.24173808097839355 |\n"
          ],
          "name": "stdout"
        },
        {
          "output_type": "stream",
          "text": [
            "100%|██████████| 100/100 [00:02<00:00, 35.32it/s]\n",
            "  4%|▍         | 4/100 [00:00<00:02, 35.89it/s]"
          ],
          "name": "stderr"
        },
        {
          "output_type": "stream",
          "text": [
            "=========================================================\n",
            "| Iteration                 |                        99 |\n",
            "| Gradient Steps            |                      9900 |\n",
            "| Average Train Loss        |         2.152519099116325 |\n",
            "| Start Train Loss          |        2.0629689693450928 |\n",
            "| Final Train Loss          |        1.8181618452072144 |\n",
            "| Test Loss                 |        2.3947090196609495 |\n",
            "| Test Accuracy             |       0.25999999999999995 |\n",
            "| Train Accuracy            |                       0.2 |\n",
            "| Time Training             |         2.837556838989258 |\n",
            "| Time Testing              |       0.25353121757507324 |\n"
          ],
          "name": "stdout"
        },
        {
          "output_type": "stream",
          "text": [
            "100%|██████████| 100/100 [00:02<00:00, 33.66it/s]\n",
            "  4%|▍         | 4/100 [00:00<00:02, 36.52it/s]"
          ],
          "name": "stderr"
        },
        {
          "output_type": "stream",
          "text": [
            "=========================================================\n",
            "| Iteration                 |                       100 |\n",
            "| Gradient Steps            |                     10000 |\n",
            "| Average Train Loss        |        2.0663076788187027 |\n",
            "| Start Train Loss          |        1.6601836681365967 |\n",
            "| Final Train Loss          |        2.7378578186035156 |\n",
            "| Test Loss                 |        2.4828372788429256 |\n",
            "| Test Accuracy             |                      0.26 |\n",
            "| Train Accuracy            |                     0.265 |\n",
            "| Time Training             |        2.9743664264678955 |\n",
            "| Time Testing              |       0.23135805130004883 |\n"
          ],
          "name": "stdout"
        },
        {
          "output_type": "stream",
          "text": [
            "100%|██████████| 100/100 [00:02<00:00, 35.18it/s]\n",
            "  4%|▍         | 4/100 [00:00<00:02, 36.08it/s]"
          ],
          "name": "stderr"
        },
        {
          "output_type": "stream",
          "text": [
            "=========================================================\n",
            "| Iteration                 |                       101 |\n",
            "| Gradient Steps            |                     10100 |\n",
            "| Average Train Loss        |         2.134927181005478 |\n",
            "| Start Train Loss          |        1.8487646579742432 |\n",
            "| Final Train Loss          |        2.4069275856018066 |\n",
            "| Test Loss                 |        2.7210183548927307 |\n",
            "| Test Accuracy             |       0.19999999999999998 |\n",
            "| Train Accuracy            |                     0.225 |\n",
            "| Time Training             |          2.84822678565979 |\n",
            "| Time Testing              |       0.24851536750793457 |\n"
          ],
          "name": "stdout"
        },
        {
          "output_type": "stream",
          "text": [
            "100%|██████████| 100/100 [00:02<00:00, 34.96it/s]\n",
            "  4%|▍         | 4/100 [00:00<00:02, 35.20it/s]"
          ],
          "name": "stderr"
        },
        {
          "output_type": "stream",
          "text": [
            "=========================================================\n",
            "| Iteration                 |                       102 |\n",
            "| Gradient Steps            |                     10200 |\n",
            "| Average Train Loss        |         2.102856104373932 |\n",
            "| Start Train Loss          |         2.267443895339966 |\n",
            "| Final Train Loss          |         2.638615608215332 |\n",
            "| Test Loss                 |        2.2693365335464475 |\n",
            "| Test Accuracy             |       0.30000000000000004 |\n",
            "| Train Accuracy            |                     0.225 |\n",
            "| Time Training             |         2.866159439086914 |\n",
            "| Time Testing              |       0.23967695236206055 |\n"
          ],
          "name": "stdout"
        },
        {
          "output_type": "stream",
          "text": [
            "100%|██████████| 100/100 [00:02<00:00, 35.05it/s]\n",
            "  4%|▍         | 4/100 [00:00<00:02, 35.53it/s]"
          ],
          "name": "stderr"
        },
        {
          "output_type": "stream",
          "text": [
            "=========================================================\n",
            "| Iteration                 |                       103 |\n",
            "| Gradient Steps            |                     10300 |\n",
            "| Average Train Loss        |        2.1067797183990478 |\n",
            "| Start Train Loss          |        2.2559757232666016 |\n",
            "| Final Train Loss          |         1.878947377204895 |\n",
            "| Test Loss                 |        2.1752682590484613 |\n",
            "| Test Accuracy             |       0.27999999999999997 |\n",
            "| Train Accuracy            |                      0.23 |\n",
            "| Time Training             |        2.8560876846313477 |\n",
            "| Time Testing              |       0.23903322219848633 |\n"
          ],
          "name": "stdout"
        },
        {
          "output_type": "stream",
          "text": [
            "100%|██████████| 100/100 [00:02<00:00, 35.63it/s]\n",
            "  4%|▍         | 4/100 [00:00<00:02, 35.30it/s]"
          ],
          "name": "stderr"
        },
        {
          "output_type": "stream",
          "text": [
            "=========================================================\n",
            "| Iteration                 |                       104 |\n",
            "| Gradient Steps            |                     10400 |\n",
            "| Average Train Loss        |        2.1619964873790742 |\n",
            "| Start Train Loss          |        2.2973742485046387 |\n",
            "| Final Train Loss          |        2.6310877799987793 |\n",
            "| Test Loss                 |          2.41020779132843 |\n",
            "| Test Accuracy             |       0.23999999999999996 |\n",
            "| Train Accuracy            |                     0.235 |\n",
            "| Time Training             |        2.8151092529296875 |\n",
            "| Time Testing              |       0.24792027473449707 |\n"
          ],
          "name": "stdout"
        },
        {
          "output_type": "stream",
          "text": [
            "100%|██████████| 100/100 [00:02<00:00, 36.06it/s]\n",
            "  4%|▍         | 4/100 [00:00<00:02, 36.31it/s]"
          ],
          "name": "stderr"
        },
        {
          "output_type": "stream",
          "text": [
            "=========================================================\n",
            "| Iteration                 |                       105 |\n",
            "| Gradient Steps            |                     10500 |\n",
            "| Average Train Loss        |        2.0657375264167785 |\n",
            "| Start Train Loss          |        1.7524871826171875 |\n",
            "| Final Train Loss          |        1.9018101692199707 |\n",
            "| Test Loss                 |         2.690364789962769 |\n",
            "| Test Accuracy             |       0.19999999999999998 |\n",
            "| Train Accuracy            |                      0.23 |\n",
            "| Time Training             |        2.7791848182678223 |\n",
            "| Time Testing              |       0.24426817893981934 |\n"
          ],
          "name": "stdout"
        },
        {
          "output_type": "stream",
          "text": [
            "100%|██████████| 100/100 [00:02<00:00, 35.39it/s]\n",
            "  4%|▍         | 4/100 [00:00<00:02, 36.66it/s]"
          ],
          "name": "stderr"
        },
        {
          "output_type": "stream",
          "text": [
            "=========================================================\n",
            "| Iteration                 |                       106 |\n",
            "| Gradient Steps            |                     10600 |\n",
            "| Average Train Loss        |         2.189466616511345 |\n",
            "| Start Train Loss          |        1.8379994630813599 |\n",
            "| Final Train Loss          |        3.4918158054351807 |\n",
            "| Test Loss                 |          2.22297969698906 |\n",
            "| Test Accuracy             |                       0.3 |\n",
            "| Train Accuracy            |                     0.195 |\n",
            "| Time Training             |        2.8303115367889404 |\n",
            "| Time Testing              |       0.25512146949768066 |\n"
          ],
          "name": "stdout"
        },
        {
          "output_type": "stream",
          "text": [
            "100%|██████████| 100/100 [00:02<00:00, 35.96it/s]\n",
            "  4%|▍         | 4/100 [00:00<00:02, 35.23it/s]"
          ],
          "name": "stderr"
        },
        {
          "output_type": "stream",
          "text": [
            "=========================================================\n",
            "| Iteration                 |                       107 |\n",
            "| Gradient Steps            |                     10700 |\n",
            "| Average Train Loss        |        2.1178605973720552 |\n",
            "| Start Train Loss          |        1.4703404903411865 |\n",
            "| Final Train Loss          |         2.376796007156372 |\n",
            "| Test Loss                 |         2.855514998435974 |\n",
            "| Test Accuracy             |       0.21999999999999997 |\n",
            "| Train Accuracy            |                      0.26 |\n",
            "| Time Training             |        2.7913904190063477 |\n",
            "| Time Testing              |         0.242218017578125 |\n"
          ],
          "name": "stdout"
        },
        {
          "output_type": "stream",
          "text": [
            "100%|██████████| 100/100 [00:02<00:00, 35.86it/s]\n",
            "  4%|▍         | 4/100 [00:00<00:02, 36.14it/s]"
          ],
          "name": "stderr"
        },
        {
          "output_type": "stream",
          "text": [
            "=========================================================\n",
            "| Iteration                 |                       108 |\n",
            "| Gradient Steps            |                     10800 |\n",
            "| Average Train Loss        |         2.170573031306267 |\n",
            "| Start Train Loss          |         3.153123378753662 |\n",
            "| Final Train Loss          |         1.413857340812683 |\n",
            "| Test Loss                 |        2.3199185585975646 |\n",
            "| Test Accuracy             |                      0.22 |\n",
            "| Train Accuracy            |                     0.255 |\n",
            "| Time Training             |         2.791383743286133 |\n",
            "| Time Testing              |         0.245711088180542 |\n"
          ],
          "name": "stdout"
        },
        {
          "output_type": "stream",
          "text": [
            "100%|██████████| 100/100 [00:02<00:00, 36.12it/s]\n",
            "  4%|▍         | 4/100 [00:00<00:02, 36.19it/s]"
          ],
          "name": "stderr"
        },
        {
          "output_type": "stream",
          "text": [
            "=========================================================\n",
            "| Iteration                 |                       109 |\n",
            "| Gradient Steps            |                     10900 |\n",
            "| Average Train Loss        |         2.124574544429779 |\n",
            "| Start Train Loss          |        1.7332072257995605 |\n",
            "| Final Train Loss          |        1.5217409133911133 |\n",
            "| Test Loss                 |         2.214373526573181 |\n",
            "| Test Accuracy             |       0.27999999999999997 |\n",
            "| Train Accuracy            |                     0.225 |\n",
            "| Time Training             |         2.772923707962036 |\n",
            "| Time Testing              |       0.24040460586547852 |\n"
          ],
          "name": "stdout"
        },
        {
          "output_type": "stream",
          "text": [
            "100%|██████████| 100/100 [00:02<00:00, 35.68it/s]\n"
          ],
          "name": "stderr"
        },
        {
          "output_type": "stream",
          "text": [
            "=========================================================\n",
            "| Iteration                 |                       110 |\n",
            "| Gradient Steps            |                     11000 |\n",
            "| Average Train Loss        |        2.1546115827560426 |\n",
            "| Start Train Loss          |         2.210190773010254 |\n",
            "| Final Train Loss          |        0.8391932249069214 |\n",
            "| Test Loss                 |        2.5116723954677584 |\n",
            "| Test Accuracy             |                      0.26 |\n",
            "| Train Accuracy            |                      0.23 |\n",
            "| Time Training             |        2.8117868900299072 |\n",
            "| Time Testing              |       0.23453354835510254 |\n"
          ],
          "name": "stdout"
        }
      ]
    }
  ]
}