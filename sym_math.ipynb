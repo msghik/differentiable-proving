{
  "nbformat": 4,
  "nbformat_minor": 0,
  "metadata": {
    "colab": {
      "name": "Copy of Test.ipynb",
      "provenance": [],
      "collapsed_sections": []
    },
    "kernelspec": {
      "name": "python3",
      "display_name": "Python 3"
    },
    "language_info": {
      "name": "python"
    },
    "widgets": {
      "application/vnd.jupyter.widget-state+json": {
        "e67d8b45aaa541f3a54df0d49eeec19d": {
          "model_module": "@jupyter-widgets/controls",
          "model_name": "HBoxModel",
          "state": {
            "_view_name": "HBoxView",
            "_dom_classes": [],
            "_model_name": "HBoxModel",
            "_view_module": "@jupyter-widgets/controls",
            "_model_module_version": "1.5.0",
            "_view_count": null,
            "_view_module_version": "1.5.0",
            "box_style": "",
            "layout": "IPY_MODEL_bb4c8d0bb49c41e89af23d71ce9407ec",
            "_model_module": "@jupyter-widgets/controls",
            "children": [
              "IPY_MODEL_1efb20caf328402196d7dfc83131b9a9",
              "IPY_MODEL_a597222ba60249239ce6f237ba4b1e37"
            ]
          }
        },
        "bb4c8d0bb49c41e89af23d71ce9407ec": {
          "model_module": "@jupyter-widgets/base",
          "model_name": "LayoutModel",
          "state": {
            "_view_name": "LayoutView",
            "grid_template_rows": null,
            "right": null,
            "justify_content": null,
            "_view_module": "@jupyter-widgets/base",
            "overflow": null,
            "_model_module_version": "1.2.0",
            "_view_count": null,
            "flex_flow": null,
            "width": null,
            "min_width": null,
            "border": null,
            "align_items": null,
            "bottom": null,
            "_model_module": "@jupyter-widgets/base",
            "top": null,
            "grid_column": null,
            "overflow_y": null,
            "overflow_x": null,
            "grid_auto_flow": null,
            "grid_area": null,
            "grid_template_columns": null,
            "flex": null,
            "_model_name": "LayoutModel",
            "justify_items": null,
            "grid_row": null,
            "max_height": null,
            "align_content": null,
            "visibility": null,
            "align_self": null,
            "height": null,
            "min_height": null,
            "padding": null,
            "grid_auto_rows": null,
            "grid_gap": null,
            "max_width": null,
            "order": null,
            "_view_module_version": "1.2.0",
            "grid_template_areas": null,
            "object_position": null,
            "object_fit": null,
            "grid_auto_columns": null,
            "margin": null,
            "display": null,
            "left": null
          }
        },
        "1efb20caf328402196d7dfc83131b9a9": {
          "model_module": "@jupyter-widgets/controls",
          "model_name": "FloatProgressModel",
          "state": {
            "_view_name": "ProgressView",
            "style": "IPY_MODEL_cf57c51e9a7b422d889d7fbaa4a80df1",
            "_dom_classes": [],
            "description": "Downloading: 100%",
            "_model_name": "FloatProgressModel",
            "bar_style": "success",
            "max": 665,
            "_view_module": "@jupyter-widgets/controls",
            "_model_module_version": "1.5.0",
            "value": 665,
            "_view_count": null,
            "_view_module_version": "1.5.0",
            "orientation": "horizontal",
            "min": 0,
            "description_tooltip": null,
            "_model_module": "@jupyter-widgets/controls",
            "layout": "IPY_MODEL_458f25e8760f42108cef4c4a58fbb1a7"
          }
        },
        "a597222ba60249239ce6f237ba4b1e37": {
          "model_module": "@jupyter-widgets/controls",
          "model_name": "HTMLModel",
          "state": {
            "_view_name": "HTMLView",
            "style": "IPY_MODEL_8b1a8b145c864daba7ab80c5df9e647b",
            "_dom_classes": [],
            "description": "",
            "_model_name": "HTMLModel",
            "placeholder": "​",
            "_view_module": "@jupyter-widgets/controls",
            "_model_module_version": "1.5.0",
            "value": " 665/665 [01:09&lt;00:00, 9.50B/s]",
            "_view_count": null,
            "_view_module_version": "1.5.0",
            "description_tooltip": null,
            "_model_module": "@jupyter-widgets/controls",
            "layout": "IPY_MODEL_581ea7bcde684a5480204208726f83a4"
          }
        },
        "cf57c51e9a7b422d889d7fbaa4a80df1": {
          "model_module": "@jupyter-widgets/controls",
          "model_name": "ProgressStyleModel",
          "state": {
            "_view_name": "StyleView",
            "_model_name": "ProgressStyleModel",
            "description_width": "initial",
            "_view_module": "@jupyter-widgets/base",
            "_model_module_version": "1.5.0",
            "_view_count": null,
            "_view_module_version": "1.2.0",
            "bar_color": null,
            "_model_module": "@jupyter-widgets/controls"
          }
        },
        "458f25e8760f42108cef4c4a58fbb1a7": {
          "model_module": "@jupyter-widgets/base",
          "model_name": "LayoutModel",
          "state": {
            "_view_name": "LayoutView",
            "grid_template_rows": null,
            "right": null,
            "justify_content": null,
            "_view_module": "@jupyter-widgets/base",
            "overflow": null,
            "_model_module_version": "1.2.0",
            "_view_count": null,
            "flex_flow": null,
            "width": null,
            "min_width": null,
            "border": null,
            "align_items": null,
            "bottom": null,
            "_model_module": "@jupyter-widgets/base",
            "top": null,
            "grid_column": null,
            "overflow_y": null,
            "overflow_x": null,
            "grid_auto_flow": null,
            "grid_area": null,
            "grid_template_columns": null,
            "flex": null,
            "_model_name": "LayoutModel",
            "justify_items": null,
            "grid_row": null,
            "max_height": null,
            "align_content": null,
            "visibility": null,
            "align_self": null,
            "height": null,
            "min_height": null,
            "padding": null,
            "grid_auto_rows": null,
            "grid_gap": null,
            "max_width": null,
            "order": null,
            "_view_module_version": "1.2.0",
            "grid_template_areas": null,
            "object_position": null,
            "object_fit": null,
            "grid_auto_columns": null,
            "margin": null,
            "display": null,
            "left": null
          }
        },
        "8b1a8b145c864daba7ab80c5df9e647b": {
          "model_module": "@jupyter-widgets/controls",
          "model_name": "DescriptionStyleModel",
          "state": {
            "_view_name": "StyleView",
            "_model_name": "DescriptionStyleModel",
            "description_width": "",
            "_view_module": "@jupyter-widgets/base",
            "_model_module_version": "1.5.0",
            "_view_count": null,
            "_view_module_version": "1.2.0",
            "_model_module": "@jupyter-widgets/controls"
          }
        },
        "581ea7bcde684a5480204208726f83a4": {
          "model_module": "@jupyter-widgets/base",
          "model_name": "LayoutModel",
          "state": {
            "_view_name": "LayoutView",
            "grid_template_rows": null,
            "right": null,
            "justify_content": null,
            "_view_module": "@jupyter-widgets/base",
            "overflow": null,
            "_model_module_version": "1.2.0",
            "_view_count": null,
            "flex_flow": null,
            "width": null,
            "min_width": null,
            "border": null,
            "align_items": null,
            "bottom": null,
            "_model_module": "@jupyter-widgets/base",
            "top": null,
            "grid_column": null,
            "overflow_y": null,
            "overflow_x": null,
            "grid_auto_flow": null,
            "grid_area": null,
            "grid_template_columns": null,
            "flex": null,
            "_model_name": "LayoutModel",
            "justify_items": null,
            "grid_row": null,
            "max_height": null,
            "align_content": null,
            "visibility": null,
            "align_self": null,
            "height": null,
            "min_height": null,
            "padding": null,
            "grid_auto_rows": null,
            "grid_gap": null,
            "max_width": null,
            "order": null,
            "_view_module_version": "1.2.0",
            "grid_template_areas": null,
            "object_position": null,
            "object_fit": null,
            "grid_auto_columns": null,
            "margin": null,
            "display": null,
            "left": null
          }
        },
        "8f4e81a1ef9f470d9c686a77e7905cc6": {
          "model_module": "@jupyter-widgets/controls",
          "model_name": "HBoxModel",
          "state": {
            "_view_name": "HBoxView",
            "_dom_classes": [],
            "_model_name": "HBoxModel",
            "_view_module": "@jupyter-widgets/controls",
            "_model_module_version": "1.5.0",
            "_view_count": null,
            "_view_module_version": "1.5.0",
            "box_style": "",
            "layout": "IPY_MODEL_b738aec6c76e4159af225195b5d59471",
            "_model_module": "@jupyter-widgets/controls",
            "children": [
              "IPY_MODEL_9378921c436b4456b09e097b9d2e9b0f",
              "IPY_MODEL_d3ce6afef1d340ad8fb7672c352ddc36"
            ]
          }
        },
        "b738aec6c76e4159af225195b5d59471": {
          "model_module": "@jupyter-widgets/base",
          "model_name": "LayoutModel",
          "state": {
            "_view_name": "LayoutView",
            "grid_template_rows": null,
            "right": null,
            "justify_content": null,
            "_view_module": "@jupyter-widgets/base",
            "overflow": null,
            "_model_module_version": "1.2.0",
            "_view_count": null,
            "flex_flow": null,
            "width": null,
            "min_width": null,
            "border": null,
            "align_items": null,
            "bottom": null,
            "_model_module": "@jupyter-widgets/base",
            "top": null,
            "grid_column": null,
            "overflow_y": null,
            "overflow_x": null,
            "grid_auto_flow": null,
            "grid_area": null,
            "grid_template_columns": null,
            "flex": null,
            "_model_name": "LayoutModel",
            "justify_items": null,
            "grid_row": null,
            "max_height": null,
            "align_content": null,
            "visibility": null,
            "align_self": null,
            "height": null,
            "min_height": null,
            "padding": null,
            "grid_auto_rows": null,
            "grid_gap": null,
            "max_width": null,
            "order": null,
            "_view_module_version": "1.2.0",
            "grid_template_areas": null,
            "object_position": null,
            "object_fit": null,
            "grid_auto_columns": null,
            "margin": null,
            "display": null,
            "left": null
          }
        },
        "9378921c436b4456b09e097b9d2e9b0f": {
          "model_module": "@jupyter-widgets/controls",
          "model_name": "FloatProgressModel",
          "state": {
            "_view_name": "ProgressView",
            "style": "IPY_MODEL_8bc19188b9354cbf944fbaa5730d0d82",
            "_dom_classes": [],
            "description": "Downloading: 100%",
            "_model_name": "FloatProgressModel",
            "bar_style": "success",
            "max": 548118077,
            "_view_module": "@jupyter-widgets/controls",
            "_model_module_version": "1.5.0",
            "value": 548118077,
            "_view_count": null,
            "_view_module_version": "1.5.0",
            "orientation": "horizontal",
            "min": 0,
            "description_tooltip": null,
            "_model_module": "@jupyter-widgets/controls",
            "layout": "IPY_MODEL_c9cce77f35734e808d0e9ac917222c77"
          }
        },
        "d3ce6afef1d340ad8fb7672c352ddc36": {
          "model_module": "@jupyter-widgets/controls",
          "model_name": "HTMLModel",
          "state": {
            "_view_name": "HTMLView",
            "style": "IPY_MODEL_ea07296b567d403fb78def0c284ad556",
            "_dom_classes": [],
            "description": "",
            "_model_name": "HTMLModel",
            "placeholder": "​",
            "_view_module": "@jupyter-widgets/controls",
            "_model_module_version": "1.5.0",
            "value": " 548M/548M [01:09&lt;00:00, 7.88MB/s]",
            "_view_count": null,
            "_view_module_version": "1.5.0",
            "description_tooltip": null,
            "_model_module": "@jupyter-widgets/controls",
            "layout": "IPY_MODEL_0cfd71216d7c462484fe0779cd9ccae1"
          }
        },
        "8bc19188b9354cbf944fbaa5730d0d82": {
          "model_module": "@jupyter-widgets/controls",
          "model_name": "ProgressStyleModel",
          "state": {
            "_view_name": "StyleView",
            "_model_name": "ProgressStyleModel",
            "description_width": "initial",
            "_view_module": "@jupyter-widgets/base",
            "_model_module_version": "1.5.0",
            "_view_count": null,
            "_view_module_version": "1.2.0",
            "bar_color": null,
            "_model_module": "@jupyter-widgets/controls"
          }
        },
        "c9cce77f35734e808d0e9ac917222c77": {
          "model_module": "@jupyter-widgets/base",
          "model_name": "LayoutModel",
          "state": {
            "_view_name": "LayoutView",
            "grid_template_rows": null,
            "right": null,
            "justify_content": null,
            "_view_module": "@jupyter-widgets/base",
            "overflow": null,
            "_model_module_version": "1.2.0",
            "_view_count": null,
            "flex_flow": null,
            "width": null,
            "min_width": null,
            "border": null,
            "align_items": null,
            "bottom": null,
            "_model_module": "@jupyter-widgets/base",
            "top": null,
            "grid_column": null,
            "overflow_y": null,
            "overflow_x": null,
            "grid_auto_flow": null,
            "grid_area": null,
            "grid_template_columns": null,
            "flex": null,
            "_model_name": "LayoutModel",
            "justify_items": null,
            "grid_row": null,
            "max_height": null,
            "align_content": null,
            "visibility": null,
            "align_self": null,
            "height": null,
            "min_height": null,
            "padding": null,
            "grid_auto_rows": null,
            "grid_gap": null,
            "max_width": null,
            "order": null,
            "_view_module_version": "1.2.0",
            "grid_template_areas": null,
            "object_position": null,
            "object_fit": null,
            "grid_auto_columns": null,
            "margin": null,
            "display": null,
            "left": null
          }
        },
        "ea07296b567d403fb78def0c284ad556": {
          "model_module": "@jupyter-widgets/controls",
          "model_name": "DescriptionStyleModel",
          "state": {
            "_view_name": "StyleView",
            "_model_name": "DescriptionStyleModel",
            "description_width": "",
            "_view_module": "@jupyter-widgets/base",
            "_model_module_version": "1.5.0",
            "_view_count": null,
            "_view_module_version": "1.2.0",
            "_model_module": "@jupyter-widgets/controls"
          }
        },
        "0cfd71216d7c462484fe0779cd9ccae1": {
          "model_module": "@jupyter-widgets/base",
          "model_name": "LayoutModel",
          "state": {
            "_view_name": "LayoutView",
            "grid_template_rows": null,
            "right": null,
            "justify_content": null,
            "_view_module": "@jupyter-widgets/base",
            "overflow": null,
            "_model_module_version": "1.2.0",
            "_view_count": null,
            "flex_flow": null,
            "width": null,
            "min_width": null,
            "border": null,
            "align_items": null,
            "bottom": null,
            "_model_module": "@jupyter-widgets/base",
            "top": null,
            "grid_column": null,
            "overflow_y": null,
            "overflow_x": null,
            "grid_auto_flow": null,
            "grid_area": null,
            "grid_template_columns": null,
            "flex": null,
            "_model_name": "LayoutModel",
            "justify_items": null,
            "grid_row": null,
            "max_height": null,
            "align_content": null,
            "visibility": null,
            "align_self": null,
            "height": null,
            "min_height": null,
            "padding": null,
            "grid_auto_rows": null,
            "grid_gap": null,
            "max_width": null,
            "order": null,
            "_view_module_version": "1.2.0",
            "grid_template_areas": null,
            "object_position": null,
            "object_fit": null,
            "grid_auto_columns": null,
            "margin": null,
            "display": null,
            "left": null
          }
        }
      }
    },
    "accelerator": "GPU"
  },
  "cells": [
    {
      "cell_type": "code",
      "metadata": {
        "id": "ej9DcbIzExkt"
      },
      "source": [
        "!pip install transformers"
      ],
      "execution_count": null,
      "outputs": []
    },
    {
      "cell_type": "code",
      "metadata": {
        "colab": {
          "base_uri": "https://localhost:8080/"
        },
        "id": "qFecxNS10h9F",
        "outputId": "ff6ad4c7-75b1-49f7-c9cc-b26bb0f9c569"
      },
      "source": [
        "from google.colab import drive\n",
        "drive.mount('/content/drive')"
      ],
      "execution_count": 10,
      "outputs": [
        {
          "output_type": "stream",
          "text": [
            "Drive already mounted at /content/drive; to attempt to forcibly remount, call drive.mount(\"/content/drive\", force_remount=True).\n"
          ],
          "name": "stdout"
        }
      ]
    },
    {
      "cell_type": "code",
      "metadata": {
        "colab": {
          "base_uri": "https://localhost:8080/"
        },
        "id": "-uu92TqU03DT",
        "outputId": "f4f514d6-a73e-4c5e-dbf7-4dde01a0d65c"
      },
      "source": [
        "%cd 'drive/My Drive/SymbolicMath/'"
      ],
      "execution_count": 11,
      "outputs": [
        {
          "output_type": "stream",
          "text": [
            "[Errno 2] No such file or directory: 'drive/My Drive/SymbolicMath/'\n",
            "/content/drive/My Drive/SymbolicMath\n"
          ],
          "name": "stdout"
        }
      ]
    },
    {
      "cell_type": "code",
      "metadata": {
        "id": "_vBfzwKk05aj"
      },
      "source": [
        "import os\n",
        "import io\n",
        "import numpy as np\n",
        "import sympy as sp\n",
        "import torch\n",
        "\n",
        "from src.utils import AttrDict\n",
        "from src.envs import build_env\n",
        "from src.model import build_modules\n",
        "\n",
        "from src.utils import to_cuda\n",
        "from src.envs.sympy_utils import simplify\n",
        "\n",
        "from torch.utils.data import DataLoader\n",
        "from functools import partial\n",
        "\n",
        "from transformers.models.gpt2.modeling_gpt2 import GPT2Model\n",
        "\n",
        "import matplotlib.pyplot as plt\n",
        "import torch.nn as nn\n",
        "import torch.nn.functional as F"
      ],
      "execution_count": 12,
      "outputs": []
    },
    {
      "cell_type": "code",
      "metadata": {
        "id": "lBGjEb0MZLoR"
      },
      "source": [
        "if torch.cuda.is_available():\n",
        "    device = 'cuda'\n",
        "else:\n",
        "    device = 'cpu'"
      ],
      "execution_count": 13,
      "outputs": []
    },
    {
      "cell_type": "code",
      "metadata": {
        "id": "AcO_qC0Y09PM"
      },
      "source": [
        "params = params = AttrDict({\n",
        "\n",
        "    # environment parameters\n",
        "    'env_name': 'char_sp',\n",
        "    'int_base': 10,\n",
        "    'balanced': False,\n",
        "    'positive': True,\n",
        "    'precision': 10,\n",
        "    'n_variables': 1,\n",
        "    'n_coefficients': 0,\n",
        "    'leaf_probs': '0.75,0,0.25,0',\n",
        "    'max_len': 512,\n",
        "    'max_int': 5,\n",
        "    'max_ops': 15,\n",
        "    'max_ops_G': 15,\n",
        "    'clean_prefix_expr': True,\n",
        "    'rewrite_functions': '',\n",
        "    'tasks': 'prim_fwd',\n",
        "    'operators': 'add:10,sub:3,mul:10,div:5,sqrt:4,pow2:4,pow3:2,pow4:1,pow5:1,ln:4,exp:4,sin:4,cos:4,tan:4,asin:1,acos:1,atan:1,sinh:1,cosh:1,tanh:1,asinh:1,acosh:1,atanh:1',\n",
        "})"
      ],
      "execution_count": 14,
      "outputs": []
    },
    {
      "cell_type": "code",
      "metadata": {
        "id": "sjrigfFl4bce"
      },
      "source": [
        "env = build_env(params)         "
      ],
      "execution_count": 15,
      "outputs": []
    },
    {
      "cell_type": "code",
      "metadata": {
        "id": "OtoAgDxJA9Ap"
      },
      "source": [
        "def read_data(path):\n",
        "  with io.open(path, mode='r', encoding='utf-8') as f:\n",
        "    head = [next(f) for x in range(10000)]\n",
        "    lines = [line.rstrip().split('|') for line in head]\n",
        "    data = [xy.split('\\t') for _, xy in lines]\n",
        "    data = [xy for xy in data if len(xy) == 2]\n",
        "  return data\n",
        "\n",
        "path = 'prim_fwd.train'\n",
        "data = read_data(path)\n",
        "for i in range(len(data)):\n",
        "    data[i] = tuple([sent.split(\" \") for sent in data[i]])\n",
        "# data[0] would be like : \n",
        "# data[0]\n",
        "# [\"sub Y' pow x INT+ 2\", 'mul div INT+ 1 INT+ 3 pow x INT+ 3']"
      ],
      "execution_count": 16,
      "outputs": []
    },
    {
      "cell_type": "code",
      "metadata": {
        "id": "6dyubL4RDAwy"
      },
      "source": [
        "def batch_sequences(x, y, env):\n",
        "      \"\"\"\n",
        "      Take as input a list of n sequences (torch.LongTensor vectors) and return\n",
        "      a tensor of size (slen, n) where slen is the length of the longest\n",
        "      sentence, and a vector lengths containing the length of each sentence.\n",
        "      \"\"\"\n",
        "      lengths_x = torch.LongTensor([len(s) + 2 for s in x])\n",
        "      lengths_y = torch.LongTensor([len(s) + 2 for s in y])\n",
        "      max_length = max(lengths_x.max().item(), lengths_y.max().item())\n",
        "      sent_x = torch.LongTensor(max_length , lengths_x.size(0)).fill_(env.pad_index)\n",
        "      sent_y = torch.LongTensor(max_length, lengths_y.size(0)).fill_(env.pad_index)\n",
        "      assert lengths_x.min().item() > 2\n",
        "      assert lengths_y.min().item() > 2\n",
        "\n",
        "      sent_x[0] = env.eos_index\n",
        "      for i, s in enumerate(x):\n",
        "          sent_x[1:lengths_x[i] - 1, i].copy_(s)\n",
        "          sent_x[lengths_x[i] - 1, i] = env.eos_index\n",
        "\n",
        "      sent_y[0] = env.eos_index\n",
        "      for i, s in enumerate(y):\n",
        "          sent_y[1:lengths_y[i] - 1, i].copy_(s)\n",
        "          sent_y[lengths_y[i] - 1, i] = env.eos_index\n",
        "\n",
        "      return sent_x, sent_y, max_length\n",
        "\n",
        "def collate_fn(elements):\n",
        "    \"\"\"\n",
        "    Collate samples into a batch.\n",
        "    \"\"\"\n",
        "    x, y = zip(*elements)\n",
        "    nb_ops = [sum(int(word in env.OPERATORS) for word in seq) for seq in x]\n",
        "    x = [torch.LongTensor([env.word2id[w] for w in seq if w in env.word2id]) for seq in x]\n",
        "    y = [torch.LongTensor([env.word2id[w] for w in seq if w in env.word2id]) for seq in y]\n",
        "    x, y, length = batch_sequences(x, y, env)\n",
        "    return (x, length), (y, length), torch.LongTensor(nb_ops)"
      ],
      "execution_count": 17,
      "outputs": []
    },
    {
      "cell_type": "code",
      "metadata": {
        "id": "IjD04WFvEMR7"
      },
      "source": [
        "loader = DataLoader(data, batch_size = 1, shuffle= False, collate_fn=collate_fn)\n",
        "# loader.dataset"
      ],
      "execution_count": 18,
      "outputs": []
    },
    {
      "cell_type": "code",
      "metadata": {
        "id": "CLuoNsezE-6z",
        "colab": {
          "base_uri": "https://localhost:8080/"
        },
        "outputId": "08c80bbc-575d-4d8a-d0cf-fd94fa86bc63"
      },
      "source": [
        "# Go through one loop\n",
        "counter = 0\n",
        "for (x, x_len), (y, y_len), nb_ops in loader:\n",
        "  print(f\"Iteration {counter}\")\n",
        "  print(\"Batched Input:\")\n",
        "  print(x, x_len)\n",
        "  print(\"Batched Labels:\")\n",
        "  print(y, y_len)\n",
        "  print(\"Batched Lengths:\")\n",
        "  print(nb_ops)\n",
        "  print(\"\")\n",
        "  break"
      ],
      "execution_count": 19,
      "outputs": [
        {
          "output_type": "stream",
          "text": [
            "Iteration 0\n",
            "Batched Input:\n",
            "tensor([[ 0],\n",
            "        [67],\n",
            "        [79],\n",
            "        [12],\n",
            "        [ 0],\n",
            "        [ 1],\n",
            "        [ 1],\n",
            "        [ 1],\n",
            "        [ 1],\n",
            "        [ 1],\n",
            "        [ 1],\n",
            "        [ 1]]) 12\n",
            "Batched Labels:\n",
            "tensor([[ 0],\n",
            "        [54],\n",
            "        [47],\n",
            "        [71],\n",
            "        [82],\n",
            "        [71],\n",
            "        [83],\n",
            "        [55],\n",
            "        [12],\n",
            "        [71],\n",
            "        [83],\n",
            "        [ 0]]) 12\n",
            "Batched Lengths:\n",
            "tensor([1])\n",
            "\n"
          ],
          "name": "stdout"
        }
      ]
    },
    {
      "cell_type": "code",
      "metadata": {
        "colab": {
          "base_uri": "https://localhost:8080/"
        },
        "id": "u_rq-1BE8Iz8",
        "outputId": "9a57dd64-ad44-4393-ac5d-a9a222b27038"
      },
      "source": [
        "print('batched input shape:', x.shape)\n",
        "print('batched output shape:', y.shape)\n",
        "# each column is showing one training example"
      ],
      "execution_count": 20,
      "outputs": [
        {
          "output_type": "stream",
          "text": [
            "batched input shape: torch.Size([12, 1])\n",
            "batched output shape: torch.Size([12, 1])\n"
          ],
          "name": "stdout"
        }
      ]
    },
    {
      "cell_type": "code",
      "metadata": {
        "colab": {
          "base_uri": "https://localhost:8080/",
          "height": 171,
          "referenced_widgets": [
            "e67d8b45aaa541f3a54df0d49eeec19d",
            "bb4c8d0bb49c41e89af23d71ce9407ec",
            "1efb20caf328402196d7dfc83131b9a9",
            "a597222ba60249239ce6f237ba4b1e37",
            "cf57c51e9a7b422d889d7fbaa4a80df1",
            "458f25e8760f42108cef4c4a58fbb1a7",
            "8b1a8b145c864daba7ab80c5df9e647b",
            "581ea7bcde684a5480204208726f83a4",
            "8f4e81a1ef9f470d9c686a77e7905cc6",
            "b738aec6c76e4159af225195b5d59471",
            "9378921c436b4456b09e097b9d2e9b0f",
            "d3ce6afef1d340ad8fb7672c352ddc36",
            "8bc19188b9354cbf944fbaa5730d0d82",
            "c9cce77f35734e808d0e9ac917222c77",
            "ea07296b567d403fb78def0c284ad556",
            "0cfd71216d7c462484fe0779cd9ccae1"
          ]
        },
        "id": "yM4CtvOACS0Z",
        "outputId": "66841c86-13c9-4ca8-bd20-14a1c8b4f166"
      },
      "source": [
        "gpt2 = GPT2Model.from_pretrained('gpt2')\n",
        "in_layer = nn.Embedding(len(env.word2id), 768)\n",
        "out_layer = nn.Linear(768, len(env.word2id)) # or flattening or softmax or non-linear !\n",
        "# [1, 45, 76, 2, 4] = ['sin', 'sub',...]\n",
        "# sin     sub     cos     add\n",
        "# 0.9     0.05   0.05       0  -> sin 0.9 =  1/sum(1+45+...)\n",
        "# 0       0.8     0.2       0 -> sub"
      ],
      "execution_count": 21,
      "outputs": [
        {
          "output_type": "display_data",
          "data": {
            "application/vnd.jupyter.widget-view+json": {
              "model_id": "e67d8b45aaa541f3a54df0d49eeec19d",
              "version_minor": 0,
              "version_major": 2
            },
            "text/plain": [
              "HBox(children=(FloatProgress(value=0.0, description='Downloading', max=665.0, style=ProgressStyle(description_…"
            ]
          },
          "metadata": {
            "tags": []
          }
        },
        {
          "output_type": "stream",
          "text": [
            "\n"
          ],
          "name": "stdout"
        },
        {
          "output_type": "display_data",
          "data": {
            "application/vnd.jupyter.widget-view+json": {
              "model_id": "8f4e81a1ef9f470d9c686a77e7905cc6",
              "version_minor": 0,
              "version_major": 2
            },
            "text/plain": [
              "HBox(children=(FloatProgress(value=0.0, description='Downloading', max=548118077.0, style=ProgressStyle(descri…"
            ]
          },
          "metadata": {
            "tags": []
          }
        },
        {
          "output_type": "stream",
          "text": [
            "\n"
          ],
          "name": "stdout"
        },
        {
          "output_type": "stream",
          "text": [
            "Some weights of GPT2Model were not initialized from the model checkpoint at gpt2 and are newly initialized: ['h.0.attn.masked_bias', 'h.1.attn.masked_bias', 'h.2.attn.masked_bias', 'h.3.attn.masked_bias', 'h.4.attn.masked_bias', 'h.5.attn.masked_bias', 'h.6.attn.masked_bias', 'h.7.attn.masked_bias', 'h.8.attn.masked_bias', 'h.9.attn.masked_bias', 'h.10.attn.masked_bias', 'h.11.attn.masked_bias']\n",
            "You should probably TRAIN this model on a down-stream task to be able to use it for predictions and inference.\n"
          ],
          "name": "stderr"
        }
      ]
    },
    {
      "cell_type": "code",
      "metadata": {
        "id": "QNWEZguM_MRq"
      },
      "source": [
        "for name, param in gpt2.named_parameters():\n",
        "    # freeze all parameters except the layernorm and positional embeddings\n",
        "    if 'ln' in name or 'wpe' or 'attn' in name:\n",
        "        param.requires_grad = True\n",
        "    else:\n",
        "        param.requires_grad = False"
      ],
      "execution_count": 22,
      "outputs": []
    },
    {
      "cell_type": "code",
      "metadata": {
        "id": "jv6bpBJ4_SJJ"
      },
      "source": [
        "parameters = list(gpt2.parameters()) + list(in_layer.parameters()) + list(out_layer.parameters())\n",
        "optimizer = torch.optim.Adam(parameters, lr= 1e-4)\n",
        "loss_fn = nn.CrossEntropyLoss()"
      ],
      "execution_count": 23,
      "outputs": []
    },
    {
      "cell_type": "code",
      "metadata": {
        "id": "iqj_gRsgabPQ"
      },
      "source": [
        "for layer in (gpt2, in_layer, out_layer):\n",
        "    layer.to(device=device)\n",
        "    layer.train()"
      ],
      "execution_count": 24,
      "outputs": []
    },
    {
      "cell_type": "code",
      "metadata": {
        "id": "-OTvraO8fv8Z",
        "colab": {
          "base_uri": "https://localhost:8080/"
        },
        "outputId": "9d3a7e1e-4df9-45d6-a9e2-b2055235f6e9"
      },
      "source": [
        "batch_size = 1\n",
        "accuracies = list()\n",
        "for i in range(1):\n",
        "\n",
        "  for (x, x_len), (y, y_len), nb_ops in loader:\n",
        "\n",
        "      x = x.to(device = device)\n",
        "      y = y.to(device = device)\n",
        "      x = x.reshape(-1)\n",
        "      y = y.reshape(-1)\n",
        "\n",
        "      embeddings = in_layer(x.reshape(1, -1))\n",
        "      hidden_state = gpt2(inputs_embeds=embeddings).last_hidden_state[:, :]\n",
        "      logits = out_layer(hidden_state)[0]\n",
        "      loss = loss_fn(logits, y.reshape(-1))\n",
        "      accuracies.append((logits.argmax(dim=-1) == y.reshape(-1)).float().mean().item())\n",
        "\n",
        "      optimizer.zero_grad()\n",
        "      loss.backward()\n",
        "      optimizer.step()\n",
        "\n",
        "      if len(accuracies) % 500 == 0:\n",
        "          accuracy = sum(accuracies[-500:]) / len(accuracies[-500:])\n",
        "          print(f'Samples: {len(accuracies)}, Accuracy: {accuracy}')\n",
        "\n",
        "    \n",
        "print(f'Final accuracy: {sum(accuracies[-500:]) / len(accuracies[-500:])}')"
      ],
      "execution_count": 25,
      "outputs": [
        {
          "output_type": "stream",
          "text": [
            "Samples: 500, Accuracy: 0.27992099096626044\n",
            "Samples: 1000, Accuracy: 0.3018446253761649\n",
            "Samples: 1500, Accuracy: 0.32053146590292453\n",
            "Samples: 2000, Accuracy: 0.33168625304847954\n",
            "Samples: 2500, Accuracy: 0.3450699903070927\n",
            "Samples: 3000, Accuracy: 0.3429080805182457\n",
            "Samples: 3500, Accuracy: 0.33180725771188735\n",
            "Samples: 4000, Accuracy: 0.34912498396635055\n",
            "Samples: 4500, Accuracy: 0.3502140007168055\n",
            "Samples: 5000, Accuracy: 0.34043167004734276\n",
            "Samples: 5500, Accuracy: 0.34909772196412087\n",
            "Samples: 6000, Accuracy: 0.35880144103616474\n",
            "Samples: 6500, Accuracy: 0.37218450343608855\n",
            "Samples: 7000, Accuracy: 0.36606720093637707\n",
            "Samples: 7500, Accuracy: 0.3967018135525286\n",
            "Samples: 8000, Accuracy: 0.37700992634892466\n",
            "Samples: 8500, Accuracy: 0.3769231962412596\n",
            "Samples: 9000, Accuracy: 0.3825420660376549\n",
            "Samples: 9500, Accuracy: 0.4044523888081312\n",
            "Samples: 10000, Accuracy: 0.4025467271581292\n",
            "Final accuracy: 0.4025467271581292\n"
          ],
          "name": "stdout"
        }
      ]
    }
  ]
}