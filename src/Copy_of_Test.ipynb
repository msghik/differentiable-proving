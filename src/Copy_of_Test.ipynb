{
  "nbformat": 4,
  "nbformat_minor": 0,
  "metadata": {
    "colab": {
      "name": "Copy of Test.ipynb",
      "provenance": [],
      "collapsed_sections": []
    },
    "kernelspec": {
      "name": "python3",
      "display_name": "Python 3"
    },
    "language_info": {
      "name": "python"
    },
    "accelerator": "GPU",
    "widgets": {
      "application/vnd.jupyter.widget-state+json": {
        "dda3787965e04d968be73cc7663583d2": {
          "model_module": "@jupyter-widgets/controls",
          "model_name": "HBoxModel",
          "state": {
            "_view_name": "HBoxView",
            "_dom_classes": [],
            "_model_name": "HBoxModel",
            "_view_module": "@jupyter-widgets/controls",
            "_model_module_version": "1.5.0",
            "_view_count": null,
            "_view_module_version": "1.5.0",
            "box_style": "",
            "layout": "IPY_MODEL_42a4f7350eda430685f57850835c3b20",
            "_model_module": "@jupyter-widgets/controls",
            "children": [
              "IPY_MODEL_37cff5aaf8a840efba0d53e3f570f840",
              "IPY_MODEL_115cef10d3294fce862ca8b07b9bfd5d"
            ]
          }
        },
        "42a4f7350eda430685f57850835c3b20": {
          "model_module": "@jupyter-widgets/base",
          "model_name": "LayoutModel",
          "state": {
            "_view_name": "LayoutView",
            "grid_template_rows": null,
            "right": null,
            "justify_content": null,
            "_view_module": "@jupyter-widgets/base",
            "overflow": null,
            "_model_module_version": "1.2.0",
            "_view_count": null,
            "flex_flow": null,
            "width": null,
            "min_width": null,
            "border": null,
            "align_items": null,
            "bottom": null,
            "_model_module": "@jupyter-widgets/base",
            "top": null,
            "grid_column": null,
            "overflow_y": null,
            "overflow_x": null,
            "grid_auto_flow": null,
            "grid_area": null,
            "grid_template_columns": null,
            "flex": null,
            "_model_name": "LayoutModel",
            "justify_items": null,
            "grid_row": null,
            "max_height": null,
            "align_content": null,
            "visibility": null,
            "align_self": null,
            "height": null,
            "min_height": null,
            "padding": null,
            "grid_auto_rows": null,
            "grid_gap": null,
            "max_width": null,
            "order": null,
            "_view_module_version": "1.2.0",
            "grid_template_areas": null,
            "object_position": null,
            "object_fit": null,
            "grid_auto_columns": null,
            "margin": null,
            "display": null,
            "left": null
          }
        },
        "37cff5aaf8a840efba0d53e3f570f840": {
          "model_module": "@jupyter-widgets/controls",
          "model_name": "FloatProgressModel",
          "state": {
            "_view_name": "ProgressView",
            "style": "IPY_MODEL_c95012edab8a4a8fa2a0b3a2667ccfd2",
            "_dom_classes": [],
            "description": "Downloading: 100%",
            "_model_name": "FloatProgressModel",
            "bar_style": "success",
            "max": 665,
            "_view_module": "@jupyter-widgets/controls",
            "_model_module_version": "1.5.0",
            "value": 665,
            "_view_count": null,
            "_view_module_version": "1.5.0",
            "orientation": "horizontal",
            "min": 0,
            "description_tooltip": null,
            "_model_module": "@jupyter-widgets/controls",
            "layout": "IPY_MODEL_c56be0636a0244e29e096f80cd12b799"
          }
        },
        "115cef10d3294fce862ca8b07b9bfd5d": {
          "model_module": "@jupyter-widgets/controls",
          "model_name": "HTMLModel",
          "state": {
            "_view_name": "HTMLView",
            "style": "IPY_MODEL_ded0935becd041a78450de4726961807",
            "_dom_classes": [],
            "description": "",
            "_model_name": "HTMLModel",
            "placeholder": "​",
            "_view_module": "@jupyter-widgets/controls",
            "_model_module_version": "1.5.0",
            "value": " 665/665 [00:12&lt;00:00, 53.8B/s]",
            "_view_count": null,
            "_view_module_version": "1.5.0",
            "description_tooltip": null,
            "_model_module": "@jupyter-widgets/controls",
            "layout": "IPY_MODEL_a68e06eb530b4572add86fb81317d2c1"
          }
        },
        "c95012edab8a4a8fa2a0b3a2667ccfd2": {
          "model_module": "@jupyter-widgets/controls",
          "model_name": "ProgressStyleModel",
          "state": {
            "_view_name": "StyleView",
            "_model_name": "ProgressStyleModel",
            "description_width": "initial",
            "_view_module": "@jupyter-widgets/base",
            "_model_module_version": "1.5.0",
            "_view_count": null,
            "_view_module_version": "1.2.0",
            "bar_color": null,
            "_model_module": "@jupyter-widgets/controls"
          }
        },
        "c56be0636a0244e29e096f80cd12b799": {
          "model_module": "@jupyter-widgets/base",
          "model_name": "LayoutModel",
          "state": {
            "_view_name": "LayoutView",
            "grid_template_rows": null,
            "right": null,
            "justify_content": null,
            "_view_module": "@jupyter-widgets/base",
            "overflow": null,
            "_model_module_version": "1.2.0",
            "_view_count": null,
            "flex_flow": null,
            "width": null,
            "min_width": null,
            "border": null,
            "align_items": null,
            "bottom": null,
            "_model_module": "@jupyter-widgets/base",
            "top": null,
            "grid_column": null,
            "overflow_y": null,
            "overflow_x": null,
            "grid_auto_flow": null,
            "grid_area": null,
            "grid_template_columns": null,
            "flex": null,
            "_model_name": "LayoutModel",
            "justify_items": null,
            "grid_row": null,
            "max_height": null,
            "align_content": null,
            "visibility": null,
            "align_self": null,
            "height": null,
            "min_height": null,
            "padding": null,
            "grid_auto_rows": null,
            "grid_gap": null,
            "max_width": null,
            "order": null,
            "_view_module_version": "1.2.0",
            "grid_template_areas": null,
            "object_position": null,
            "object_fit": null,
            "grid_auto_columns": null,
            "margin": null,
            "display": null,
            "left": null
          }
        },
        "ded0935becd041a78450de4726961807": {
          "model_module": "@jupyter-widgets/controls",
          "model_name": "DescriptionStyleModel",
          "state": {
            "_view_name": "StyleView",
            "_model_name": "DescriptionStyleModel",
            "description_width": "",
            "_view_module": "@jupyter-widgets/base",
            "_model_module_version": "1.5.0",
            "_view_count": null,
            "_view_module_version": "1.2.0",
            "_model_module": "@jupyter-widgets/controls"
          }
        },
        "a68e06eb530b4572add86fb81317d2c1": {
          "model_module": "@jupyter-widgets/base",
          "model_name": "LayoutModel",
          "state": {
            "_view_name": "LayoutView",
            "grid_template_rows": null,
            "right": null,
            "justify_content": null,
            "_view_module": "@jupyter-widgets/base",
            "overflow": null,
            "_model_module_version": "1.2.0",
            "_view_count": null,
            "flex_flow": null,
            "width": null,
            "min_width": null,
            "border": null,
            "align_items": null,
            "bottom": null,
            "_model_module": "@jupyter-widgets/base",
            "top": null,
            "grid_column": null,
            "overflow_y": null,
            "overflow_x": null,
            "grid_auto_flow": null,
            "grid_area": null,
            "grid_template_columns": null,
            "flex": null,
            "_model_name": "LayoutModel",
            "justify_items": null,
            "grid_row": null,
            "max_height": null,
            "align_content": null,
            "visibility": null,
            "align_self": null,
            "height": null,
            "min_height": null,
            "padding": null,
            "grid_auto_rows": null,
            "grid_gap": null,
            "max_width": null,
            "order": null,
            "_view_module_version": "1.2.0",
            "grid_template_areas": null,
            "object_position": null,
            "object_fit": null,
            "grid_auto_columns": null,
            "margin": null,
            "display": null,
            "left": null
          }
        },
        "33178dc090ca42e2b3bffec08fdc2c00": {
          "model_module": "@jupyter-widgets/controls",
          "model_name": "HBoxModel",
          "state": {
            "_view_name": "HBoxView",
            "_dom_classes": [],
            "_model_name": "HBoxModel",
            "_view_module": "@jupyter-widgets/controls",
            "_model_module_version": "1.5.0",
            "_view_count": null,
            "_view_module_version": "1.5.0",
            "box_style": "",
            "layout": "IPY_MODEL_b661d533bfa644ebb4158647c5ad787d",
            "_model_module": "@jupyter-widgets/controls",
            "children": [
              "IPY_MODEL_9bf4ef65410249949e85cff7e6631184",
              "IPY_MODEL_5cc9819954714a718d78ffc089bab1a4"
            ]
          }
        },
        "b661d533bfa644ebb4158647c5ad787d": {
          "model_module": "@jupyter-widgets/base",
          "model_name": "LayoutModel",
          "state": {
            "_view_name": "LayoutView",
            "grid_template_rows": null,
            "right": null,
            "justify_content": null,
            "_view_module": "@jupyter-widgets/base",
            "overflow": null,
            "_model_module_version": "1.2.0",
            "_view_count": null,
            "flex_flow": null,
            "width": null,
            "min_width": null,
            "border": null,
            "align_items": null,
            "bottom": null,
            "_model_module": "@jupyter-widgets/base",
            "top": null,
            "grid_column": null,
            "overflow_y": null,
            "overflow_x": null,
            "grid_auto_flow": null,
            "grid_area": null,
            "grid_template_columns": null,
            "flex": null,
            "_model_name": "LayoutModel",
            "justify_items": null,
            "grid_row": null,
            "max_height": null,
            "align_content": null,
            "visibility": null,
            "align_self": null,
            "height": null,
            "min_height": null,
            "padding": null,
            "grid_auto_rows": null,
            "grid_gap": null,
            "max_width": null,
            "order": null,
            "_view_module_version": "1.2.0",
            "grid_template_areas": null,
            "object_position": null,
            "object_fit": null,
            "grid_auto_columns": null,
            "margin": null,
            "display": null,
            "left": null
          }
        },
        "9bf4ef65410249949e85cff7e6631184": {
          "model_module": "@jupyter-widgets/controls",
          "model_name": "FloatProgressModel",
          "state": {
            "_view_name": "ProgressView",
            "style": "IPY_MODEL_c9c1df75883f47f4b01e9406d96d0611",
            "_dom_classes": [],
            "description": "Downloading: 100%",
            "_model_name": "FloatProgressModel",
            "bar_style": "success",
            "max": 548118077,
            "_view_module": "@jupyter-widgets/controls",
            "_model_module_version": "1.5.0",
            "value": 548118077,
            "_view_count": null,
            "_view_module_version": "1.5.0",
            "orientation": "horizontal",
            "min": 0,
            "description_tooltip": null,
            "_model_module": "@jupyter-widgets/controls",
            "layout": "IPY_MODEL_de9d3b210fbe41a3b9e9a29ae8b71a37"
          }
        },
        "5cc9819954714a718d78ffc089bab1a4": {
          "model_module": "@jupyter-widgets/controls",
          "model_name": "HTMLModel",
          "state": {
            "_view_name": "HTMLView",
            "style": "IPY_MODEL_b25fd93571794ba4896f807f7bb8d106",
            "_dom_classes": [],
            "description": "",
            "_model_name": "HTMLModel",
            "placeholder": "​",
            "_view_module": "@jupyter-widgets/controls",
            "_model_module_version": "1.5.0",
            "value": " 548M/548M [00:12&lt;00:00, 45.0MB/s]",
            "_view_count": null,
            "_view_module_version": "1.5.0",
            "description_tooltip": null,
            "_model_module": "@jupyter-widgets/controls",
            "layout": "IPY_MODEL_8a33b34598a348e7afd005a415a6db5a"
          }
        },
        "c9c1df75883f47f4b01e9406d96d0611": {
          "model_module": "@jupyter-widgets/controls",
          "model_name": "ProgressStyleModel",
          "state": {
            "_view_name": "StyleView",
            "_model_name": "ProgressStyleModel",
            "description_width": "initial",
            "_view_module": "@jupyter-widgets/base",
            "_model_module_version": "1.5.0",
            "_view_count": null,
            "_view_module_version": "1.2.0",
            "bar_color": null,
            "_model_module": "@jupyter-widgets/controls"
          }
        },
        "de9d3b210fbe41a3b9e9a29ae8b71a37": {
          "model_module": "@jupyter-widgets/base",
          "model_name": "LayoutModel",
          "state": {
            "_view_name": "LayoutView",
            "grid_template_rows": null,
            "right": null,
            "justify_content": null,
            "_view_module": "@jupyter-widgets/base",
            "overflow": null,
            "_model_module_version": "1.2.0",
            "_view_count": null,
            "flex_flow": null,
            "width": null,
            "min_width": null,
            "border": null,
            "align_items": null,
            "bottom": null,
            "_model_module": "@jupyter-widgets/base",
            "top": null,
            "grid_column": null,
            "overflow_y": null,
            "overflow_x": null,
            "grid_auto_flow": null,
            "grid_area": null,
            "grid_template_columns": null,
            "flex": null,
            "_model_name": "LayoutModel",
            "justify_items": null,
            "grid_row": null,
            "max_height": null,
            "align_content": null,
            "visibility": null,
            "align_self": null,
            "height": null,
            "min_height": null,
            "padding": null,
            "grid_auto_rows": null,
            "grid_gap": null,
            "max_width": null,
            "order": null,
            "_view_module_version": "1.2.0",
            "grid_template_areas": null,
            "object_position": null,
            "object_fit": null,
            "grid_auto_columns": null,
            "margin": null,
            "display": null,
            "left": null
          }
        },
        "b25fd93571794ba4896f807f7bb8d106": {
          "model_module": "@jupyter-widgets/controls",
          "model_name": "DescriptionStyleModel",
          "state": {
            "_view_name": "StyleView",
            "_model_name": "DescriptionStyleModel",
            "description_width": "",
            "_view_module": "@jupyter-widgets/base",
            "_model_module_version": "1.5.0",
            "_view_count": null,
            "_view_module_version": "1.2.0",
            "_model_module": "@jupyter-widgets/controls"
          }
        },
        "8a33b34598a348e7afd005a415a6db5a": {
          "model_module": "@jupyter-widgets/base",
          "model_name": "LayoutModel",
          "state": {
            "_view_name": "LayoutView",
            "grid_template_rows": null,
            "right": null,
            "justify_content": null,
            "_view_module": "@jupyter-widgets/base",
            "overflow": null,
            "_model_module_version": "1.2.0",
            "_view_count": null,
            "flex_flow": null,
            "width": null,
            "min_width": null,
            "border": null,
            "align_items": null,
            "bottom": null,
            "_model_module": "@jupyter-widgets/base",
            "top": null,
            "grid_column": null,
            "overflow_y": null,
            "overflow_x": null,
            "grid_auto_flow": null,
            "grid_area": null,
            "grid_template_columns": null,
            "flex": null,
            "_model_name": "LayoutModel",
            "justify_items": null,
            "grid_row": null,
            "max_height": null,
            "align_content": null,
            "visibility": null,
            "align_self": null,
            "height": null,
            "min_height": null,
            "padding": null,
            "grid_auto_rows": null,
            "grid_gap": null,
            "max_width": null,
            "order": null,
            "_view_module_version": "1.2.0",
            "grid_template_areas": null,
            "object_position": null,
            "object_fit": null,
            "grid_auto_columns": null,
            "margin": null,
            "display": null,
            "left": null
          }
        }
      }
    }
  },
  "cells": [
    {
      "cell_type": "code",
      "metadata": {
        "id": "ej9DcbIzExkt"
      },
      "source": [
        "!pip install transformers"
      ],
      "execution_count": null,
      "outputs": []
    },
    {
      "cell_type": "code",
      "metadata": {
        "colab": {
          "base_uri": "https://localhost:8080/"
        },
        "id": "qFecxNS10h9F",
        "outputId": "f7369a89-92b7-45fb-e8ab-36bc6e8c82ac"
      },
      "source": [
        "from google.colab import drive\n",
        "drive.mount('/content/drive')"
      ],
      "execution_count": 3,
      "outputs": [
        {
          "output_type": "stream",
          "text": [
            "Mounted at /content/drive\n"
          ],
          "name": "stdout"
        }
      ]
    },
    {
      "cell_type": "code",
      "metadata": {
        "colab": {
          "base_uri": "https://localhost:8080/"
        },
        "id": "-uu92TqU03DT",
        "outputId": "9500951f-acd8-458f-b6b5-182ab864ad00"
      },
      "source": [
        "%cd 'drive/My Drive/SymbolicMath/'"
      ],
      "execution_count": 4,
      "outputs": [
        {
          "output_type": "stream",
          "text": [
            "/content/drive/My Drive/SymbolicMath\n"
          ],
          "name": "stdout"
        }
      ]
    },
    {
      "cell_type": "code",
      "metadata": {
        "id": "_vBfzwKk05aj"
      },
      "source": [
        "import os\n",
        "import io\n",
        "import numpy as np\n",
        "import sympy as sp\n",
        "import torch\n",
        "\n",
        "from src.utils import AttrDict\n",
        "from src.envs import build_env\n",
        "from src.model import build_modules\n",
        "\n",
        "from src.utils import to_cuda\n",
        "from src.envs.sympy_utils import simplify\n",
        "\n",
        "from torch.utils.data import DataLoader\n",
        "from functools import partial\n",
        "\n",
        "from transformers.models.gpt2.modeling_gpt2 import GPT2Model\n",
        "\n",
        "import matplotlib.pyplot as plt\n",
        "import torch.nn as nn\n",
        "import torch.nn.functional as F"
      ],
      "execution_count": 5,
      "outputs": []
    },
    {
      "cell_type": "code",
      "metadata": {
        "id": "AcO_qC0Y09PM"
      },
      "source": [
        "params = params = AttrDict({\n",
        "\n",
        "    # environment parameters\n",
        "    'env_name': 'char_sp',\n",
        "    'int_base': 10,\n",
        "    'balanced': False,\n",
        "    'positive': True,\n",
        "    'precision': 10,\n",
        "    'n_variables': 1,\n",
        "    'n_coefficients': 0,\n",
        "    'leaf_probs': '0.75,0,0.25,0',\n",
        "    'max_len': 512,\n",
        "    'max_int': 5,\n",
        "    'max_ops': 15,\n",
        "    'max_ops_G': 15,\n",
        "    'clean_prefix_expr': True,\n",
        "    'rewrite_functions': '',\n",
        "    'tasks': 'prim_fwd',\n",
        "    'operators': 'add:10,sub:3,mul:10,div:5,sqrt:4,pow2:4,pow3:2,pow4:1,pow5:1,ln:4,exp:4,sin:4,cos:4,tan:4,asin:1,acos:1,atan:1,sinh:1,cosh:1,tanh:1,asinh:1,acosh:1,atanh:1',\n",
        "})"
      ],
      "execution_count": 6,
      "outputs": []
    },
    {
      "cell_type": "code",
      "metadata": {
        "id": "sjrigfFl4bce"
      },
      "source": [
        "env = build_env(params)         "
      ],
      "execution_count": 7,
      "outputs": []
    },
    {
      "cell_type": "code",
      "metadata": {
        "id": "OtoAgDxJA9Ap"
      },
      "source": [
        "def read_data(path):\n",
        "  with io.open(path, mode='r', encoding='utf-8') as f:\n",
        "    lines = [line.rstrip().split('|') for line in f]\n",
        "    data = [xy.split('\\t') for _, xy in lines]\n",
        "    data = [xy for xy in data if len(xy) == 2]\n",
        "  return data\n",
        "\n",
        "path = 'data/prim_fwd.txt'\n",
        "data = read_data(path)\n",
        "for i in range(len(data)):\n",
        "    data[i] = tuple([sent.split(\" \") for sent in data[i]])\n",
        "# data[0] would be like : \n",
        "# data[0]\n",
        "# [\"sub Y' pow x INT+ 2\", 'mul div INT+ 1 INT+ 3 pow x INT+ 3']"
      ],
      "execution_count": 8,
      "outputs": []
    },
    {
      "cell_type": "code",
      "metadata": {
        "id": "6dyubL4RDAwy"
      },
      "source": [
        "def batch_sequences(x, y, env):\n",
        "      \"\"\"\n",
        "      Take as input a list of n sequences (torch.LongTensor vectors) and return\n",
        "      a tensor of size (slen, n) where slen is the length of the longest\n",
        "      sentence, and a vector lengths containing the length of each sentence.\n",
        "      \"\"\"\n",
        "      lengths_x = torch.LongTensor([len(s) + 2 for s in x])\n",
        "      lengths_y = torch.LongTensor([len(s) + 2 for s in y])\n",
        "      max_length = max(lengths_x.max().item(), lengths_y.max().item())\n",
        "      sent_x = torch.LongTensor(max_length , lengths_x.size(0)).fill_(env.pad_index)\n",
        "      sent_y = torch.LongTensor(max_length, lengths_y.size(0)).fill_(env.pad_index)\n",
        "      assert lengths_x.min().item() > 2\n",
        "      assert lengths_y.min().item() > 2\n",
        "\n",
        "      sent_x[0] = env.eos_index\n",
        "      for i, s in enumerate(x):\n",
        "          sent_x[1:lengths_x[i] - 1, i].copy_(s)\n",
        "          sent_x[lengths_x[i] - 1, i] = env.eos_index\n",
        "\n",
        "      sent_y[0] = env.eos_index\n",
        "      for i, s in enumerate(y):\n",
        "          sent_y[1:lengths_y[i] - 1, i].copy_(s)\n",
        "          sent_y[lengths_y[i] - 1, i] = env.eos_index\n",
        "\n",
        "      return sent_x, sent_y, max_length\n",
        "\n",
        "def collate_fn(elements):\n",
        "    \"\"\"\n",
        "    Collate samples into a batch.\n",
        "    \"\"\"\n",
        "    x, y = zip(*elements)\n",
        "    nb_ops = [sum(int(word in env.OPERATORS) for word in seq) for seq in x]\n",
        "    x = [torch.LongTensor([env.word2id[w] for w in seq if w in env.word2id]) for seq in x]\n",
        "    y = [torch.LongTensor([env.word2id[w] for w in seq if w in env.word2id]) for seq in y]\n",
        "    x, y, length = batch_sequences(x, y, env)\n",
        "    return (x, length), (y, length), torch.LongTensor(nb_ops)"
      ],
      "execution_count": 9,
      "outputs": []
    },
    {
      "cell_type": "code",
      "metadata": {
        "id": "IjD04WFvEMR7"
      },
      "source": [
        "loader = DataLoader(data, batch_size = 1, shuffle= False, collate_fn=collate_fn)\n",
        "# loader.dataset"
      ],
      "execution_count": 10,
      "outputs": []
    },
    {
      "cell_type": "code",
      "metadata": {
        "id": "CLuoNsezE-6z",
        "colab": {
          "base_uri": "https://localhost:8080/"
        },
        "outputId": "3026fa64-c387-4b1a-d727-cd62d1768404"
      },
      "source": [
        "# Go through one loop\n",
        "counter = 0\n",
        "for (x, x_len), (y, y_len), nb_ops in loader:\n",
        "  print(f\"Iteration {counter}\")\n",
        "  print(\"Batched Input:\")\n",
        "  print(x, x_len)\n",
        "  print(\"Batched Labels:\")\n",
        "  print(y, y_len)\n",
        "  print(\"Batched Lengths:\")\n",
        "  print(nb_ops)\n",
        "  print(\"\")\n",
        "  break"
      ],
      "execution_count": 11,
      "outputs": [
        {
          "output_type": "stream",
          "text": [
            "Iteration 0\n",
            "Batched Input:\n",
            "tensor([[ 0],\n",
            "        [67],\n",
            "        [79],\n",
            "        [55],\n",
            "        [12],\n",
            "        [71],\n",
            "        [83],\n",
            "        [ 0],\n",
            "        [ 1],\n",
            "        [ 1],\n",
            "        [ 1],\n",
            "        [ 1]]) 12\n",
            "Batched Labels:\n",
            "tensor([[ 0],\n",
            "        [54],\n",
            "        [47],\n",
            "        [71],\n",
            "        [82],\n",
            "        [71],\n",
            "        [84],\n",
            "        [55],\n",
            "        [12],\n",
            "        [71],\n",
            "        [84],\n",
            "        [ 0]]) 12\n",
            "Batched Lengths:\n",
            "tensor([2])\n",
            "\n"
          ],
          "name": "stdout"
        }
      ]
    },
    {
      "cell_type": "code",
      "metadata": {
        "colab": {
          "base_uri": "https://localhost:8080/"
        },
        "id": "u_rq-1BE8Iz8",
        "outputId": "74e4173f-6470-4714-9747-716f41ea976a"
      },
      "source": [
        "print('batched input shape:', x.shape)\n",
        "print('batched output shape:', y.shape)\n",
        "# each column is showing one training example"
      ],
      "execution_count": 12,
      "outputs": [
        {
          "output_type": "stream",
          "text": [
            "batched input shape: torch.Size([12, 1])\n",
            "batched output shape: torch.Size([12, 1])\n"
          ],
          "name": "stdout"
        }
      ]
    },
    {
      "cell_type": "code",
      "metadata": {
        "colab": {
          "base_uri": "https://localhost:8080/",
          "height": 171,
          "referenced_widgets": [
            "dda3787965e04d968be73cc7663583d2",
            "42a4f7350eda430685f57850835c3b20",
            "37cff5aaf8a840efba0d53e3f570f840",
            "115cef10d3294fce862ca8b07b9bfd5d",
            "c95012edab8a4a8fa2a0b3a2667ccfd2",
            "c56be0636a0244e29e096f80cd12b799",
            "ded0935becd041a78450de4726961807",
            "a68e06eb530b4572add86fb81317d2c1",
            "33178dc090ca42e2b3bffec08fdc2c00",
            "b661d533bfa644ebb4158647c5ad787d",
            "9bf4ef65410249949e85cff7e6631184",
            "5cc9819954714a718d78ffc089bab1a4",
            "c9c1df75883f47f4b01e9406d96d0611",
            "de9d3b210fbe41a3b9e9a29ae8b71a37",
            "b25fd93571794ba4896f807f7bb8d106",
            "8a33b34598a348e7afd005a415a6db5a"
          ]
        },
        "id": "yM4CtvOACS0Z",
        "outputId": "0fc56dd4-3473-4f37-afe0-10e6023f5f48"
      },
      "source": [
        "gpt2 = GPT2Model.from_pretrained('gpt2')\n",
        "in_layer = nn.Embedding(len(env.word2id), 768)\n",
        "out_layer = nn.Linear(768, len(env.word2id)) # or flattening or softmax or non-linear !\n",
        "# [1, 45, 76, 2, 4] = ['sin', 'sub',...]\n",
        "# sin     sub     cos     add\n",
        "# 0.9     0.05   0.05       0  -> sin 0.9 =  1/sum(1+45+...)\n",
        "# 0       0.8     0.2       0 -> sub"
      ],
      "execution_count": 13,
      "outputs": [
        {
          "output_type": "display_data",
          "data": {
            "application/vnd.jupyter.widget-view+json": {
              "model_id": "dda3787965e04d968be73cc7663583d2",
              "version_minor": 0,
              "version_major": 2
            },
            "text/plain": [
              "HBox(children=(FloatProgress(value=0.0, description='Downloading', max=665.0, style=ProgressStyle(description_…"
            ]
          },
          "metadata": {
            "tags": []
          }
        },
        {
          "output_type": "stream",
          "text": [
            "\n"
          ],
          "name": "stdout"
        },
        {
          "output_type": "display_data",
          "data": {
            "application/vnd.jupyter.widget-view+json": {
              "model_id": "33178dc090ca42e2b3bffec08fdc2c00",
              "version_minor": 0,
              "version_major": 2
            },
            "text/plain": [
              "HBox(children=(FloatProgress(value=0.0, description='Downloading', max=548118077.0, style=ProgressStyle(descri…"
            ]
          },
          "metadata": {
            "tags": []
          }
        },
        {
          "output_type": "stream",
          "text": [
            "\n"
          ],
          "name": "stdout"
        },
        {
          "output_type": "stream",
          "text": [
            "Some weights of GPT2Model were not initialized from the model checkpoint at gpt2 and are newly initialized: ['h.0.attn.masked_bias', 'h.1.attn.masked_bias', 'h.2.attn.masked_bias', 'h.3.attn.masked_bias', 'h.4.attn.masked_bias', 'h.5.attn.masked_bias', 'h.6.attn.masked_bias', 'h.7.attn.masked_bias', 'h.8.attn.masked_bias', 'h.9.attn.masked_bias', 'h.10.attn.masked_bias', 'h.11.attn.masked_bias']\n",
            "You should probably TRAIN this model on a down-stream task to be able to use it for predictions and inference.\n"
          ],
          "name": "stderr"
        }
      ]
    },
    {
      "cell_type": "code",
      "metadata": {
        "id": "QNWEZguM_MRq"
      },
      "source": [
        "for name, param in gpt2.named_parameters():\n",
        "    # freeze all parameters except the layernorm and positional embeddings\n",
        "    if 'ln' in name or 'wpe' in name:\n",
        "        param.requires_grad = True\n",
        "    else:\n",
        "        param.requires_grad = False"
      ],
      "execution_count": 14,
      "outputs": []
    },
    {
      "cell_type": "code",
      "metadata": {
        "id": "jv6bpBJ4_SJJ"
      },
      "source": [
        "parameters = list(gpt2.parameters()) + list(in_layer.parameters()) + list(out_layer.parameters())\n",
        "optimizer = torch.optim.Adam(parameters)\n",
        "loss_fn = nn.CrossEntropyLoss()"
      ],
      "execution_count": 15,
      "outputs": []
    },
    {
      "cell_type": "code",
      "metadata": {
        "id": "vAnX8k-x_bFz"
      },
      "source": [
        "gpt2.train()"
      ],
      "execution_count": null,
      "outputs": []
    },
    {
      "cell_type": "code",
      "metadata": {
        "colab": {
          "base_uri": "https://localhost:8080/"
        },
        "id": "-OTvraO8fv8Z",
        "outputId": "a599f088-5aa7-4d3d-ad07-3d31ee7bc8f9"
      },
      "source": [
        "accuracies = [0]\n",
        "for i in range(1):\n",
        "  for (x, x_len), (y, y_len), nb_ops in loader:\n",
        "    \n",
        "\n",
        "    embeddings = in_layer(x.reshape(1, -1))\n",
        "    hidden_state = gpt2(inputs_embeds=embeddings).last_hidden_state[:,:]\n",
        "    logits = out_layer(hidden_state)[0]\n",
        "    loss = loss_fn(logits, y.reshape(y.shape[0]))\n",
        "    accuracies.append((logits.argmax(dim=-1) == y).float().mean().item())\n",
        "    \n",
        "    optimizer.zero_grad()\n",
        "    loss.backward()\n",
        "    optimizer.step()\n",
        "    \n",
        "    if len(accuracies) % 500 == 0:\n",
        "        accuracy = sum(accuracies[-50:]) / len(accuracies[-50:])\n",
        "        print(f'Samples: {len(accuracies)}, Accuracy: {accuracy}')\n",
        "\n",
        "print(logits)\n",
        "print(f'Final accuracy: {sum(accuracies[-50:]) / len(accuracies[-50:])}')"
      ],
      "execution_count": null,
      "outputs": [
        {
          "output_type": "stream",
          "text": [
            "Samples: 500, Accuracy: 0.15681968502700327\n",
            "Samples: 1000, Accuracy: 0.1514055250585079\n",
            "Samples: 1500, Accuracy: 0.1552836614847183\n",
            "Samples: 2000, Accuracy: 0.1563722763955593\n",
            "Samples: 2500, Accuracy: 0.15793828621506692\n",
            "Samples: 3000, Accuracy: 0.16451108381152152\n",
            "Samples: 3500, Accuracy: 0.16118432253599166\n",
            "Samples: 4000, Accuracy: 0.15965753987431527\n",
            "Samples: 4500, Accuracy: 0.16694871321320534\n",
            "Samples: 5000, Accuracy: 0.16496753722429275\n",
            "Samples: 5500, Accuracy: 0.15355916753411292\n",
            "Samples: 6000, Accuracy: 0.1576635929942131\n",
            "Samples: 6500, Accuracy: 0.15833686619997026\n",
            "Samples: 7000, Accuracy: 0.1589607486128807\n",
            "Samples: 7500, Accuracy: 0.1527660835534334\n",
            "Samples: 8000, Accuracy: 0.17186280868947507\n",
            "Samples: 8500, Accuracy: 0.14915502503514289\n",
            "Samples: 9000, Accuracy: 0.15372418180108072\n",
            "Samples: 9500, Accuracy: 0.1604457101225853\n"
          ],
          "name": "stdout"
        }
      ]
    },
    {
      "cell_type": "code",
      "metadata": {
        "colab": {
          "base_uri": "https://localhost:8080/"
        },
        "id": "yY7BUwrPoxGg",
        "outputId": "454c2be9-912b-4cc0-fab6-61aa47cfbb46"
      },
      "source": [
        "y.shape"
      ],
      "execution_count": 18,
      "outputs": [
        {
          "output_type": "execute_result",
          "data": {
            "text/plain": [
              "torch.Size([23, 1])"
            ]
          },
          "metadata": {
            "tags": []
          },
          "execution_count": 18
        }
      ]
    },
    {
      "cell_type": "code",
      "metadata": {
        "colab": {
          "base_uri": "https://localhost:8080/"
        },
        "id": "15IdfOc_oyh4",
        "outputId": "b7236e88-19d7-4927-f61e-2dd0c530cba8"
      },
      "source": [
        "logits.shape"
      ],
      "execution_count": 19,
      "outputs": [
        {
          "output_type": "execute_result",
          "data": {
            "text/plain": [
              "torch.Size([23, 91])"
            ]
          },
          "metadata": {
            "tags": []
          },
          "execution_count": 19
        }
      ]
    }
  ]
}